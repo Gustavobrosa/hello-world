{
 "cells": [
  {
   "cell_type": "markdown",
   "metadata": {},
   "source": [
    "## o arquivo contendo a lista de canais completo pode ser baixado de\n",
    "http://meumd.com/get.php?username=19997402087&password=6Kwow93a&type=m3u_plus&output=ts"
   ]
  },
  {
   "cell_type": "code",
   "execution_count": 1,
   "metadata": {},
   "outputs": [],
   "source": [
    "import os,re\n",
    "arq = open('/home//gustavo//Downloads//tv_channels_19997402087_plus.m3u', 'r')\n",
    "#arq = open('/home//gustavo//Downloads//tv_channels_simp3.m3u', 'r')\n",
    "texto = arq.read()\n",
    "#texto[:100]"
   ]
  },
  {
   "cell_type": "code",
   "execution_count": 2,
   "metadata": {},
   "outputs": [],
   "source": [
    "# Lista com os canais interessantes na ordem que me interessa\n",
    "canais_de_interesse = '''SPORTV 4\n",
    "TCM, FILM & ART,\n",
    "'''\n"
   ]
  },
  {
   "cell_type": "code",
   "execution_count": 3,
   "metadata": {
    "tags": []
   },
   "outputs": [
    {
     "name": "stdout",
     "output_type": "stream",
     "text": [
      "match: 76985\n",
      "lista_canais: 62148\n",
      "lista_group_title: 76986\n"
     ]
    }
   ],
   "source": [
    "#pattern = re.compile('#EXTINF:(.*?\\\\n.*?)\\\\n')\n",
    "#match = pattern.findall(texto)\n",
    "match = re.compile('#EXTINF:(.*?\\\\n.*?)\\\\n').findall(texto)\n",
    "lista_canais = re.compile('tvg-name=\\W(.{5,30})\\W\\stvg').findall(texto)\n",
    "lista_group_title = re.compile('group-title=\"(.*)\",').findall(texto)\n",
    "print ('match:',len(match))\n",
    "print('lista_canais:', len(lista_canais))\n",
    "print('lista_group_title:', len(lista_group_title))\n"
   ]
  },
  {
   "cell_type": "code",
   "execution_count": 4,
   "metadata": {},
   "outputs": [
    {
     "name": "stdout",
     "output_type": "stream",
     "text": [
      "80 ['SÉRIES | DESENHOS', 'SÉRIES | DISNEY + DESENHOS']\n"
     ]
    }
   ],
   "source": [
    "final_new_menu = list(set(lista_group_title))\n",
    "print(len(final_new_menu), final_new_menu[78:])"
   ]
  },
  {
   "cell_type": "code",
   "execution_count": 5,
   "metadata": {},
   "outputs": [],
   "source": [
    "tipos = ['aberto','sport','formula','iternac','comed','filme','serie','telecine','variado',\n",
    "'cultur','globo eptv campinas','legendado']"
   ]
  },
  {
   "cell_type": "code",
   "execution_count": 107,
   "metadata": {},
   "outputs": [
    {
     "name": "stdout",
     "output_type": "stream",
     "text": [
      "233,449,1217,1218,1564,1567,1570,1796,1800,1883,1884,1885,2030,2032,2033,2034,2035,2036,2038,2041,2736,2780,4324,4683,4753,4754,4755,4757,4761,4932,5517,5518,5561,5762,5774,5810,5814,5817,5821,5833,5834,5836,5838,5839,5840,5841,5858,5860,5863,5866,5869,5872,5873,5874,5875,5880,5881,5883,5884,5892,6345,6369,6370,6371,6372,6556,6597,6602,6608,6611,6619,6671,6673,6698,6817,6817,6820,6820,6823,6823,6827,6827,6828,6828,6831,6831,6834,6834,6837,6837,6840,6840,6843,6843,6845,6845,6845,6845,6849,6849,6849,6849,6852,6852,6852,6852,6855,6855,6855,6855,6858,6858,6858,6858,6861,6861,6861,6861,6865,6865,6868,6868,6871,6871,6874,6874,6877,6877,6877,6877,6883,6887,6956,6956,6958,6958,6959,6959,6978,7110,7145,7146,7147,7148,7180,7184,7187,7191,7194,7199,7203,7205,7207,7212,7213,7219,7219,7220,7223,7226,7261,7262,7281,7288,7294,7297,7304,7304,7306,\n",
      "lista_resumida: 138  lista_legendados: 26  lista_filmes: 2091\n"
     ]
    }
   ],
   "source": [
    "lista_resumida=[]\n",
    "lista_legendados=[]\n",
    "lista_filmes=[]\n",
    "for i in range(len(match)):\n",
    "    for c in tipos:\n",
    "        if c.upper() in str(match[i]).upper() and ('.mp4').upper() not in str(match[i].upper()):\n",
    "            if ' HD' in str(match[i]).upper():\n",
    "                lista_resumida.append(match[i])\n",
    "                print(i, end=\",\")\n",
    "            if ' LEG' in str(match[i]).upper() and ' HD' in str(match[i]).upper():\n",
    "                if str(match[i]).upper()[26:36] not in str(lista_legendados):\n",
    "                    lista_legendados.append(match[i])\n",
    "                print(i, end=\",\")\n",
    "#else:\n",
    "    if ('.mp4').upper() in str(match[i].upper()) and i < 10000:\n",
    "        if str(match[i][26:31]).upper() not in str(lista_filmes).upper():\n",
    "        #if 'filmes'.upper() in lista_group_title[i].upper(): #and str(match[i]).upper() not in str(lista_filmes).upper():\n",
    "            lista_filmes.append(match[i])\n",
    "print ()\n",
    "print ('lista_resumida:',len(lista_resumida), \n",
    "        ' lista_legendados:',len(lista_legendados), \n",
    "        ' lista_filmes:',len(lista_filmes))\n"
   ]
  },
  {
   "cell_type": "code",
   "execution_count": 103,
   "metadata": {},
   "outputs": [],
   "source": [
    "canais ='#EXTM3U'\n",
    "for t in lista_resumida:\n",
    "    canais = canais + '\\n#EXTINF:' + t\n",
    "#print (canais[:100])\n",
    "\n",
    "arquivo2 = open('/home//gustavo//Downloads//tv_channels_simp.m3u', 'w')\n",
    "arquivo2.write(canais)\n",
    "arquivo2.close()"
   ]
  },
  {
   "cell_type": "code",
   "execution_count": 104,
   "metadata": {},
   "outputs": [],
   "source": [
    "canais ='#EXTM3U'\n",
    "for t in lista_legendados:\n",
    "    canais = canais + '\\n#EXTINF:' + t\n",
    "#print (canais[:100])\n",
    "\n",
    "arquivo2 = open('/home//gustavo//Downloads//tv_channels_legendados.m3u', 'w')\n",
    "arquivo2.write(canais)\n",
    "arquivo2.close()"
   ]
  },
  {
   "cell_type": "code",
   "execution_count": 108,
   "metadata": {},
   "outputs": [],
   "source": [
    "canais ='#EXTM3U'\n",
    "for t in lista_filmes[:]:\n",
    "    canais = canais + '\\n#EXTINF:' + t\n",
    "#print (canais[:100])\n",
    "\n",
    "arquivo2 = open('/home//gustavo//Downloads//tv_channels_filmes.m3u', 'w')\n",
    "arquivo2.write(canais)\n",
    "arquivo2.close()"
   ]
  },
  {
   "cell_type": "code",
   "execution_count": 8,
   "metadata": {},
   "outputs": [
    {
     "name": "stdout",
     "output_type": "stream",
     "text": [
      "9,10,11,19,22,23,24,25,26,34,35,36,37,38,39,40,41,42,43,44,45,46,47,48,49,50,51,52,53,54,55,56,57,58,61,62,63,64,66,67,68,69,70,84,"
     ]
    }
   ],
   "source": [
    "lista_esporte=[]\n",
    "for i in range(len(lista_resumida)):\n",
    "    if ('sport').upper() in str(lista_resumida[i]).upper(): # and ('sport').upper() not in str(lista_esporte):\n",
    "        if ' HD' in str(lista_resumida[i]).upper():\n",
    "            lista_esporte.append(lista_resumida[i])\n",
    "            print(i, end=\",\")\n",
    "\n",
    "canais_esporte ='#EXTM3U'\n",
    "for t in lista_esporte:\n",
    "    canais_esporte = canais_esporte + '\\n#EXTINF:' + t\n",
    "#print (canais[:100])\n",
    "\n",
    "arquivo2 = open('/home//gustavo//Downloads//tv_channels_sport.m3u', 'w')\n",
    "arquivo2.write(canais_esporte)\n",
    "arquivo2.close()"
   ]
  },
  {
   "cell_type": "code",
   "execution_count": 7,
   "metadata": {},
   "outputs": [
    {
     "name": "stdout",
     "output_type": "stream",
     "text": [
      "90,233,235,238,241,243,246,446,449,644,747,1217,1488,1511,1513,1557,1684,1796,1805,1883,1884,1885,1887,1928,2030,2032,2033,2035,2036,2038,2041,2083,2084,2086,2281,2575,2578,2579,2652,2736,3023,3510,3517,3829,3831,3837,4324,4683,4753,4757,4893,4932,5069,5255,5380,5508,5510,5517,5746,5750,5752,5753,5754,5757,5759,5760,5761,5762,5763,5766,5767,5768,5772,5773,5774,5775,5778,5779,5785,5786,5810,5821,5833,5838,5858,5860,5863,5866,5869,5872,5873,5874,5875,5880,5881,5883,5884,5934,5936,6345,6361,6362,6363,6364,6365,6369,6382,6389,6535,6545,6550,6556,6593,6615,6627,6673,6677,6713,6715,6719,6725,6727,6728,6736,6739,6742,6745,6756,6759,6762,6764,6767,6769,6778,6781,6784,6788,6795,6817,6823,6831,6834,6837,6840,6843,6849,6858,6861,6865,6868,6874,6880,6889,6893,6911,6945,6946,6958,6959,6978,6989,7006,7021,7023,7024,7029,7030,7032,7033,7038,7039,7068,7071,7077,7080,7083,7091,7095,7116,7166,7167,7177,7180,7191,7194,7207,7249,7250,7255,7259,7261,7267,7281,7282,7286,7297,"
     ]
    }
   ],
   "source": [
    "lista_unicos=[]\n",
    "for i in range(len(match)):\n",
    "#for i in range(len(lista_resumida)):\n",
    "    if (match[i][26:35]).upper() not in str(lista_unicos).upper() and ' HD' in str(match[i]).upper():\n",
    "        lista_unicos.append(match[i])\n",
    "        print(i, end=\",\")\n",
    "\n",
    "canais_unicos ='#EXTM3U'\n",
    "for t in lista_unicos:\n",
    "    canais_unicos = canais_unicos + '\\n#EXTINF:' + t\n",
    "#print (canais[:100])\n",
    "\n",
    "arquivo2 = open('/home//gustavo//Downloads//tv_channels_unicos.m3u', 'w')\n",
    "arquivo2.write(canais_unicos)\n",
    "arquivo2.close()"
   ]
  }
 ],
 "metadata": {
  "interpreter": {
   "hash": "31f2aee4e71d21fbe5cf8b01ff0e069b9275f58929596ceb00d14d90e3e16cd6"
  },
  "kernelspec": {
   "display_name": "Python 3.8.10 64-bit",
   "name": "python3"
  },
  "language_info": {
   "codemirror_mode": {
    "name": "ipython",
    "version": 3
   },
   "file_extension": ".py",
   "mimetype": "text/x-python",
   "name": "python",
   "nbconvert_exporter": "python",
   "pygments_lexer": "ipython3",
   "version": "3.10.6"
  },
  "orig_nbformat": 4
 },
 "nbformat": 4,
 "nbformat_minor": 2
}
