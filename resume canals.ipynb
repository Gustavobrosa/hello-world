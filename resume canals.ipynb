{
 "cells": [
  {
   "attachments": {},
   "cell_type": "markdown",
   "metadata": {},
   "source": [
    "## o arquivo contendo a lista de canais completo pode ser baixado de\n",
    "http://meumd.com/get.php?username=19997402087&password=6Kwow93aq&type=m3u_plus&output=ts"
   ]
  },
  {
   "cell_type": "code",
   "execution_count": 1,
   "metadata": {},
   "outputs": [],
   "source": [
    "import os,re\n",
    "arq = open('/home//gustavo//Downloads//tv_channels_19997402087_plus.m3u', 'r')\n",
    "#arq = open('/home//gustavo//Downloads//tv_channels_simp3.m3u', 'r')\n",
    "texto = arq.read()\n",
    "#texto[:100]"
   ]
  },
  {
   "cell_type": "code",
   "execution_count": 2,
   "metadata": {},
   "outputs": [],
   "source": [
    "# Lista com os canais interessantes na ordem que me interessa\n",
    "canais_de_interesse = '''SPORTV 4\n",
    "TCM, FILM & ART,\n",
    "'''\n"
   ]
  },
  {
   "cell_type": "code",
   "execution_count": 3,
   "metadata": {
    "tags": []
   },
   "outputs": [
    {
     "name": "stdout",
     "output_type": "stream",
     "text": [
      "match: 84038\n",
      "lista_canais: 66751\n",
      "lista_group_title: 84039\n"
     ]
    }
   ],
   "source": [
    "#pattern = re.compile('#EXTINF:(.*?\\\\n.*?)\\\\n')\n",
    "#match = pattern.findall(texto)\n",
    "match = re.compile('#EXTINF:(.*?\\\\n.*?)\\\\n').findall(texto)\n",
    "lista_canais = re.compile('tvg-name=\\W(.{5,30})\\W\\stvg').findall(texto)\n",
    "lista_group_title = re.compile('group-title=\"(.*)\",').findall(texto)\n",
    "print ('match:',len(match))\n",
    "print('lista_canais:', len(lista_canais))\n",
    "print('lista_group_title:', len(lista_group_title))\n"
   ]
  },
  {
   "cell_type": "code",
   "execution_count": 4,
   "metadata": {},
   "outputs": [
    {
     "name": "stdout",
     "output_type": "stream",
     "text": [
      "89 ['CANAIS | SPORTV', 'SÉRIES | NETFLIX', 'FILMES: DRAMA', 'SÉRIES | PARAMOUNT+', 'SÉRIES | DESENHOS', 'CANAIS | 24HRS', 'CANAIS | CÂMERAS AO VIVO', 'XXX - ADULTOS +18', 'CANAIS | MÚSICAS E SHOWS', 'CANAIS | PPV', 'CANAIS | HBO']\n"
     ]
    }
   ],
   "source": [
    "final_new_menu = list(set(lista_group_title))\n",
    "print(len(final_new_menu), final_new_menu[78:])"
   ]
  },
  {
   "cell_type": "code",
   "execution_count": 5,
   "metadata": {},
   "outputs": [],
   "source": [
    "tipos = ['aberto','sport','formula','iternac','comed','filme','serie','telecine','variado',\n",
    "'cultur','globo eptv campinas','legendado']"
   ]
  },
  {
   "cell_type": "code",
   "execution_count": 13,
   "metadata": {},
   "outputs": [
    {
     "name": "stdout",
     "output_type": "stream",
     "text": [
      "1306,1521,2283,2284,2630,2633,2636,2862,2866,2949,2950,2951,3093,3095,3096,3097,3098,3099,3101,3104,3799,3843,5380,5736,5804,5805,5806,5808,5812,5983,6568,6569,6612,6813,6825,6861,6865,6868,6872,6884,6885,6887,6889,6890,6891,6892,6909,6911,6914,6917,6920,6923,6924,6925,6926,6931,6932,6934,6935,6943,7387,7411,7412,7413,7414,7594,7635,7640,7646,7649,7657,7709,7711,7736,7850,7850,7853,7853,7856,7856,7860,7861,7861,7864,7864,7867,7867,7870,7870,7873,7873,7876,7876,7878,7878,7878,7882,7882,7882,7885,7885,7885,7888,7888,7888,7891,7891,7891,7894,7894,7894,7898,7898,7901,7901,7904,7907,7907,7910,7910,7910,7916,7920,7989,7989,7990,7990,8009,8141,8176,8177,8178,8179,8211,8215,8218,8222,8225,8230,8234,8236,8238,8243,8244,8250,8250,8251,8254,8257,8292,8293,8312,8319,8325,8328,8335,8335,8337,\n",
      "lista_resumida: 137  lista_legendados: 21  lista_filmes: 2316  lista_espn: 5\n"
     ]
    }
   ],
   "source": [
    "### Nesta célula gero as listas dos cainais que entedo que são interessantes ter separadamente#  \n",
    "lista_resumida=[]\n",
    "lista_legendados=[]\n",
    "lista_filmes=[]\n",
    "lista_espn=[]\n",
    "for i in range(len(match)):\n",
    "    for c in tipos:\n",
    "        if c.upper() in str(match[i]).upper() and ('.mp4').upper() not in str(match[i].upper()):\n",
    "            if ' HD' in str(match[i]).upper():\n",
    "                lista_resumida.append(match[i])\n",
    "                print(i, end=\",\")\n",
    "    if ' LEG' in str(match[i]).upper() and ' HD' in str(match[i]).upper():\n",
    "        if str(match[i]).upper()[26:36] not in str(lista_legendados):\n",
    "            lista_legendados.append(match[i])\n",
    "            print(i, end=\",\")\n",
    "    if 'ESPN' in str(match[i]).upper() and ' HD' in str(match[i]).upper():\n",
    "            lista_espn.append(match[i])\n",
    "#else:\n",
    "    if ('.mp4').upper() in str(match[i].upper()) and i < 20000:\n",
    "        if str(match[i][26:31]).upper() not in str(lista_filmes).upper():\n",
    "        #if 'filmes'.upper() in lista_group_title[i].upper(): #and str(match[i]).upper() not in str(lista_filmes).upper():\n",
    "            lista_filmes.append(match[i])\n",
    "print ()\n",
    "print ('lista_resumida:',len(lista_resumida), \n",
    "        ' lista_legendados:',len(lista_legendados), \n",
    "        ' lista_filmes:',len(lista_filmes),\n",
    "        ' lista_espn:',len(lista_espn))\n"
   ]
  },
  {
   "cell_type": "code",
   "execution_count": 16,
   "metadata": {},
   "outputs": [],
   "source": [
    "canais ='#EXTM3U'\n",
    "for t in lista_resumida:\n",
    "    canais = canais + '\\n#EXTINF:' + t\n",
    "#print (canais[:100])\n",
    "for t in lista_espn:\n",
    "    canais = canais + '\\n#EXTINF:' + t\n",
    "\n",
    "arquivo2 = open('/home//gustavo//Downloads//tv_channels_simp.m3u', 'w')\n",
    "arquivo2.write(canais)\n",
    "arquivo2.close()"
   ]
  },
  {
   "cell_type": "code",
   "execution_count": 17,
   "metadata": {},
   "outputs": [],
   "source": [
    "canais ='#EXTM3U'\n",
    "for t in lista_legendados:\n",
    "    canais = canais + '\\n#EXTINF:' + t\n",
    "#print (canais[:100])\n",
    "\n",
    "arquivo2 = open('/home//gustavo//Downloads//tv_channels_legendados.m3u', 'w')\n",
    "arquivo2.write(canais)\n",
    "arquivo2.close()"
   ]
  },
  {
   "cell_type": "code",
   "execution_count": 18,
   "metadata": {},
   "outputs": [],
   "source": [
    "canais ='#EXTM3U'\n",
    "for t in lista_filmes[:]:\n",
    "    canais = canais + '\\n#EXTINF:' + t\n",
    "#print (canais[:100])\n",
    "\n",
    "arquivo2 = open('/home//gustavo//Downloads//tv_channels_filmes.m3u', 'w')\n",
    "arquivo2.write(canais)\n",
    "arquivo2.close()"
   ]
  },
  {
   "cell_type": "code",
   "execution_count": 19,
   "metadata": {},
   "outputs": [
    {
     "name": "stdout",
     "output_type": "stream",
     "text": [
      "9,10,11,19,22,23,24,25,26,34,35,36,37,38,39,40,41,42,43,44,45,46,47,48,49,50,51,52,53,54,55,56,57,58,61,62,63,64,66,67,68,69,70,107,"
     ]
    }
   ],
   "source": [
    "lista_esporte=[]\n",
    "for i in range(len(lista_resumida)):\n",
    "    if ('sport').upper() in str(lista_resumida[i]).upper(): # and ('sport').upper() not in str(lista_esporte):\n",
    "        if ' HD' in str(lista_resumida[i]).upper():\n",
    "            lista_esporte.append(lista_resumida[i])\n",
    "            print(i, end=\",\")\n",
    "\n",
    "canais_esporte ='#EXTM3U'\n",
    "for t in lista_esporte:\n",
    "    canais_esporte = canais_esporte + '\\n#EXTINF:' + t\n",
    "#print (canais[:100])\n",
    "for t in lista_espn:\n",
    "    canais_esporte = canais_esporte + '\\n#EXTINF:' + t\n",
    "\n",
    "arquivo2 = open('/home//gustavo//Downloads//tv_channels_sport.m3u', 'w')\n",
    "arquivo2.write(canais_esporte)\n",
    "arquivo2.close()"
   ]
  },
  {
   "cell_type": "code",
   "execution_count": 20,
   "metadata": {},
   "outputs": [
    {
     "name": "stdout",
     "output_type": "stream",
     "text": [
      "13,18,23,26,29,32,35,38,41,44,47,50,136,1048,1172,1308,1311,1314,1316,1319,1518,1521,1716,1819,2283,2554,2577,2579,2750,2862,2871,2949,2950,2951,2953,3093,3095,3096,3098,3099,3101,3104,3146,3147,3149,3162,3344,3636,3638,3641,3642,3715,3799,4086,4567,4572,4574,4885,4887,4893,5380,5736,5804,5808,5944,5983,6120,6306,6431,6559,6561,6568,6797,6801,6803,6804,6805,6808,6810,6811,6812,6813,6814,6817,6818,6819,6823,6824,6825,6826,6829,6830,6836,6837,6861,6872,6884,6889,6909,6911,6914,6917,6920,6923,6924,6925,6926,6931,6932,6934,6935,6985,6987,7387,7403,7404,7405,7406,7407,7411,7424,7429,7575,7583,7588,7594,7631,7653,7665,7711,7715,7741,7751,7753,7757,7763,7765,7766,7774,7777,7780,7783,7794,7797,7800,7802,7805,7806,7815,7818,7821,7825,7832,7850,7856,7864,7867,7870,7873,7876,7882,7891,7894,7898,7901,7907,7913,7922,7926,7944,7978,7979,7990,8009,8020,8037,8052,8054,8055,8060,8061,8063,8069,8099,8102,8108,8111,8114,8122,8126,8147,8197,8198,8208,8211,8222,8225,8238,8244,8280,8281,8286,8290,8292,8298,8312,8313,8317,8328,"
     ]
    }
   ],
   "source": [
    "lista_unicos=[]\n",
    "for i in range(len(match)):\n",
    "#for i in range(len(lista_resumida)):\n",
    "    if (match[i][26:35]).upper() not in str(lista_unicos).upper() and ' HD' in str(match[i]).upper():\n",
    "        lista_unicos.append(match[i])\n",
    "        print(i, end=\",\")\n",
    "\n",
    "canais_unicos ='#EXTM3U'\n",
    "for t in lista_unicos:\n",
    "    canais_unicos = canais_unicos + '\\n#EXTINF:' + t\n",
    "#print (canais[:100])\n",
    "\n",
    "arquivo2 = open('/home//gustavo//Downloads//tv_channels_unicos.m3u', 'w')\n",
    "arquivo2.write(canais_unicos)\n",
    "arquivo2.close()"
   ]
  },
  {
   "cell_type": "code",
   "execution_count": 7,
   "metadata": {},
   "outputs": [],
   "source": []
  },
  {
   "cell_type": "code",
   "execution_count": null,
   "metadata": {},
   "outputs": [],
   "source": []
  }
 ],
 "metadata": {
  "interpreter": {
   "hash": "31f2aee4e71d21fbe5cf8b01ff0e069b9275f58929596ceb00d14d90e3e16cd6"
  },
  "kernelspec": {
   "display_name": "Python 3.8.10 64-bit",
   "name": "python3"
  },
  "language_info": {
   "codemirror_mode": {
    "name": "ipython",
    "version": 3
   },
   "file_extension": ".py",
   "mimetype": "text/x-python",
   "name": "python",
   "nbconvert_exporter": "python",
   "pygments_lexer": "ipython3",
   "version": "3.10.6"
  },
  "orig_nbformat": 4
 },
 "nbformat": 4,
 "nbformat_minor": 2
}
