{
 "cells": [
  {
   "attachments": {},
   "cell_type": "markdown",
   "metadata": {},
   "source": [
    "# Jogo da Velha\n",
    "https://www.youtube.com/watch?v=LUICgtok8QE"
   ]
  },
  {
   "cell_type": "code",
   "execution_count": 4,
   "metadata": {},
   "outputs": [],
   "source": [
    "import cv2, os\n",
    "import numpy as np\n",
    "import random\n",
    "from IPython.display import clear_output  #clear_output()\n",
    "\n",
    "BLACK = (0,0,0)\n",
    "\n",
    "def showImage(img):\n",
    "    from matplotlib import pyplot as plt\n",
    "    plt.imshow(img)\n",
    "    plt.show()"
   ]
  },
  {
   "cell_type": "code",
   "execution_count": 5,
   "metadata": {},
   "outputs": [],
   "source": [
    "def drawLine(image, startPoint, endPoint, color= BLACK, thickness=5):\n",
    "    cv2.line(image,\n",
    "        startPoint,\n",
    "        endPoint,\n",
    "        color,\n",
    "        thickness)"
   ]
  },
  {
   "cell_type": "code",
   "execution_count": 13,
   "metadata": {},
   "outputs": [
    {
     "data": {
      "image/png": "[encoded data removed]",
      "text/plain": [
       "<Figure size 640x480 with 1 Axes>"
      ]
     },
     "metadata": {},
     "output_type": "display_data"
    }
   ],
   "source": [
    "ticTacToeBoard = np.empty([400,300,3], dtype = np.uint8)\n",
    "ticTacToeBoard.fill(255)\n",
    "\n",
    "drawLine(ticTacToeBoard, (100,80), (100,320), BLACK, 5)\n",
    "drawLine(ticTacToeBoard, (200,80), (200,320))\n",
    "drawLine(ticTacToeBoard, (30,150), (270,150))\n",
    "drawLine(ticTacToeBoard, (30,250), (270,250))\n",
    "\n",
    "showImage(ticTacToeBoard)"
   ]
  },
  {
   "cell_type": "code",
   "execution_count": 9,
   "metadata": {},
   "outputs": [],
   "source": [
    "def drawRectangleInBoard(image, posXboard, posYboard, color):\n",
    "    startPosX, startPosY = 25 + posXboard * 100, 75 + posYboard * 100\n",
    "    endPosX , endPosY = 75 + posXboard * 100, 125 + posYboard * 100 \n",
    "    cv2.rectangle(image,\n",
    "                    (startPosX,startPosY),\n",
    "                    (endPosX,endPosY),\n",
    "                    color,\n",
    "                    -1)"
   ]
  },
  {
   "cell_type": "code",
   "execution_count": 16,
   "metadata": {},
   "outputs": [],
   "source": [
    "def drawTriangleInBoard(image, posXboard, posYboard, color):\n",
    "    startPosX, startPosY = 25 + posXboard * 100, 75 + posYboard * 100\n",
    "    endPosX , endPosY = 75 + posXboard * 100, 125 + posYboard * 100 \n",
    "   \n",
    "    vertices = np.array([[((startPosX+endPosX)/2, startPosY), (startPosX,endPosY), (endPosX,endPosY)]], np.int32)\n",
    "    #vertices = np.array([[startPosX, startPosX], [startPosX,endPosY], [endPosX,endPosY]], np.int32)\n",
    "    cv2.fillPoly(image,\n",
    "                vertices,\n",
    "                color)"
   ]
  },
  {
   "cell_type": "code",
   "execution_count": 11,
   "metadata": {},
   "outputs": [],
   "source": [
    "def checkGameOver(board):\n",
    " \n",
    "    # checando colunas\n",
    "    if board[0][0] == board[1][0] == board[2][0] and board[0][0] != 0:\n",
    "        print('Vencedor',board[0][0])\n",
    "        return board[0][0]\n",
    "    elif board[0][1] == board[1][1] == board[2][1] and board[0][1] != 0:\n",
    "        print('Vencedor',board[0][1])\n",
    "        return board[0][1]\n",
    "    elif board[0][2] == board[1][2] == board[2][2] and board[0][2] != 0:\n",
    "        print('Vencedor',board[0][2])\n",
    "        return board[0][2]\n",
    "\n",
    "    # checando colunas\n",
    "    elif board[0][0] == board[0][1] == board[0][2] and board[0][0] != 0:\n",
    "        print('Vencedor',board[0][0])\n",
    "        return board[0][0]\n",
    "    elif board[1][0] == board[1][1] == board[1][2] and board[1][0] != 0:\n",
    "        print('Vencedor',board[1][0])\n",
    "        return board[1][0]\n",
    "    elif board[2][0] == board[2][1] == board[2][2] and board[2][0] != 0:\n",
    "        print('Vencedor',board[2][0])\n",
    "        return board[2][0]\n",
    "\n",
    "    # checando diagonais\n",
    "    if board[0][0] == board[1][1] == board[2][2] and board[1][1] != 0:\n",
    "        print('Vencedor',board[0][0])\n",
    "        return board[0][0]\n",
    "    elif board[0][2] == board[1][1] == board[2][0] and board[1][1] != 0:\n",
    "        print('Vencedor',board[0][2])\n",
    "        return board[0][2]\n",
    "    elif '0' not in str(board):\n",
    "        return -1\n",
    "    else:\n",
    "        return 0\n",
    "    "
   ]
  },
  {
   "cell_type": "code",
   "execution_count": 18,
   "metadata": {},
   "outputs": [
    {
     "data": {
      "image/png": "[encoded data removed]",
      "text/plain": [
       "<Figure size 640x480 with 1 Axes>"
      ]
     },
     "metadata": {},
     "output_type": "display_data"
    },
    {
     "name": "stdout",
     "output_type": "stream",
     "text": [
      "Vencedor 1\n",
      "1 Jogada: 6\n",
      "Você venceu!\n"
     ]
    }
   ],
   "source": [
    "# O jogo\n",
    "currentMatch = ticTacToeBoard.copy()\n",
    "showImage(currentMatch)\n",
    "empate = -1\n",
    "vazio = 0\n",
    "humano = 1\n",
    "cpu = 2\n",
    "\n",
    "occupiedPositions = [[vazio,vazio,vazio],\n",
    "                    [vazio,vazio,vazio],\n",
    "                    [vazio,vazio,vazio]]\n",
    "\n",
    "turno = humano\n",
    "jogadas = 1\n",
    "result = 0\n",
    "while result == 0:\n",
    "    if turno == humano:\n",
    "        print('Turno do jogador Humano.')\n",
    "        posX = int(input('Informe a posição X da sua jogada:')) %3\n",
    "        posY = int(input('Informe a posição Y da sua jogada:')) %3\n",
    "\n",
    "        while occupiedPositions[posX][posY] != vazio:\n",
    "            print('Posição ocupada.')\n",
    "            posX = int(input('Informe a posição X da sua jogada:')) %3\n",
    "            posY = int(input('Informe a posição Y da sua jogada:')) %3\n",
    "        occupiedPositions[posX][posY] = humano\n",
    "        drawTriangleInBoard(currentMatch,posX,posY,(0,0,255))\n",
    "        turno = cpu\n",
    "\n",
    "        clear_output()\n",
    "\n",
    "    else:\n",
    "        print('Turno do jogador CPU.')\n",
    "        posX, posY = random.randint(0,2), random.randint(0,2)\n",
    "        while occupiedPositions[posX][posY] != vazio:\n",
    "            posX, posY = random.randint(0,2), random.randint(0,2)\n",
    "        occupiedPositions[posX][posY] = cpu\n",
    "        drawRectangleInBoard(currentMatch,posX,posY,(255,0,0))\n",
    "        turno = humano\n",
    "    \n",
    "    showImage(currentMatch)\n",
    "    jogadas += 1\n",
    "\n",
    "    result = checkGameOver(occupiedPositions)\n",
    "    print(result, 'Jogada:',jogadas)\n",
    "    if result == empate:\n",
    "        print('Empate!')\n",
    "        break\n",
    "    elif result == humano:\n",
    "        print('Você venceu!')\n",
    "        break\n",
    "    elif result == cpu:\n",
    "        print('CPU venceu!')\n",
    "        break"
   ]
  },
  {
   "cell_type": "code",
   "execution_count": 39,
   "metadata": {},
   "outputs": [
    {
     "data": {
      "text/plain": [
       "[[2, 1, 1], [1, 2, 2], [1, 2, 1]]"
      ]
     },
     "execution_count": 39,
     "metadata": {},
     "output_type": "execute_result"
    }
   ],
   "source": [
    "occupiedPositions"
   ]
  },
  {
   "cell_type": "code",
   "execution_count": null,
   "metadata": {},
   "outputs": [],
   "source": []
  },
  {
   "cell_type": "markdown",
   "metadata": {},
   "source": [
    "# Jogo da Velha - FIM"
   ]
  }
 ],
 "metadata": {
  "kernelspec": {
   "display_name": "Python 3",
   "language": "python",
   "name": "python3"
  },
  "language_info": {
   "codemirror_mode": {
    "name": "ipython",
    "version": 3
   },
   "file_extension": ".py",
   "mimetype": "text/x-python",
   "name": "python",
   "nbconvert_exporter": "python",
   "pygments_lexer": "ipython3",
   "version": "3.10.6"
  },
  "vscode": {
   "interpreter": {
    "hash": "916dbcbb3f70747c44a77c7bcd40155683ae19c65e1c03b4aa3499c5328201f1"
   }
  }
 },
 "nbformat": 4,
 "nbformat_minor": 2
}
