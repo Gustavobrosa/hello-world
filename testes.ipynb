{
 "cells": [
  {
   "cell_type": "code",
   "execution_count": null,
   "id": "42bb2db7",
   "metadata": {},
   "outputs": [],
   "source": [
    "a=(1,2,3)\n",
    "b=[4,5,6]\n",
    "c={7,8,9}\n",
    "p,q,r = a\n",
    "s,t,u = b\n",
    "x,y,z = c\n",
    "print(p,q,r)\n",
    "print(s,t,u)\n",
    "print(x,y,z)\n",
    "print(a,b,c)\n"
   ]
  },
  {
   "cell_type": "code",
   "execution_count": null,
   "id": "37d6ce14",
   "metadata": {},
   "outputs": [],
   "source": [
    "\n",
    "x=67\n",
    "y=80\n",
    "print (x,y)\n",
    "x,y,z=1,2,3\n",
    "print(x,y,z)\n",
    "\n",
    "print ('search'.find('s'))\n"
   ]
  },
  {
   "cell_type": "code",
   "execution_count": null,
   "id": "e281cced",
   "metadata": {},
   "outputs": [],
   "source": [
    "\n",
    "\n",
    "n = 6\n",
    "for i in range(0,n,1):\n",
    "    for j in range(0,i+1):\n",
    "        print(j,end='')\n",
    "    print()\n"
   ]
  },
  {
   "cell_type": "code",
   "execution_count": null,
   "id": "451afa7b",
   "metadata": {},
   "outputs": [],
   "source": [
    "def fun():\n",
    "    a=4+5\n",
    "    print (a)\n",
    "    pass\n",
    "print(type(fun()))"
   ]
  },
  {
   "cell_type": "code",
   "execution_count": null,
   "id": "8ad9166b",
   "metadata": {},
   "outputs": [],
   "source": [
    "for sx in range(-100,100,1):\n",
    "    x=sx\n",
    "    y = (x**2-7*x+11)**(x**2-13*x+42)-1\n",
    "    if y==0:\n",
    "        print('solucao', end='  ')\n",
    "        print('x=%.0f   y=%.2e' %(x,y))"
   ]
  },
  {
   "cell_type": "code",
   "execution_count": null,
   "id": "7c1047d8",
   "metadata": {},
   "outputs": [],
   "source": [
    "def myfun(n):\n",
    "    return lambda a : a * n\n",
    "result = myfun(2)\n",
    "print (result(11))"
   ]
  },
  {
   "cell_type": "code",
   "execution_count": null,
   "id": "1f3c9e3d",
   "metadata": {},
   "outputs": [],
   "source": [
    "a = 'python'\n",
    "a = 'j' + a[1:]\n",
    "print (a)\n",
    "a = a[:3] + 'j' + a[4:]\n",
    "print (a)\n"
   ]
  },
  {
   "cell_type": "code",
   "execution_count": 6,
   "id": "14ff859a",
   "metadata": {},
   "outputs": [
    {
     "name": "stdout",
     "output_type": "stream",
     "text": [
      "bitterbutter\n",
      "butter\n"
     ]
    }
   ],
   "source": [
    "e='butter'\n",
    "def f(a):\n",
    "    #e='dentro'\n",
    "    print (a+e)\n",
    "f('bitter')\n",
    "print(e)"
   ]
  },
  {
   "cell_type": "code",
   "execution_count": 12,
   "id": "bfd13c8e",
   "metadata": {},
   "outputs": [
    {
     "data": {
      "text/plain": [
       "True"
      ]
     },
     "execution_count": 12,
     "metadata": {},
     "output_type": "execute_result"
    }
   ],
   "source": [
    "l=''\n",
    "not l\n",
    "not ''"
   ]
  },
  {
   "cell_type": "code",
   "execution_count": 19,
   "id": "3192b7d0",
   "metadata": {},
   "outputs": [
    {
     "data": {
      "text/plain": [
       "11"
      ]
     },
     "execution_count": 19,
     "metadata": {},
     "output_type": "execute_result"
    }
   ],
   "source": [
    "code = compile('a+6','file','eval')\n",
    "a=5\n",
    "eval(code)"
   ]
  },
  {
   "cell_type": "code",
   "execution_count": 27,
   "id": "984b6d74",
   "metadata": {},
   "outputs": [
    {
     "name": "stdout",
     "output_type": "stream",
     "text": [
      "<__main__.Point object at 0x7f117ec22590>\n",
      "<__main__.Point object at 0x7f117eff5db0>\n",
      "False\n",
      "Nothing seems to have happened with the points\n"
     ]
    }
   ],
   "source": [
    "class Point:\n",
    "    \"\"\" Point class for representing and manipulating x,y coordinates. \"\"\"\n",
    "\n",
    "    def __init__(self):\n",
    "\n",
    "        self.x = 0\n",
    "        self.y = 0\n",
    "\n",
    "p = Point()         # Instantiate an object of type Point\n",
    "q = Point()         # and make a second point\n",
    "print(p)\n",
    "print(q)\n",
    "\n",
    "print(p is q)\n",
    "print(\"Nothing seems to have happened with the points\")"
   ]
  },
  {
   "cell_type": "code",
   "execution_count": 28,
   "id": "b73f057c",
   "metadata": {},
   "outputs": [
    {
     "name": "stdout",
     "output_type": "stream",
     "text": [
      "7\n",
      "6\n"
     ]
    }
   ],
   "source": [
    "class Point:\n",
    "    \"\"\" Point class for representing and manipulating x,y coordinates. \"\"\"\n",
    "\n",
    "    def __init__(self, initX, initY):\n",
    "\n",
    "        self.x = initX\n",
    "        self.y = initY\n",
    "\n",
    "    def getX(self):\n",
    "        return self.x\n",
    "\n",
    "    def getY(self):\n",
    "        return self.y\n",
    "\n",
    "\n",
    "p = Point(7,6)\n",
    "print(p.getX())\n",
    "print(p.getY())"
   ]
  },
  {
   "cell_type": "code",
   "execution_count": 30,
   "id": "f32579c5",
   "metadata": {},
   "outputs": [
    {
     "name": "stdout",
     "output_type": "stream",
     "text": [
      "5.0\n"
     ]
    }
   ],
   "source": [
    "class Point:\n",
    "    \"\"\" Point class for representing and manipulating x,y coordinates. \"\"\"\n",
    "\n",
    "    def __init__(self, initX, initY):\n",
    "\n",
    "        self.x = initX\n",
    "        self.y = initY\n",
    "\n",
    "    def getX(self):\n",
    "        return self.x\n",
    "\n",
    "    def getY(self):\n",
    "        return self.y\n",
    "\n",
    "    def distanceFromOrigin(self):\n",
    "        return ((self.x ** 2) + (self.y ** 2)) ** 0.5\n",
    "\n",
    "\n",
    "p = Point(3,4)\n",
    "print(p.distanceFromOrigin())\n"
   ]
  },
  {
   "cell_type": "code",
   "execution_count": 65,
   "id": "f1ffd7d5",
   "metadata": {},
   "outputs": [
    {
     "name": "stdout",
     "output_type": "stream",
     "text": [
      "x=7, y=6 7\n"
     ]
    }
   ],
   "source": [
    "class Point:\n",
    "    \"\"\" Point class for representing and manipulating x,y coordinates. \"\"\"\n",
    "\n",
    "    def __init__(self, initX, initY):\n",
    "\n",
    "        self.x = initX\n",
    "        self.y = initY\n",
    "\n",
    "    def getX(self):\n",
    "        return self.x\n",
    "\n",
    "    def getY(self):\n",
    "        return self.y\n",
    "\n",
    "    def distanceFromOrigin(self):\n",
    "        return ((self.x ** 2) + (self.y ** 2)) ** 0.5\n",
    "\n",
    "    def __str__(self):\n",
    "        return \"x=\" + str(self.x) + \", y=\" + str(self.y)\n",
    "\n",
    "p = Point(7,6)\n",
    "print(p, p.getX())\n",
    "\n"
   ]
  },
  {
   "cell_type": "code",
   "execution_count": 63,
   "id": "182a07b9",
   "metadata": {},
   "outputs": [
    {
     "name": "stdout",
     "output_type": "stream",
     "text": [
      "x=7, y=6\n"
     ]
    }
   ],
   "source": []
  },
  {
   "cell_type": "code",
   "execution_count": null,
   "id": "6569457b",
   "metadata": {},
   "outputs": [],
   "source": []
  },
  {
   "cell_type": "code",
   "execution_count": null,
   "id": "da3ec877",
   "metadata": {},
   "outputs": [],
   "source": []
  },
  {
   "cell_type": "markdown",
   "id": "cf2b5194",
   "metadata": {},
   "source": [
    "# Trabalhando com .m3u"
   ]
  },
  {
   "cell_type": "code",
   "execution_count": null,
   "id": "a756cd45",
   "metadata": {},
   "outputs": [],
   "source": [
    "# criando novo .m3u\n",
    "\n",
    "# baixa o arquivo do servidor    http://meumd.com/get.php?username=19997402087&password=6Kwow93a&type=m3u_plus&output=ts\n",
    "import requests \n",
    "\n",
    "def baixar_arquivo(url, endereco=None):\n",
    "    resposta = requests.get(url, stream=True) #AQUI\n",
    "    if resposta.status_code == requests.codes.OK:\n",
    "        with open(endereco, 'wb') as novo_arquivo:\n",
    "                for parte in resposta.iter_content(chunk_size=256): #AQUI TBM\n",
    "                    novo_arquivo.write(parte)\n",
    "        print(\"Download finalizado. Arquivo salvo em: {}\".format(endereco))\n",
    "    else:\n",
    "        resposta.raise_for_status()\n",
    "        \n",
    "        \n",
    "url = 'http://meumd.com/get.php?username=19997402087&password=6Kwow93a&type=m3u_plus&output=ts'\n",
    "baixar_arquivo(url)"
   ]
  },
  {
   "cell_type": "code",
   "execution_count": 1,
   "id": "3d249a36",
   "metadata": {},
   "outputs": [
    {
     "ename": "ModuleNotFoundError",
     "evalue": "No module named 'wget'",
     "output_type": "error",
     "traceback": [
      "\u001b[0;31m---------------------------------------------------------------------------\u001b[0m",
      "\u001b[0;31mModuleNotFoundError\u001b[0m                       Traceback (most recent call last)",
      "\u001b[0;32m<ipython-input-1-e28508aa1a0d>\u001b[0m in \u001b[0;36m<module>\u001b[0;34m\u001b[0m\n\u001b[0;32m----> 1\u001b[0;31m \u001b[0;32mimport\u001b[0m \u001b[0mwget\u001b[0m\u001b[0;34m\u001b[0m\u001b[0;34m\u001b[0m\u001b[0m\n\u001b[0m\u001b[1;32m      2\u001b[0m \u001b[0murl\u001b[0m \u001b[0;34m=\u001b[0m \u001b[0;34m'http://meumd.com/get.php?username=19997402087&password=6Kwow93a&type=m3u_plus&output=ts'\u001b[0m\u001b[0;34m\u001b[0m\u001b[0;34m\u001b[0m\u001b[0m\n\u001b[1;32m      3\u001b[0m \u001b[0;34m\u001b[0m\u001b[0m\n\u001b[1;32m      4\u001b[0m \u001b[0mwget\u001b[0m\u001b[0;34m.\u001b[0m\u001b[0mdownload\u001b[0m\u001b[0;34m(\u001b[0m\u001b[0murl\u001b[0m\u001b[0;34m)\u001b[0m\u001b[0;34m\u001b[0m\u001b[0;34m\u001b[0m\u001b[0m\n\u001b[1;32m      5\u001b[0m \u001b[0;34m\u001b[0m\u001b[0m\n",
      "\u001b[0;31mModuleNotFoundError\u001b[0m: No module named 'wget'"
     ]
    }
   ],
   "source": [
    "import wget\n",
    "url = 'http://meumd.com/get.php?username=19997402087&password=6Kwow93a&type=m3u_plus&output=ts'\n",
    "\n",
    "wget.download(url)\n",
    "\n",
    "# separa os canais em listas\n",
    "\n",
    "# cria novo m3u simplificado"
   ]
  },
  {
   "cell_type": "code",
   "execution_count": 7,
   "id": "37f018bc",
   "metadata": {},
   "outputs": [
    {
     "name": "stdout",
     "output_type": "stream",
     "text": [
      "QWERT\n",
      " qwert\n"
     ]
    }
   ],
   "source": [
    "x = 'qwert'\n",
    "for i in range(len(x)):\n",
    "    d=x[i].upper()\n",
    "    print(d,end='')\n",
    "print('\\r\\n',x)"
   ]
  },
  {
   "cell_type": "code",
   "execution_count": 12,
   "id": "076129cc",
   "metadata": {},
   "outputs": [
    {
     "data": {
      "text/plain": [
       "0.0"
      ]
     },
     "execution_count": 12,
     "metadata": {},
     "output_type": "execute_result"
    }
   ],
   "source": [
    "a=100\n",
    "b=5\n",
    "a//(b*a)/b"
   ]
  },
  {
   "cell_type": "code",
   "execution_count": 5,
   "id": "26f72972",
   "metadata": {},
   "outputs": [
    {
     "name": "stdout",
     "output_type": "stream",
     "text": [
      "Download finalizado. Arquivo salvo em: /home//gustavo//Downloads//teste.mp4\n"
     ]
    }
   ],
   "source": [
    "# Codigo para download de videos nao funciona ainda\n",
    "import requests\n",
    "import os\n",
    "\n",
    "def baixar_arquivo(url, endereco=None): #\"C:\\\\home\\\\gustavo\\\\Downloads\\\\teste.mp4\"):\n",
    "    if endereco is None:\n",
    "        endereco = os.path.basename(url.split(\"?\")[0])\n",
    "    resposta = requests.get(url, stream=True)\n",
    "    if resposta.status_code == requests.codes.OK:\n",
    "        with open(endereco, 'wb') as novo_arquivo:\n",
    "            for parte in resposta.iter_content(chunk_size=256):\n",
    "                novo_arquivo.write(parte)\n",
    "        print(\"Download finalizado. Arquivo salvo em: {}\".format(endereco))\n",
    "    else:\n",
    "        resposta.raise_for_status()\n",
    "\n",
    "if __name__ == \"__main__\":\n",
    "    # testando a função\n",
    "    test_url = \"https://youtu.be/6-mxpMiKs_s\"\n",
    "    #test_url = \"https://www.invistaspiti.com.br/al/experiencia/metodo-das-caixas/aulas/metodo-das-caixas/\"\n",
    "    baixar_arquivo(test_url, \"/home//gustavo//Downloads//teste.mp4\")"
   ]
  },
  {
   "cell_type": "code",
   "execution_count": 1,
   "id": "bbf5546a",
   "metadata": {},
   "outputs": [],
   "source": [
    "l = (1,2,3)\n",
    "if type(l) is list:\n",
    "    print(1 == 1)"
   ]
  },
  {
   "cell_type": "code",
   "execution_count": 11,
   "id": "10224f02",
   "metadata": {},
   "outputs": [
    {
     "name": "stderr",
     "output_type": "stream",
     "text": [
      "/tmp/ipykernel_22169/2114841711.py:7: RuntimeWarning: invalid value encountered in sqrt\n",
      "  y3=(np.sqrt(np.sin(x1)))\n"
     ]
    },
    {
     "data": {
      "image/png": "[encoded data removed]",
      "text/plain": [
       "<Figure size 640x480 with 1 Axes>"
      ]
     },
     "metadata": {},
     "output_type": "display_data"
    }
   ],
   "source": [
    "import numpy as np\n",
    "import matplotlib.pyplot as plt\n",
    "from math import sin, radians\n",
    "x1=np.arange(0,19,0.01)\n",
    "y1=np.sin(x1)\n",
    "y2=np.sin(x1)**2\n",
    "y3=(np.sqrt(np.sin(x1)))\n",
    "plt.plot(x1,y1)\n",
    "plt.plot(x1,y2)\n",
    "plt.plot(x1,y3)\n",
    "plt.show()"
   ]
  },
  {
   "cell_type": "code",
   "execution_count": 43,
   "id": "14592509",
   "metadata": {},
   "outputs": [
    {
     "name": "stdout",
     "output_type": "stream",
     "text": [
      "Ciclo do seno de \"0\" à \"360°\" com intervalo de \"10°\"\n",
      "0    = 0.0000\n",
      "10   = 0.1736\n",
      "20   = 0.3420\n",
      "30   = 0.5000\n",
      "40   = 0.6428\n",
      "50   = 0.7660\n",
      "60   = 0.8660\n",
      "70   = 0.9397\n",
      "80   = 0.9848\n",
      "90   = 1.0000\n",
      "100  = 0.9848\n",
      "110  = 0.9397\n",
      "120  = 0.8660\n",
      "130  = 0.7660\n",
      "140  = 0.6428\n",
      "150  = 0.5000\n",
      "160  = 0.3420\n",
      "170  = 0.1736\n",
      "180  = 0.0000\n",
      "190  = -0.1736\n",
      "200  = -0.3420\n",
      "210  = -0.5000\n",
      "220  = -0.6428\n",
      "230  = -0.7660\n",
      "240  = -0.8660\n",
      "250  = -0.9397\n",
      "260  = -0.9848\n",
      "270  = -1.0000\n",
      "280  = -0.9848\n",
      "290  = -0.9397\n",
      "300  = -0.8660\n",
      "310  = -0.7660\n",
      "320  = -0.6428\n",
      "330  = -0.5000\n",
      "340  = -0.3420\n",
      "350  = -0.1736\n",
      "360  = 0.0000\n"
     ]
    }
   ],
   "source": [
    "from math import sin, radians\n",
    "\n",
    "print('Ciclo do seno de \"0\" à \"360°\" com intervalo de \"10°\"')\n",
    "for i in range(0, 361, 10):\n",
    "    if 0 <= i < 360:\n",
    "        print(f'{f\"{i:<4} = \"}{sin(radians(i)):.4f}')\n",
    "    else:\n",
    "        print(f'{f\"{i:<4} = 0.0000\"}')"
   ]
  },
  {
   "cell_type": "code",
   "execution_count": 3,
   "id": "19176e16",
   "metadata": {},
   "outputs": [
    {
     "name": "stdout",
     "output_type": "stream",
     "text": [
      "pppppp pppppp True\n"
     ]
    }
   ],
   "source": [
    "b = ('p'*3)*2\n",
    "a = ('p'*2)*3\n",
    "print(a,b,a==b)"
   ]
  },
  {
   "cell_type": "code",
   "execution_count": 4,
   "id": "3f7be6a1",
   "metadata": {},
   "outputs": [
    {
     "name": "stdout",
     "output_type": "stream",
     "text": [
      "22\n"
     ]
    }
   ],
   "source": [
    "def fun():\n",
    "    for x in range(22,23,24):\n",
    "        print(x)\n",
    "fun()\n"
   ]
  },
  {
   "cell_type": "code",
   "execution_count": 21,
   "id": "b309f845",
   "metadata": {},
   "outputs": [
    {
     "name": "stdout",
     "output_type": "stream",
     "text": [
      "[23, 23, 23, 23] ['f', 'i', 'l', 'a', 'd', 'a', 'm', 'a', 'e'] ['r', 'a', 'n', 'g', 'e', '(', '1', ',', ' ', '9', ',', ' ', '2', ')']\n",
      "range(1, 5)\n"
     ]
    }
   ],
   "source": [
    "s = list((23, )*4)\n",
    "e = list('filadamae')\n",
    "f = list(str(range(1,9,2)))\n",
    "print (s,e,f)\n",
    "print(range(1,5,1))"
   ]
  },
  {
   "cell_type": "code",
   "execution_count": 1,
   "id": "b99a4170",
   "metadata": {},
   "outputs": [
    {
     "data": {
      "text/plain": [
       "5.000000000000001"
      ]
     },
     "execution_count": 1,
     "metadata": {},
     "output_type": "execute_result"
    }
   ],
   "source": [
    "3*(5)**(1/2)/3*5**(1/2)"
   ]
  },
  {
   "cell_type": "code",
   "execution_count": 82,
   "id": "20e073df",
   "metadata": {},
   "outputs": [
    {
     "name": "stdout",
     "output_type": "stream",
     "text": [
      "[[0, 1, 0, 0], [1, 0, 0, 3], [3, 3, 0, 1], [3, 0, 1, 0]]\n",
      "Pontos: Time1: 1 Time 2: 4 Time3: 7 Time4: 4\n",
      "Total de pontos: 16\n"
     ]
    }
   ],
   "source": [
    "# Estudo de pontos no confronto entre os times de um grupo\n",
    "from random import choices\n",
    "\n",
    "def sorteio():\n",
    "    ponto_ab = choice([0,1,3])\n",
    "    if ponto_ab != 1:\n",
    "        ponto_ba = 3 - ponto_ab\n",
    "    else:\n",
    "        ponto_ba = 1\n",
    "    return ponto_ab, ponto_ba\n",
    "\n",
    "num_times = 4\n",
    "j11 = j22 = j33 = j44 = 0#'x'\n",
    "r = sorteio(); j12 = r[0]; j21 = r[1]\n",
    "r = sorteio(); j13 = r[0]; j31 = r[1]\n",
    "r = sorteio(); j14 = r[0]; j41 = r[1]\n",
    "r = sorteio(); j23 = r[0]; j32 = r[1]\n",
    "r = sorteio(); j24 = r[0]; j42 = r[1]\n",
    "r = sorteio(); j34 =r[0]; j43 = r[1]\n",
    "matriz_xy = [[j11,j12,j13,j14],\n",
    "            [j21,j22,j23,j24],\n",
    "            [j31,j32,j33,j34],\n",
    "            [j41,j42,j43,j44]]\n",
    "print (matriz_xy)\n",
    "print ('Pontos: Time1:',sum(matriz_xy[0]),'Time 2:',sum(matriz_xy[1]),'Time3:',sum(matriz_xy[2]),'Time4:',sum(matriz_xy[3]))\n",
    "tot_pontos = 0\n",
    "for i in matriz_xy:\n",
    "    tot_pontos = tot_pontos + sum(i)\n",
    "print ('Total de pontos:', tot_pontos)\n",
    "#matriz_xy"
   ]
  },
  {
   "cell_type": "code",
   "execution_count": 15,
   "id": "f90fc0df",
   "metadata": {},
   "outputs": [
    {
     "name": "stdout",
     "output_type": "stream",
     "text": [
      "PontosA: 3 PontosB: 0 Vitorias A: 1 Empates: 0 Vitorias B: 0\n"
     ]
    }
   ],
   "source": [
    "# Criando pontuação\n",
    "from random import randrange\n",
    "def partida():\n",
    "    golsa = randrange(5)\n",
    "    golsb = randrange(5)\n",
    "    #print(golsa,'X',golsb)\n",
    "    sg = golsa - golsb\n",
    "    if golsa == golsb:\n",
    "        pontosa = pontosb = 1\n",
    "    elif golsa > golsb:\n",
    "        pontosa = 3; pontosb = 0\n",
    "    else:\n",
    "        pontosa = 0; pontosb = 3\n",
    "    return pontosa, pontosb, sg\n",
    "\n",
    "a=e=b=0\n",
    "for i in range(0,1):\n",
    "    result = partida()\n",
    "    if result[0] > result[1]:\n",
    "        a +=1\n",
    "    elif result[0] < result[1]:\n",
    "        b +=1\n",
    "    else:\n",
    "        e +=1\n",
    "print ('PontosA:',result[0],'PontosB:',result[1], 'Vitorias A:',a,'Empates:',e,'Vitorias B:',b)"
   ]
  },
  {
   "cell_type": "code",
   "execution_count": 18,
   "id": "0c5af221",
   "metadata": {},
   "outputs": [
    {
     "name": "stdout",
     "output_type": "stream",
     "text": [
      "Pontos                   Saldo gols\n",
      "[0, 3, 1, 3]      7      [0, 2, 0, 2]       4\n",
      "[0, 0, 3, 0]      3      [-2, 0, 4, 2]       4\n",
      "[1, 0, 0, 0]      1      [0, -4, 0, -3]       -7\n",
      "[0, 3, 3, 0]      6      [-2, -2, 3, 0]       -1\n"
     ]
    }
   ],
   "source": [
    "num_times = 4\n",
    "j11 = j22 = j33 = j44 = 0\n",
    "g11 = g22 = g33 = g44 = 0#'x'\n",
    "r = partida(); j12 = r[0]; j21 = r[1];g12=r[2];g21=r[2]*(-1)\n",
    "r = partida(); j13 = r[0]; j31 = r[1];g13=r[2];g31=r[2]*(-1)\n",
    "r = partida(); j14 = r[0]; j41 = r[1];g14=r[2];g41=r[2]*(-1)\n",
    "r = partida(); j23 = r[0]; j32 = r[1];g23=r[2];g32=r[2]*(-1)\n",
    "r = partida(); j24 = r[0]; j42 = r[1];g42=r[2];g24=r[2]*(-1)\n",
    "r = partida(); j34 =r[0]; j43 = r[1];g34=r[2];g43=r[2]*(-1)\n",
    "matriz_xy_pontos = [[j11,j12,j13,j14],\n",
    "            [j21,j22,j23,j24],\n",
    "            [j31,j32,j33,j34],\n",
    "            [j41,j42,j43,j44]]\n",
    "matriz_xy_s_gols = [[g11,g12,g13,g14],\n",
    "            [g21,g22,g23,g24],\n",
    "            [g31,g32,g33,g34],\n",
    "            [g41,g42,g43,g44]]\n",
    "\n",
    "n=0\n",
    "print ('Pontos                   Saldo gols')\n",
    "for i in matriz_xy_pontos:\n",
    "    print (i, '    ', sum(i), '    ', matriz_xy_s_gols[n], '     ',sum(matriz_xy_s_gols[n]) )\n",
    "    n+=1\n",
    "\n",
    "#print ('Pontos: \\nTime1:',sum(matriz_xy_pontos[0]),'\\nTime2:',sum(matriz_xy_pontos[1]),'\\nTime3:',sum(matriz_xy_pontos[2]),'\\nTime4:',sum(matriz_xy_pontos[3]))\n",
    "#print ('Saldo de gols: \\nTime1:',sum(matriz_xy_s_gols[0]),'\\nTime2:',sum(matriz_xy_s_gols[1]),'\\nTime3:',sum(matriz_xy_s_gols[2]),'\\nTime4:',sum(matriz_xy_s_gols[3]))"
   ]
  },
  {
   "cell_type": "code",
   "execution_count": 2,
   "metadata": {},
   "outputs": [
    {
     "ename": "NameError",
     "evalue": "name 'num_times' is not defined",
     "output_type": "error",
     "traceback": [
      "\u001b[0;31m---------------------------------------------------------------------------\u001b[0m",
      "\u001b[0;31mNameError\u001b[0m                                 Traceback (most recent call last)",
      "Cell \u001b[0;32mIn [2], line 1\u001b[0m\n\u001b[0;32m----> 1\u001b[0m num_confrontos \u001b[39m=\u001b[39m (num_times \u001b[39m*\u001b[39m (num_times \u001b[39m-\u001b[39m \u001b[39m1\u001b[39m) ) \u001b[39m/\u001b[39m \u001b[39m2\u001b[39m\n\u001b[1;32m      2\u001b[0m \u001b[39mprint\u001b[39m (num_confrontos, \u001b[39m'\u001b[39m\u001b[39mjogos entre todos times\u001b[39m\u001b[39m'\u001b[39m)\n\u001b[1;32m      3\u001b[0m num_jogos_time \u001b[39m=\u001b[39m num_times \u001b[39m-\u001b[39m \u001b[39m1\u001b[39m\n",
      "\u001b[0;31mNameError\u001b[0m: name 'num_times' is not defined"
     ]
    }
   ],
   "source": [
    "num_confrontos = (num_times * (num_times - 1) ) / 2\n",
    "print (num_confrontos, 'jogos entre todos times')\n",
    "num_jogos_time = num_times - 1\n",
    "print (num_jogos_time, 'jogos para cada time')\n",
    "num_pontos = 3*num_confrontos\n",
    "print (num_pontos, 'pontos no total')\n",
    "\n",
    "print ('A ganha de B, C e D ==============> 9pts')\n",
    "print ('B perde de A e ganha de C e D ====> 6pts')\n",
    "print ('C perde de A e de B e ganha de D => 3pts')\n",
    "print ('D perde A, B e C =================> 0 pts')"
   ]
  },
  {
   "cell_type": "code",
   "execution_count": null,
   "id": "0b7d5c24",
   "metadata": {},
   "outputs": [],
   "source": []
  },
  {
   "cell_type": "code",
   "execution_count": null,
   "id": "3a7e38ea",
   "metadata": {},
   "outputs": [],
   "source": []
  },
  {
   "cell_type": "code",
   "execution_count": null,
   "id": "2b7d9529",
   "metadata": {},
   "outputs": [],
   "source": []
  },
  {
   "cell_type": "code",
   "execution_count": null,
   "id": "7178af89",
   "metadata": {},
   "outputs": [],
   "source": []
  }
 ],
 "metadata": {
  "interpreter": {
   "hash": "916dbcbb3f70747c44a77c7bcd40155683ae19c65e1c03b4aa3499c5328201f1"
  },
  "kernelspec": {
   "display_name": "Python 3.8.10 64-bit",
   "language": "python",
   "name": "python3"
  },
  "language_info": {
   "codemirror_mode": {
    "name": "ipython",
    "version": 3
   },
   "file_extension": ".py",
   "mimetype": "text/x-python",
   "name": "python",
   "nbconvert_exporter": "python",
   "pygments_lexer": "ipython3",
   "version": "3.10.6 (main, Nov 14 2022, 16:10:14) [GCC 11.3.0]"
  }
 },
 "nbformat": 4,
 "nbformat_minor": 5
}
