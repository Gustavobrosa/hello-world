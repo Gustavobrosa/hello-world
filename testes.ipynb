{
 "cells": [
  {
   "cell_type": "code",
   "execution_count": null,
   "id": "42bb2db7",
   "metadata": {},
   "outputs": [],
   "source": [
    "a=(1,2,3)\n",
    "b=[4,5,6]\n",
    "c={7,8,9}\n",
    "p,q,r = a\n",
    "s,t,u = b\n",
    "x,y,z = c\n",
    "print(p,q,r)\n",
    "print(s,t,u)\n",
    "print(x,y,z)\n",
    "print(a,b,c)\n"
   ]
  },
  {
   "cell_type": "code",
   "execution_count": null,
   "id": "37d6ce14",
   "metadata": {},
   "outputs": [],
   "source": [
    "\n",
    "x=67\n",
    "y=80\n",
    "print (x,y)\n",
    "x,y,z=1,2,3\n",
    "print(x,y,z)\n",
    "\n",
    "print ('search'.find('s'))\n"
   ]
  },
  {
   "cell_type": "code",
   "execution_count": null,
   "id": "e281cced",
   "metadata": {},
   "outputs": [],
   "source": [
    "\n",
    "\n",
    "n = 6\n",
    "for i in range(0,n,1):\n",
    "    for j in range(0,i+1):\n",
    "        print(j,end='')\n",
    "    print()\n"
   ]
  },
  {
   "cell_type": "code",
   "execution_count": null,
   "id": "451afa7b",
   "metadata": {},
   "outputs": [],
   "source": [
    "def fun():\n",
    "    a=4+5\n",
    "    print (a)\n",
    "    pass\n",
    "print(type(fun()))"
   ]
  },
  {
   "cell_type": "code",
   "execution_count": null,
   "id": "8ad9166b",
   "metadata": {},
   "outputs": [],
   "source": [
    "for sx in range(-100,100,1):\n",
    "    x=sx\n",
    "    y = (x**2-7*x+11)**(x**2-13*x+42)-1\n",
    "    if y==0:\n",
    "        print('solucao', end='  ')\n",
    "        print('x=%.0f   y=%.2e' %(x,y))"
   ]
  },
  {
   "cell_type": "code",
   "execution_count": null,
   "id": "7c1047d8",
   "metadata": {},
   "outputs": [],
   "source": [
    "def myfun(n):\n",
    "    return lambda a : a * n\n",
    "result = myfun(2)\n",
    "print (result(11))"
   ]
  },
  {
   "cell_type": "code",
   "execution_count": null,
   "id": "1f3c9e3d",
   "metadata": {},
   "outputs": [],
   "source": [
    "a = 'python'\n",
    "a = 'j' + a[1:]\n",
    "print (a)\n",
    "a = a[:3] + 'j' + a[4:]\n",
    "print (a)\n"
   ]
  },
  {
   "cell_type": "code",
   "execution_count": 2,
   "id": "14ff859a",
   "metadata": {},
   "outputs": [
    {
     "name": "stdout",
     "output_type": "stream",
     "text": [
      "bitter\n"
     ]
    },
    {
     "ename": "TypeError",
     "evalue": "unsupported operand type(s) for +: 'NoneType' and 'str'",
     "output_type": "error",
     "traceback": [
      "\u001b[0;31m---------------------------------------------------------------------------\u001b[0m",
      "\u001b[0;31mTypeError\u001b[0m                                 Traceback (most recent call last)",
      "\u001b[0;32m<ipython-input-2-757fe070311c>\u001b[0m in \u001b[0;36m<module>\u001b[0;34m\u001b[0m\n\u001b[1;32m      2\u001b[0m \u001b[0;32mdef\u001b[0m \u001b[0mf\u001b[0m\u001b[0;34m(\u001b[0m\u001b[0ma\u001b[0m\u001b[0;34m)\u001b[0m\u001b[0;34m:\u001b[0m\u001b[0;34m\u001b[0m\u001b[0;34m\u001b[0m\u001b[0m\n\u001b[1;32m      3\u001b[0m     \u001b[0mprint\u001b[0m \u001b[0;34m(\u001b[0m\u001b[0ma\u001b[0m\u001b[0;34m)\u001b[0m\u001b[0;34m+\u001b[0m\u001b[0me\u001b[0m\u001b[0;34m\u001b[0m\u001b[0;34m\u001b[0m\u001b[0m\n\u001b[0;32m----> 4\u001b[0;31m \u001b[0mf\u001b[0m\u001b[0;34m(\u001b[0m\u001b[0;34m'bitter'\u001b[0m\u001b[0;34m)\u001b[0m\u001b[0;34m\u001b[0m\u001b[0;34m\u001b[0m\u001b[0m\n\u001b[0m",
      "\u001b[0;32m<ipython-input-2-757fe070311c>\u001b[0m in \u001b[0;36mf\u001b[0;34m(a)\u001b[0m\n\u001b[1;32m      1\u001b[0m \u001b[0me\u001b[0m\u001b[0;34m=\u001b[0m\u001b[0;34m'butter'\u001b[0m\u001b[0;34m\u001b[0m\u001b[0;34m\u001b[0m\u001b[0m\n\u001b[1;32m      2\u001b[0m \u001b[0;32mdef\u001b[0m \u001b[0mf\u001b[0m\u001b[0;34m(\u001b[0m\u001b[0ma\u001b[0m\u001b[0;34m)\u001b[0m\u001b[0;34m:\u001b[0m\u001b[0;34m\u001b[0m\u001b[0;34m\u001b[0m\u001b[0m\n\u001b[0;32m----> 3\u001b[0;31m     \u001b[0mprint\u001b[0m \u001b[0;34m(\u001b[0m\u001b[0ma\u001b[0m\u001b[0;34m)\u001b[0m\u001b[0;34m+\u001b[0m\u001b[0me\u001b[0m\u001b[0;34m\u001b[0m\u001b[0;34m\u001b[0m\u001b[0m\n\u001b[0m\u001b[1;32m      4\u001b[0m \u001b[0mf\u001b[0m\u001b[0;34m(\u001b[0m\u001b[0;34m'bitter'\u001b[0m\u001b[0;34m)\u001b[0m\u001b[0;34m\u001b[0m\u001b[0;34m\u001b[0m\u001b[0m\n",
      "\u001b[0;31mTypeError\u001b[0m: unsupported operand type(s) for +: 'NoneType' and 'str'"
     ]
    }
   ],
   "source": [
    "e='butter'\n",
    "def f(a):\n",
    "    print (a)+e\n",
    "f('bitter')"
   ]
  },
  {
   "cell_type": "code",
   "execution_count": null,
   "id": "bfd13c8e",
   "metadata": {},
   "outputs": [],
   "source": []
  },
  {
   "cell_type": "code",
   "execution_count": null,
   "id": "da3ec877",
   "metadata": {},
   "outputs": [],
   "source": []
  },
  {
   "cell_type": "markdown",
   "id": "cf2b5194",
   "metadata": {},
   "source": [
    "# Trabalhando com .m3u"
   ]
  },
  {
   "cell_type": "code",
   "execution_count": null,
   "id": "a756cd45",
   "metadata": {},
   "outputs": [],
   "source": [
    "# criando novo .m3u\n",
    "\n",
    "# baixa o arquivo do servidor    http://meumd.com/get.php?username=19997402087&password=6Kwow93a&type=m3u_plus&output=ts\n",
    "import requests \n",
    "\n",
    "def baixar_arquivo(url, endereco=None):\n",
    "    resposta = requests.get(url, stream=True) #AQUI\n",
    "    if resposta.status_code == requests.codes.OK:\n",
    "        with open(endereco, 'wb') as novo_arquivo:\n",
    "                for parte in resposta.iter_content(chunk_size=256): #AQUI TBM\n",
    "                    novo_arquivo.write(parte)\n",
    "        print(\"Download finalizado. Arquivo salvo em: {}\".format(endereco))\n",
    "    else:\n",
    "        resposta.raise_for_status()\n",
    "        \n",
    "        \n",
    "url = 'http://meumd.com/get.php?username=19997402087&password=6Kwow93a&type=m3u_plus&output=ts'\n",
    "baixar_arquivo(url)"
   ]
  },
  {
   "cell_type": "code",
   "execution_count": 1,
   "id": "3d249a36",
   "metadata": {},
   "outputs": [
    {
     "ename": "ModuleNotFoundError",
     "evalue": "No module named 'wget'",
     "output_type": "error",
     "traceback": [
      "\u001b[0;31m---------------------------------------------------------------------------\u001b[0m",
      "\u001b[0;31mModuleNotFoundError\u001b[0m                       Traceback (most recent call last)",
      "\u001b[0;32m<ipython-input-1-e28508aa1a0d>\u001b[0m in \u001b[0;36m<module>\u001b[0;34m\u001b[0m\n\u001b[0;32m----> 1\u001b[0;31m \u001b[0;32mimport\u001b[0m \u001b[0mwget\u001b[0m\u001b[0;34m\u001b[0m\u001b[0;34m\u001b[0m\u001b[0m\n\u001b[0m\u001b[1;32m      2\u001b[0m \u001b[0murl\u001b[0m \u001b[0;34m=\u001b[0m \u001b[0;34m'http://meumd.com/get.php?username=19997402087&password=6Kwow93a&type=m3u_plus&output=ts'\u001b[0m\u001b[0;34m\u001b[0m\u001b[0;34m\u001b[0m\u001b[0m\n\u001b[1;32m      3\u001b[0m \u001b[0;34m\u001b[0m\u001b[0m\n\u001b[1;32m      4\u001b[0m \u001b[0mwget\u001b[0m\u001b[0;34m.\u001b[0m\u001b[0mdownload\u001b[0m\u001b[0;34m(\u001b[0m\u001b[0murl\u001b[0m\u001b[0;34m)\u001b[0m\u001b[0;34m\u001b[0m\u001b[0;34m\u001b[0m\u001b[0m\n\u001b[1;32m      5\u001b[0m \u001b[0;34m\u001b[0m\u001b[0m\n",
      "\u001b[0;31mModuleNotFoundError\u001b[0m: No module named 'wget'"
     ]
    }
   ],
   "source": [
    "import wget\n",
    "url = 'http://meumd.com/get.php?username=19997402087&password=6Kwow93a&type=m3u_plus&output=ts'\n",
    "\n",
    "wget.download(url)\n",
    "\n",
    "# separa os canais em listas\n",
    "\n",
    "# cria novo m3u simplificado"
   ]
  },
  {
   "cell_type": "code",
   "execution_count": 7,
   "id": "37f018bc",
   "metadata": {},
   "outputs": [
    {
     "name": "stdout",
     "output_type": "stream",
     "text": [
      "QWERT\n",
      " qwert\n"
     ]
    }
   ],
   "source": [
    "x = 'qwert'\n",
    "for i in range(len(x)):\n",
    "    d=x[i].upper()\n",
    "    print(d,end='')\n",
    "print('\\r\\n',x)"
   ]
  },
  {
   "cell_type": "code",
   "execution_count": 12,
   "id": "076129cc",
   "metadata": {},
   "outputs": [
    {
     "data": {
      "text/plain": [
       "0.0"
      ]
     },
     "execution_count": 12,
     "metadata": {},
     "output_type": "execute_result"
    }
   ],
   "source": [
    "a=100\n",
    "b=5\n",
    "a//(b*a)/b"
   ]
  },
  {
   "cell_type": "code",
   "execution_count": 5,
   "id": "26f72972",
   "metadata": {},
   "outputs": [
    {
     "name": "stdout",
     "output_type": "stream",
     "text": [
      "Download finalizado. Arquivo salvo em: /home//gustavo//Downloads//teste.mp4\n"
     ]
    }
   ],
   "source": [
    "# Codigo para download de videos nao funciona ainda\n",
    "import requests\n",
    "import os\n",
    "\n",
    "def baixar_arquivo(url, endereco=None): #\"C:\\\\home\\\\gustavo\\\\Downloads\\\\teste.mp4\"):\n",
    "    if endereco is None:\n",
    "        endereco = os.path.basename(url.split(\"?\")[0])\n",
    "    resposta = requests.get(url, stream=True)\n",
    "    if resposta.status_code == requests.codes.OK:\n",
    "        with open(endereco, 'wb') as novo_arquivo:\n",
    "            for parte in resposta.iter_content(chunk_size=256):\n",
    "                novo_arquivo.write(parte)\n",
    "        print(\"Download finalizado. Arquivo salvo em: {}\".format(endereco))\n",
    "    else:\n",
    "        resposta.raise_for_status()\n",
    "\n",
    "if __name__ == \"__main__\":\n",
    "    # testando a função\n",
    "    test_url = \"https://youtu.be/6-mxpMiKs_s\"\n",
    "    #test_url = \"https://www.invistaspiti.com.br/al/experiencia/metodo-das-caixas/aulas/metodo-das-caixas/\"\n",
    "    baixar_arquivo(test_url, \"/home//gustavo//Downloads//teste.mp4\")"
   ]
  },
  {
   "cell_type": "code",
   "execution_count": 1,
   "id": "bbf5546a",
   "metadata": {},
   "outputs": [],
   "source": [
    "l = (1,2,3)\n",
    "if type(l) is list:\n",
    "    print(1 == 1)"
   ]
  },
  {
   "cell_type": "code",
   "execution_count": 40,
   "id": "10224f02",
   "metadata": {},
   "outputs": [
    {
     "name": "stderr",
     "output_type": "stream",
     "text": [
      "<ipython-input-40-84cb952ef195>:7: RuntimeWarning: invalid value encountered in sqrt\n",
      "  y3=(np.sqrt(np.sin(x1)))\n"
     ]
    },
    {
     "data": {
      "image/png": "[encoded data removed]",
      "text/plain": [
       "<Figure size 432x288 with 1 Axes>"
      ]
     },
     "metadata": {
      "needs_background": "light"
     },
     "output_type": "display_data"
    }
   ],
   "source": [
    "import numpy as np\n",
    "import matplotlib.pyplot as plt\n",
    "from math import sin, radians\n",
    "x1=np.arange(0,19,0.01)\n",
    "y1=np.sin(x1)\n",
    "y2=np.sin(x1)**2\n",
    "y3=(np.sqrt(np.sin(x1)))\n",
    "plt.plot(x1,y1)\n",
    "plt.plot(x1,y2)\n",
    "plt.plot(x1,y3)\n",
    "plt.show()"
   ]
  },
  {
   "cell_type": "code",
   "execution_count": 43,
   "id": "14592509",
   "metadata": {},
   "outputs": [
    {
     "name": "stdout",
     "output_type": "stream",
     "text": [
      "Ciclo do seno de \"0\" à \"360°\" com intervalo de \"10°\"\n",
      "0    = 0.0000\n",
      "10   = 0.1736\n",
      "20   = 0.3420\n",
      "30   = 0.5000\n",
      "40   = 0.6428\n",
      "50   = 0.7660\n",
      "60   = 0.8660\n",
      "70   = 0.9397\n",
      "80   = 0.9848\n",
      "90   = 1.0000\n",
      "100  = 0.9848\n",
      "110  = 0.9397\n",
      "120  = 0.8660\n",
      "130  = 0.7660\n",
      "140  = 0.6428\n",
      "150  = 0.5000\n",
      "160  = 0.3420\n",
      "170  = 0.1736\n",
      "180  = 0.0000\n",
      "190  = -0.1736\n",
      "200  = -0.3420\n",
      "210  = -0.5000\n",
      "220  = -0.6428\n",
      "230  = -0.7660\n",
      "240  = -0.8660\n",
      "250  = -0.9397\n",
      "260  = -0.9848\n",
      "270  = -1.0000\n",
      "280  = -0.9848\n",
      "290  = -0.9397\n",
      "300  = -0.8660\n",
      "310  = -0.7660\n",
      "320  = -0.6428\n",
      "330  = -0.5000\n",
      "340  = -0.3420\n",
      "350  = -0.1736\n",
      "360  = 0.0000\n"
     ]
    }
   ],
   "source": [
    "from math import sin, radians\n",
    "\n",
    "print('Ciclo do seno de \"0\" à \"360°\" com intervalo de \"10°\"')\n",
    "for i in range(0, 361, 10):\n",
    "    if 0 <= i < 360:\n",
    "        print(f'{f\"{i:<4} = \"}{sin(radians(i)):.4f}')\n",
    "    else:\n",
    "        print(f'{f\"{i:<4} = 0.0000\"}')"
   ]
  },
  {
   "cell_type": "code",
   "execution_count": 3,
   "id": "19176e16",
   "metadata": {},
   "outputs": [
    {
     "name": "stdout",
     "output_type": "stream",
     "text": [
      "pppppp pppppp True\n"
     ]
    }
   ],
   "source": [
    "b = ('p'*3)*2\n",
    "a = ('p'*2)*3\n",
    "print(a,b,a==b)"
   ]
  },
  {
   "cell_type": "code",
   "execution_count": 4,
   "id": "3f7be6a1",
   "metadata": {},
   "outputs": [
    {
     "name": "stdout",
     "output_type": "stream",
     "text": [
      "22\n"
     ]
    }
   ],
   "source": [
    "def fun():\n",
    "    for x in range(22,23,24):\n",
    "        print(x)\n",
    "fun()\n"
   ]
  },
  {
   "cell_type": "code",
   "execution_count": 21,
   "id": "b309f845",
   "metadata": {},
   "outputs": [
    {
     "name": "stdout",
     "output_type": "stream",
     "text": [
      "[23, 23, 23, 23] ['f', 'i', 'l', 'a', 'd', 'a', 'm', 'a', 'e'] ['r', 'a', 'n', 'g', 'e', '(', '1', ',', ' ', '9', ',', ' ', '2', ')']\n",
      "range(1, 5)\n"
     ]
    }
   ],
   "source": [
    "s = list((23, )*4)\n",
    "e = list('filadamae')\n",
    "f = list(str(range(1,9,2)))\n",
    "print (s,e,f)\n",
    "print(range(1,5,1))"
   ]
  },
  {
   "cell_type": "code",
   "execution_count": 1,
   "id": "b99a4170",
   "metadata": {},
   "outputs": [
    {
     "data": {
      "text/plain": [
       "5.000000000000001"
      ]
     },
     "execution_count": 1,
     "metadata": {},
     "output_type": "execute_result"
    }
   ],
   "source": [
    "3*(5)**(1/2)/3*5**(1/2)"
   ]
  }
 ],
 "metadata": {
  "interpreter": {
   "hash": "916dbcbb3f70747c44a77c7bcd40155683ae19c65e1c03b4aa3499c5328201f1"
  },
  "kernelspec": {
   "display_name": "Python 3.8.10 64-bit",
   "language": "python",
   "name": "python3"
  },
  "language_info": {
   "codemirror_mode": {
    "name": "ipython",
    "version": 3
   },
   "file_extension": ".py",
   "mimetype": "text/x-python",
   "name": "python",
   "nbconvert_exporter": "python",
   "pygments_lexer": "ipython3",
   "version": "3.8.10"
  }
 },
 "nbformat": 4,
 "nbformat_minor": 5
}
