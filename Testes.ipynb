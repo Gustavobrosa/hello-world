{
 "cells": [
  {
   "cell_type": "code",
   "execution_count": null,
   "metadata": {},
   "outputs": [],
   "source": [
    "lista_de_zips = ['SPM18ADD002_BPO.fxzhm','SPM18ADD003_BPO.fxzhm','SPM18ADD005_BPO.fxzhm','SPM18ADD006_BPO.fxzhm']\n",
    "listadefolders = ['SPM18ADD002_BPO','SPM18ADD003_BPO','SPM18ADD005_BPO','SPM18ADD006_BPO']\n",
    "listadexml = ['SPM18ADD002_BPO.xml','SPM18ADD003_BPO.xml','SPM18ADD005_BPO.xml','SPM18ADD006_BPO.xml']\n",
    "shipment = '01'\n",
    "\n",
    "usa_hamster = input('Deseja usar memorias Hamster(s/n)? ')\n",
    "\n",
    "\n",
    "if usa_hamster == 's':\n",
    "    indicediretorios = ['0','1','2','3','4','5','6','7','8','9','a','b','c','d','e','f','g','h','i','j','k','l','m','n','o','p','q','r','s','t','w','x','y','z']\n",
    "    num_de_folders = len(listadefolders) - 1\n",
    "    d = 0\n",
    "    for i in listadefolders:\n",
    "        proj = i[:5]\n",
    "        path_name = 'c:\\\\OTM\\\\' + proj + '00' + indicediretorios[d] + '.F00\\\\'\n",
    "        listadearq = os.listdir (path_name)\n",
    "        for n in listadearq:\n",
    "            xml_file = path_name + n\n",
    "            if proj in n:\n",
    "                aceitahamster(xml_file)\n",
    "        d = d + 1\n",
    "        print ('XML alterados para usar hamster')\n"
   ]
  },
  {
   "cell_type": "code",
   "execution_count": null,
   "metadata": {},
   "outputs": [],
   "source": [
    "def aceitahamster(xml_file): #Função para alterar o arquivo xml que fica no disco do otm e que é responsável pelo uso das memoria hamster\n",
    "    xml_hamster = codecs.open(xml_file, 'r', encoding='utf-8')\n",
    "    xml_hamster_upd = ''.join(xml_hamster.read())\n",
    "    xml_hamster_upd = xml_hamster_upd.replace('HamsterStar', 'Substitute')\n",
    "    xml_hamster_upd = xml_hamster_upd.replace('Hamster', 'Substitute')\n",
    "    xml_hamster_upd = xml_hamster_upd.replace('GlobMemStar', 'Substitute')\n",
    "    xml_hamster_upd = xml_hamster_upd.replace('GlobMem', 'Substitute')\n",
    "    xml_hamster_upd = xml_hamster_upd.replace('Exclude', 'Substitute')\n",
    "    xml_hamster.close\n",
    "    xml_final = codecs.open(xml_file, 'w', encoding='utf-8')\n",
    "    xml_final.write(xml_hamster_upd)\n",
    "    xml_final.close()\n",
    "    print('Fim - propriedade do folder {} alterada para usar todas memorias Hamster'.format(xml_file))\n",
    "    pass"
   ]
  },
  {
   "cell_type": "code",
   "execution_count": null,
   "metadata": {},
   "outputs": [],
   "source": [
    "tipos_de_hamsters = ['HamsterStar', 'Hamster', 'GlobMemStar', 'GlobMem', 'Exclude', 'Substitute']\n",
    "\n",
    "\n",
    "(ProjectId name=.)(SPM70).*(Flag=.)(Substitute.)\n"
   ]
  },
  {
   "cell_type": "code",
   "execution_count": null,
   "metadata": {
    "scrolled": true
   },
   "outputs": [],
   "source": [
    "# (ProjectId name=.)(SPM62).*(Flag=.)(Substitute).\n",
    "#r\"(ProjectId name=.)(AHI04).*(.*\\n.*\\n.*\\n.*\\n.*\\n.*\\n.*\\n.*\\n.*)?(Hamster).\"\n",
    "import re, os, codecs\n",
    "\n",
    "xml_file = 'C:\\\\_FH\\\\SPM18ADD003_1_en-US_pt-BR_filter.xml'\n",
    "#xml_file = 'C:\\\\_FH\\\\ACM12ADD004_0_en-US_pt-BR_filter.xml'\n",
    "\n",
    "xml_hamster = codecs.open(xml_file, 'r', encoding='utf-8')\n",
    "xml_hamster_upd = ''.join(xml_hamster.read())\n",
    "\n",
    "projeto = 'SPM62'\n",
    "tag = 'Substitute'\n",
    "\n",
    "regex = r\"(ProjectId name=.)(\"+projeto+\").*(.*\\n.*\\n.*\\n.*\\n.*\\n.*\\n.*\\n.*\\n.*)?(\"+tag+\").\"\n",
    "\n",
    "test_str = xml_hamster_upd\n",
    "matches = re.finditer(regex, test_str, re.MULTILINE)\n",
    "for matchNum, match in enumerate(matches):\n",
    "    matchNum = matchNum + 1\n",
    "    #print (\"Match {matchNum} was found at {start}-{end}: {match}\".format(matchNum = matchNum, start = match.start(), end = match.end(), match = match.group()))\n",
    "    for groupNum in range(0, len(match.groups())):\n",
    "        groupNum = groupNum + 1        \n",
    "        print (\"Group {groupNum} found at {start}-{end}: {group}\".format(groupNum = groupNum, start = match.start(groupNum), end = match.end(groupNum), group = match.group(groupNum)))\n",
    "        \n",
    "#print(test_str.group"
   ]
  },
  {
   "cell_type": "code",
   "execution_count": null,
   "metadata": {},
   "outputs": [],
   "source": [
    "#transformar uma lista em um texto\n",
    "list = ['primeiro', 'segundo', 'terceiro']\n",
    "', '.join(list)"
   ]
  },
  {
   "cell_type": "code",
   "execution_count": null,
   "metadata": {},
   "outputs": [],
   "source": [
    "#--------python.hub---------#\n",
    "def add(a, b):\n",
    "    return a+5, b+5\n",
    "result = add(3,2)\n",
    "print(result)"
   ]
  },
  {
   "cell_type": "code",
   "execution_count": null,
   "metadata": {},
   "outputs": [],
   "source": [
    "a = 2_2\n",
    "b = 2\n",
    "print (a*b)\n",
    "print (a,b)"
   ]
  },
  {
   "cell_type": "code",
   "execution_count": null,
   "metadata": {},
   "outputs": [],
   "source": [
    "a = 1,2+3,4\n",
    "print(a)"
   ]
  },
  {
   "cell_type": "code",
   "execution_count": null,
   "metadata": {},
   "outputs": [],
   "source": [
    "import math\n",
    "s = abs(math.sqrt(36))\n",
    "print (s)"
   ]
  },
  {
   "cell_type": "code",
   "execution_count": null,
   "metadata": {},
   "outputs": [],
   "source": [
    "s = abs(-math.sqrt(36))\n",
    "print (s)"
   ]
  },
  {
   "cell_type": "code",
   "execution_count": 3,
   "metadata": {},
   "outputs": [
    {
     "name": "stdout",
     "output_type": "stream",
     "text": [
      "Delta= 5.0  X1= 0.6180339887498949  X2= -1.618033988749895  Xv= -0.5  Yv= -1.25\n",
      "====================\n",
      "variação= 3\n"
     ]
    },
    {
     "data": {
      "text/plain": [
       "<Figure size 640x480 with 1 Axes>"
      ]
     },
     "metadata": {},
     "output_type": "display_data"
    }
   ],
   "source": [
    "#print(\"=\"*20)\n",
    "valor_a = 1 #float(input(\"Digite o valor de A: \"))\n",
    "#print(\"=\"*20)\n",
    "valor_b = 1 #float(input(\"Digite o valor de B: \"))\n",
    "#print(\"=\"*20)\n",
    "valor_c = float(input(\"Digite o valor de C: \"))\n",
    "#print(\"=\"*20)\n",
    "delta = ((valor_b)**2)-(4*valor_a*valor_c)\n",
    "if delta < 0:\n",
    "    raise Exception('Delta < 0 ')\n",
    "valor_x1 = (-(valor_b)+((delta)**(1/2)))/(2*valor_a)\n",
    "valor_x2 = (-(valor_b)-((delta)**(1/2)))/(2*valor_a)\n",
    "valor_xV = -(valor_b)/(2*valor_a)\n",
    "valor_yV = -(delta)/(4*valor_a)\n",
    "print(\"Delta=\", delta, end=\"  \")\n",
    "print(\"X1=\", valor_x1, end=\"  \")\n",
    "print(\"X2=\", valor_x2, end=\"  \")\n",
    "print(\"Xv=\", valor_xV, end=\"  \")\n",
    "print(\"Yv=\", valor_yV)\n",
    "print(\"=\"*20)\n",
    "\n",
    "import matplotlib.pyplot as plt\n",
    "import numpy as np\n",
    "eixo_x = []\n",
    "eixo_y = []\n",
    "zero = []\n",
    "\n",
    "variacao = abs(valor_x1 - valor_x2)\n",
    "if variacao < 3:\n",
    "    variacao = 3\n",
    "print('variação=',variacao)\n",
    "\n",
    "for x in np.arange(valor_x1 - variacao, valor_x2 + variacao, variacao / 100):\n",
    "    y= valor_a * (x ** 2 ) + valor_b * (x) + valor_c\n",
    "    eixo_x.append(x)\n",
    "    eixo_y.append(y)\n",
    "    zero.append(0.0)\n",
    "plt.plot(eixo_x,eixo_y,color=\"blue\")\n",
    "plt.plot(eixo_x,zero,color=\"black\")\n",
    "plt.show()"
   ]
  },
  {
   "cell_type": "code",
   "execution_count": null,
   "metadata": {},
   "outputs": [],
   "source": [
    "k = [j for j in range(0,3,1)]\n",
    "print (k)"
   ]
  },
  {
   "cell_type": "code",
   "execution_count": null,
   "metadata": {},
   "outputs": [],
   "source": [
    "l = [1,2,3]\n",
    "print(l.clear())"
   ]
  },
  {
   "cell_type": "code",
   "execution_count": null,
   "metadata": {},
   "outputs": [],
   "source": [
    "l"
   ]
  },
  {
   "cell_type": "code",
   "execution_count": null,
   "metadata": {},
   "outputs": [],
   "source": [
    "for x in range(2,11,3):\n",
    "    print(x, end=' ')\n",
    "    if x == 3:\n",
    "        break\n",
    "    else:\n",
    "        y=x-1\n",
    "else:\n",
    "    print('error')\n"
   ]
  },
  {
   "cell_type": "code",
   "execution_count": null,
   "metadata": {},
   "outputs": [],
   "source": [
    "# Teste exemplo de amostra de jogo de dados com 2 dados e a soma\n",
    "from random import randint\n",
    "lista_resultados = []\n",
    "for i in range(1,900,1):\n",
    "    d1 = randint(1,6)\n",
    "    d2 = randint(1,6)\n",
    "    lista_resultados.append(d1 + d2)\n",
    "#print (lista_resultados)\n",
    "print(\"O número sorteado mais vezes foi: {}\".format(max(set(lista_resultados), key=lista_resultados.count)))\n",
    "print(\"O número sorteado menos vezes foi: {}\".format(min(set(lista_resultados), key=lista_resultados.count)))\n",
    "\n",
    "n2,n3,n4,n5,n6,n7,n8,n9,n10,n11,n12 = 0,0,0,0,0,0,0,0,0,0,0\n",
    "for j in lista_resultados:\n",
    "    if j == 2:\n",
    "        n2 += 1\n",
    "    elif j == 3:\n",
    "        n3 += 1\n",
    "    elif j == 4:\n",
    "        n4 += 1\n",
    "    elif j == 5:\n",
    "        n5 += 1\n",
    "    elif j == 6:\n",
    "        n6 += 1\n",
    "    elif j == 7:\n",
    "        n7 += 1\n",
    "    elif j == 8:\n",
    "        n8 += 1\n",
    "    elif j == 9:\n",
    "        n9 += 1\n",
    "    elif j == 10:\n",
    "        n10 += 1\n",
    "    elif j == 11:\n",
    "        n11 += 1\n",
    "    elif j == 12:\n",
    "        n12 += 1\n",
    "\n",
    "valores_somados = [n2,n3,n4,n5,n6,n7,n8,n9,n10,n11,n12]\n",
    "print (valores_somados)\n",
    "\n",
    "from matplotlib import pyplot as plt\n",
    "lista_numeros = [ 2,3,4,5,6,7,8,9,10,11,12]\n",
    "plt.plot(lista_numeros, valores_somados)\n",
    "plt.show()"
   ]
  },
  {
   "cell_type": "code",
   "execution_count": null,
   "metadata": {},
   "outputs": [],
   "source": [
    "thislist = ['a', 'b', 'c', 'd']\n",
    "thislist.pop()\n",
    "print(thislist)"
   ]
  },
  {
   "cell_type": "code",
   "execution_count": null,
   "metadata": {},
   "outputs": [],
   "source": [
    "val = ('a', 'b', 'c', 'd')\n",
    "(e, f, *g) = val\n",
    "print(g)"
   ]
  },
  {
   "cell_type": "code",
   "execution_count": null,
   "metadata": {},
   "outputs": [],
   "source": [
    "str = 'pythonhub'\n",
    "itr = iter(str)\n",
    "print (next(itr))"
   ]
  },
  {
   "cell_type": "code",
   "execution_count": null,
   "metadata": {},
   "outputs": [],
   "source": [
    "strl = 'helloworld'\n",
    "strl[::-1]"
   ]
  },
  {
   "cell_type": "code",
   "execution_count": null,
   "metadata": {},
   "outputs": [],
   "source": [
    "txt = \"python.hub\"\n",
    "x = txt.isalpha()\n",
    "y = txt.isalnum()\n",
    "print(x,y)"
   ]
  },
  {
   "cell_type": "code",
   "execution_count": null,
   "metadata": {},
   "outputs": [],
   "source": [
    "import datetime\n",
    "x = datetime.datetime.now()\n",
    "print(x.strftime('%Y-%m-%d'))"
   ]
  },
  {
   "cell_type": "code",
   "execution_count": null,
   "metadata": {},
   "outputs": [],
   "source": [
    "import math\n",
    "x = math.sqrt(81)\n",
    "print (x)"
   ]
  },
  {
   "cell_type": "code",
   "execution_count": null,
   "metadata": {},
   "outputs": [],
   "source": [
    "myDict = {1:\"a\", 2:\"b\", 3: \"c\"}\n",
    "myDict.pop(3)\n",
    "print(myDict)"
   ]
  },
  {
   "cell_type": "code",
   "execution_count": null,
   "metadata": {},
   "outputs": [],
   "source": [
    "print(bool(False), end=' ')\n",
    "print(bool(1==2)) # "
   ]
  },
  {
   "cell_type": "code",
   "execution_count": null,
   "metadata": {
    "tags": []
   },
   "outputs": [],
   "source": [
    "# Caso dos corredores.abs\n",
    "# C1 corre a 200m/min e C2 corre a 300m/min\n",
    "# Em uma pista com 1000m de comprimento, quando eles se encontrarão?\n",
    "# \n",
    "vc1 = 200\n",
    "vc2 = 300\n",
    "\n",
    "Pista = 1000\n",
    "t = 0\n",
    "d1 = 0\n",
    "d2 = 0\n",
    "d2f = 0.0\n",
    "while d1 != d2 or d1 == 0:\n",
    "    d1 = int(d1 + vc1)\n",
    "    d2 = int(d2 + vc2)\n",
    "    d2f = d2f + vc2\n",
    "    if d1 > 1000:\n",
    "        d1 = d1 - 1000\n",
    "    if d2 > 1000:\n",
    "        d2 = d2 - 1000\n",
    "    print ('d1=',d1)\n",
    "    print ('d2 =',d2)\n",
    "    t = t + 1\n",
    "\n",
    "print (t, d1, d2, d2f)"
   ]
  },
  {
   "cell_type": "code",
   "execution_count": null,
   "metadata": {},
   "outputs": [],
   "source": [
    "str = 'apapap'\n",
    "print (str.count('p',0,5))"
   ]
  },
  {
   "cell_type": "code",
   "execution_count": null,
   "metadata": {},
   "outputs": [],
   "source": [
    "print (7^10)"
   ]
  },
  {
   "cell_type": "code",
   "execution_count": null,
   "metadata": {},
   "outputs": [],
   "source": [
    "t = {'apple', 'banana', 'cherry'}\n",
    "t.remove('banana')\n",
    "print (t)"
   ]
  },
  {
   "cell_type": "code",
   "execution_count": null,
   "metadata": {},
   "outputs": [],
   "source": [
    "l = list('1234')\n",
    "l[0] = l[1] = 5\n",
    "print (l)"
   ]
  },
  {
   "cell_type": "code",
   "execution_count": null,
   "metadata": {},
   "outputs": [],
   "source": [
    "x = 'python hub'\n",
    "print (x.capitalize())"
   ]
  },
  {
   "cell_type": "code",
   "execution_count": null,
   "metadata": {},
   "outputs": [],
   "source": [
    "x = set('abc')\n",
    "x.add('def')\n",
    "d = set('er')\n",
    "d.add('rew')\n",
    "f = d\n",
    "print (x, f )\n"
   ]
  },
  {
   "cell_type": "code",
   "execution_count": null,
   "metadata": {},
   "outputs": [],
   "source": [
    "docs = '''BM160ABD042,\n",
    "BM160ABD056,\n",
    "BM160ABD068,\n",
    "BM160ABD074,\n",
    "BM160ABD097,\n",
    "BM160ABD101,\n",
    "BM160ABD109,\n",
    "BM160ABD147,BM160ABD153,\n",
    "BM160ABD155,BM160ABD156,BM160ABD166,\n",
    "BM160ABD167,BM160ABD170,BM160ABD182,\n",
    "BM160ABD193,BM160ABD199,BM160ABD207,\n",
    "BM160ABD208,BM160ABD221,BM160ABD229,\n",
    "BM160ABD230,BM160ABD231,BM160ABD232,\n",
    "BM160ABD236,BM160ABD238,BM160ABD239,\n",
    "BM160ABD240,BM160ABD246,BM160ABD247,\n",
    "BM160ABD248,BM160ABD249,BM160ABD250,\n",
    "BM160ABD251,BM160ABD253,BM160ABD255,\n",
    "BM160ABD257,BM160ABD258,BM160ABD259,\n",
    "BM160ABD277,BM160ABD279,BM160ABD289,\n",
    "BM160ABD290,BM160ABD291,BM160ABD293,\n",
    "BM160ABD295'''\n",
    "lista = docs.split(',')\n",
    "print (len(lista))\n",
    "for i in lista:\n",
    "    if '\\n' in i:\n",
    "        print (i[1:])\n",
    "    else:\n",
    "        print (i)\n",
    "\n",
    "\n",
    "print (lista)"
   ]
  },
  {
   "cell_type": "code",
   "execution_count": null,
   "metadata": {},
   "outputs": [],
   "source": [
    "a = 5\n",
    "b = 2\n",
    "c = b%a*a*b\n",
    "print (c)\n"
   ]
  },
  {
   "cell_type": "code",
   "execution_count": null,
   "metadata": {},
   "outputs": [],
   "source": [
    "# transformando strings em lista e pegando apenas os valores diferentes de '' da lista original\n",
    "a = input(\"Entre com os pkds IDs:\")\n",
    "b = a.split(\" \")\n",
    "c = b\n",
    "c = list(filter(('').__ne__, b))\n",
    "print (len(b), len(c))\n",
    "for i in c:\n",
    "    print (i,end=',')\n"
   ]
  },
  {
   "cell_type": "code",
   "execution_count": null,
   "metadata": {},
   "outputs": [],
   "source": [
    "x = 'pqrs'\n",
    "for i in range(len(x)):\n",
    "    x[i].upper()\n",
    "    print (x[i].upper(),end='')\n",
    "print()\n",
    "print (x)\n"
   ]
  },
  {
   "cell_type": "code",
   "execution_count": null,
   "metadata": {},
   "outputs": [],
   "source": [
    "def unpack(p,q,r,s):\n",
    "    print (p+s)\n",
    "a = [2,3,4,5]\n",
    "unpack(*a)"
   ]
  },
  {
   "cell_type": "code",
   "execution_count": 4,
   "metadata": {},
   "outputs": [
    {
     "name": "stderr",
     "output_type": "stream",
     "text": [
      "C:\\Users\\GUSTAVORosa\\AppData\\Roaming\\Python\\Python37\\site-packages\\pandas\\compat\\_optional.py:138: UserWarning: Pandas requires version '2.7.0' or newer of 'numexpr' (version '2.6.9' currently installed).\n",
      "  warnings.warn(msg, UserWarning)\n"
     ]
    },
    {
     "data": {
      "text/plain": [
       "<matplotlib.axes._subplots.AxesSubplot at 0x21d7e80b278>"
      ]
     },
     "execution_count": 4,
     "metadata": {},
     "output_type": "execute_result"
    },
    {
     "data": {
      "image/png": "[encoded data removed]",
      "text/plain": [
       "<Figure size 432x288 with 1 Axes>"
      ]
     },
     "metadata": {
      "needs_background": "light"
     },
     "output_type": "display_data"
    }
   ],
   "source": [
    "import numpy as np\n",
    "import seaborn as sns \n",
    "x = np.array([1,2,3,4,3,4,2,3,2,4,5,6,7,8,9])\n",
    "sns.distplot(x)\n"
   ]
  },
  {
   "cell_type": "code",
   "execution_count": null,
   "metadata": {},
   "outputs": [],
   "source": [
    "import tensorflow\n",
    "print (tensorflow.__version__)"
   ]
  },
  {
   "cell_type": "code",
   "execution_count": null,
   "metadata": {},
   "outputs": [],
   "source": [
    "from tensorflow import keras \n",
    "print (keras.__version__)"
   ]
  },
  {
   "cell_type": "code",
   "execution_count": null,
   "metadata": {},
   "outputs": [],
   "source": [
    "import sys\n",
    "sys.version"
   ]
  },
  {
   "cell_type": "code",
   "execution_count": null,
   "metadata": {},
   "outputs": [],
   "source": [
    "for i in range (900,1000,3):\n",
    "    print(i,end=',')"
   ]
  },
  {
   "cell_type": "code",
   "execution_count": 6,
   "metadata": {},
   "outputs": [
    {
     "data": {
      "text/plain": [
       "pandas.core.frame.DataFrame"
      ]
     },
     "execution_count": 6,
     "metadata": {},
     "output_type": "execute_result"
    }
   ],
   "source": [
    "import seaborn\n",
    "iris = seaborn.load_dataset('iris')\n",
    "type(iris)"
   ]
  },
  {
   "cell_type": "code",
   "execution_count": 7,
   "metadata": {},
   "outputs": [
    {
     "data": {
      "text/html": [
       "<div>\n",
       "<style scoped>\n",
       "    .dataframe tbody tr th:only-of-type {\n",
       "        vertical-align: middle;\n",
       "    }\n",
       "\n",
       "    .dataframe tbody tr th {\n",
       "        vertical-align: top;\n",
       "    }\n",
       "\n",
       "    .dataframe thead th {\n",
       "        text-align: right;\n",
       "    }\n",
       "</style>\n",
       "<table border=\"1\" class=\"dataframe\">\n",
       "  <thead>\n",
       "    <tr style=\"text-align: right;\">\n",
       "      <th></th>\n",
       "      <th>sepal_length</th>\n",
       "      <th>sepal_width</th>\n",
       "      <th>petal_length</th>\n",
       "      <th>petal_width</th>\n",
       "      <th>species</th>\n",
       "    </tr>\n",
       "  </thead>\n",
       "  <tbody>\n",
       "    <tr>\n",
       "      <th>0</th>\n",
       "      <td>5.1</td>\n",
       "      <td>3.5</td>\n",
       "      <td>1.4</td>\n",
       "      <td>0.2</td>\n",
       "      <td>setosa</td>\n",
       "    </tr>\n",
       "    <tr>\n",
       "      <th>1</th>\n",
       "      <td>4.9</td>\n",
       "      <td>3.0</td>\n",
       "      <td>1.4</td>\n",
       "      <td>0.2</td>\n",
       "      <td>setosa</td>\n",
       "    </tr>\n",
       "    <tr>\n",
       "      <th>2</th>\n",
       "      <td>4.7</td>\n",
       "      <td>3.2</td>\n",
       "      <td>1.3</td>\n",
       "      <td>0.2</td>\n",
       "      <td>setosa</td>\n",
       "    </tr>\n",
       "    <tr>\n",
       "      <th>3</th>\n",
       "      <td>4.6</td>\n",
       "      <td>3.1</td>\n",
       "      <td>1.5</td>\n",
       "      <td>0.2</td>\n",
       "      <td>setosa</td>\n",
       "    </tr>\n",
       "    <tr>\n",
       "      <th>4</th>\n",
       "      <td>5.0</td>\n",
       "      <td>3.6</td>\n",
       "      <td>1.4</td>\n",
       "      <td>0.2</td>\n",
       "      <td>setosa</td>\n",
       "    </tr>\n",
       "  </tbody>\n",
       "</table>\n",
       "</div>"
      ],
      "text/plain": [
       "   sepal_length  sepal_width  petal_length  petal_width species\n",
       "0           5.1          3.5           1.4          0.2  setosa\n",
       "1           4.9          3.0           1.4          0.2  setosa\n",
       "2           4.7          3.2           1.3          0.2  setosa\n",
       "3           4.6          3.1           1.5          0.2  setosa\n",
       "4           5.0          3.6           1.4          0.2  setosa"
      ]
     },
     "execution_count": 7,
     "metadata": {},
     "output_type": "execute_result"
    }
   ],
   "source": [
    "iris.head()"
   ]
  },
  {
   "cell_type": "code",
   "execution_count": 8,
   "metadata": {},
   "outputs": [
    {
     "data": {
      "text/plain": [
       "sepal_length    150\n",
       "sepal_width     150\n",
       "petal_length    150\n",
       "petal_width     150\n",
       "species         150\n",
       "dtype: int64"
      ]
     },
     "execution_count": 8,
     "metadata": {},
     "output_type": "execute_result"
    }
   ],
   "source": [
    "iris.count()"
   ]
  },
  {
   "cell_type": "code",
   "execution_count": 9,
   "metadata": {},
   "outputs": [
    {
     "data": {
      "text/plain": [
       "array(['setosa', 'versicolor', 'virginica'], dtype=object)"
      ]
     },
     "execution_count": 9,
     "metadata": {},
     "output_type": "execute_result"
    }
   ],
   "source": [
    "iris['species'].unique()"
   ]
  },
  {
   "cell_type": "code",
   "execution_count": 10,
   "metadata": {},
   "outputs": [
    {
     "data": {
      "text/html": [
       "<div>\n",
       "<style scoped>\n",
       "    .dataframe tbody tr th:only-of-type {\n",
       "        vertical-align: middle;\n",
       "    }\n",
       "\n",
       "    .dataframe tbody tr th {\n",
       "        vertical-align: top;\n",
       "    }\n",
       "\n",
       "    .dataframe thead th {\n",
       "        text-align: right;\n",
       "    }\n",
       "</style>\n",
       "<table border=\"1\" class=\"dataframe\">\n",
       "  <thead>\n",
       "    <tr style=\"text-align: right;\">\n",
       "      <th></th>\n",
       "      <th>sepal_length</th>\n",
       "      <th>sepal_width</th>\n",
       "      <th>petal_length</th>\n",
       "      <th>petal_width</th>\n",
       "    </tr>\n",
       "    <tr>\n",
       "      <th>species</th>\n",
       "      <th></th>\n",
       "      <th></th>\n",
       "      <th></th>\n",
       "      <th></th>\n",
       "    </tr>\n",
       "  </thead>\n",
       "  <tbody>\n",
       "    <tr>\n",
       "      <th>setosa</th>\n",
       "      <td>50</td>\n",
       "      <td>50</td>\n",
       "      <td>50</td>\n",
       "      <td>50</td>\n",
       "    </tr>\n",
       "    <tr>\n",
       "      <th>versicolor</th>\n",
       "      <td>50</td>\n",
       "      <td>50</td>\n",
       "      <td>50</td>\n",
       "      <td>50</td>\n",
       "    </tr>\n",
       "    <tr>\n",
       "      <th>virginica</th>\n",
       "      <td>50</td>\n",
       "      <td>50</td>\n",
       "      <td>50</td>\n",
       "      <td>50</td>\n",
       "    </tr>\n",
       "  </tbody>\n",
       "</table>\n",
       "</div>"
      ],
      "text/plain": [
       "            sepal_length  sepal_width  petal_length  petal_width\n",
       "species                                                         \n",
       "setosa                50           50            50           50\n",
       "versicolor            50           50            50           50\n",
       "virginica             50           50            50           50"
      ]
     },
     "execution_count": 10,
     "metadata": {},
     "output_type": "execute_result"
    }
   ],
   "source": [
    "iris.groupby('species').count()"
   ]
  },
  {
   "cell_type": "code",
   "execution_count": 11,
   "metadata": {},
   "outputs": [
    {
     "data": {
      "text/plain": [
       "<seaborn.axisgrid.PairGrid at 0x21d7e58c2e8>"
      ]
     },
     "execution_count": 11,
     "metadata": {},
     "output_type": "execute_result"
    },
    {
     "data": {
      "image/png": "[encoded data removed]",
      "text/plain": [
       "<Figure size 804.75x720 with 20 Axes>"
      ]
     },
     "metadata": {
      "needs_background": "light"
     },
     "output_type": "display_data"
    }
   ],
   "source": [
    "seaborn.pairplot(iris, hue='species')"
   ]
  },
  {
   "cell_type": "code",
   "execution_count": null,
   "metadata": {},
   "outputs": [],
   "source": [
    "y = 10\n",
    "x = y += 2 \n",
    "print (x)"
   ]
  },
  {
   "cell_type": "code",
   "execution_count": null,
   "metadata": {},
   "outputs": [],
   "source": [
    "i = 2 \n",
    "for i in range(i<2):\n",
    "    #print (i, end=' - ')\n",
    "    i = i + 3\n",
    "    #print('i dentro do loop', i)\n",
    "print (i)"
   ]
  },
  {
   "cell_type": "code",
   "execution_count": null,
   "metadata": {},
   "outputs": [],
   "source": [
    "x = [(3,2),(2,3)]\n",
    "x.sort()\n",
    "print(x)"
   ]
  },
  {
   "cell_type": "code",
   "execution_count": null,
   "metadata": {},
   "outputs": [],
   "source": [
    "x = y = [2, 4, 6]\n",
    "y[2] = 5\n",
    "print(x)"
   ]
  },
  {
   "cell_type": "code",
   "execution_count": null,
   "metadata": {},
   "outputs": [],
   "source": [
    "for num in range(-2,-5,-1):\n",
    "    if num < -2:\n",
    "        print (', ', end='')\n",
    "    print(num, end='')"
   ]
  },
  {
   "cell_type": "code",
   "execution_count": null,
   "metadata": {},
   "outputs": [],
   "source": [
    "a, b = 1>2, 2>3\n",
    "my_list = [a, b, a==b]\n",
    "print(my_list)"
   ]
  },
  {
   "cell_type": "code",
   "execution_count": null,
   "metadata": {},
   "outputs": [],
   "source": [
    "def f1():\n",
    "    x = 100\n",
    "    print(x)\n",
    "x =+ 1\n",
    "f1()"
   ]
  },
  {
   "cell_type": "code",
   "execution_count": null,
   "metadata": {},
   "outputs": [],
   "source": [
    "a = [ 1,2,3]\n",
    "b = a \n",
    "print (a is b, a==b)"
   ]
  },
  {
   "cell_type": "code",
   "execution_count": null,
   "metadata": {},
   "outputs": [],
   "source": [
    "def add(a,b):\n",
    "    return a+5, b+5\n",
    "result = add(3,2)\n",
    "print (result)\n"
   ]
  },
  {
   "cell_type": "code",
   "execution_count": null,
   "metadata": {},
   "outputs": [],
   "source": [
    "def fun(a=12, b=12):\n",
    "    print(a//9)\n",
    "    return a*b\n",
    "fun(a=9,b=2)"
   ]
  },
  {
   "cell_type": "code",
   "execution_count": null,
   "metadata": {},
   "outputs": [],
   "source": [
    "from matplotlib import pyplot as plt\n",
    "'''\n",
    "xdata = list(range(-1,10,1))\n",
    "ydata = list(range(-6,5,1))\n",
    "\n",
    "x1 = [5,]*11\n",
    "y2 = [-2,]*11\n",
    "\n",
    "plt.plot(x1,ydata,'b')\n",
    "plt.plot(xdata,y2,'c')\n",
    "'''\n",
    "plt.axhline(y=-2, xmin=0.1, xmax=0.9)\n",
    "plt.axvline(x=5, ymin=0.1, ymax=0.9)\n",
    "plt.grid()\n",
    "plt.show()"
   ]
  },
  {
   "cell_type": "code",
   "execution_count": null,
   "metadata": {},
   "outputs": [],
   "source": [
    "from matplotlib import pyplot as plt\n",
    "\n",
    "xdata = list(range(10))\n",
    "ydata = [_*2 for _ in xdata]\n",
    "\n",
    "plt.plot(xdata, ydata, 'b')\n",
    "\n",
    "plt.hlines(y=5, xmin=0, xmax=10)\n",
    "plt.vlines(x=5, ymin=0, ymax=20)\n",
    "\n",
    "plt.grid()\n",
    "plt.show()"
   ]
  },
  {
   "cell_type": "code",
   "execution_count": null,
   "metadata": {},
   "outputs": [],
   "source": [
    "import numpy\n",
    "matriz = [ [1, 1, 1], [2, 2, 2], [3, 3, 3] ]\n",
    "print('Det =', numpy.linalg.det( matriz ) )\n",
    "\n"
   ]
  },
  {
   "cell_type": "code",
   "execution_count": null,
   "metadata": {},
   "outputs": [],
   "source": [
    "import numpy as np \n",
    "from numpy import linalg \n",
    "matrix = np.array([[1, 0], [3, 6]]) \n",
    "print(\"Original 2-D matrix\") \n",
    "print(matrix) \n",
    "print(\"Determinant of the 2-D matrix:\") \n",
    "print(np.linalg.det(matrix))"
   ]
  },
  {
   "cell_type": "code",
   "execution_count": null,
   "metadata": {},
   "outputs": [],
   "source": [
    "import numpy\n",
    "i=list(range(-8,10,1))\n",
    "for x in i:\n",
    "    matriz = [ [1, 0, -1], [0, x/2, 0], [x/2, 0, -1] ]\n",
    "    det = numpy.linalg.det( matriz )\n",
    "    if det < 0.0001:\n",
    "        print ('x=', x/2 , 'Det=', det)\n"
   ]
  },
  {
   "cell_type": "code",
   "execution_count": null,
   "metadata": {},
   "outputs": [],
   "source": [
    "aList = [5,10,15,25]\n",
    "print (aList)\n",
    "print (aList[::-2])"
   ]
  },
  {
   "cell_type": "code",
   "execution_count": null,
   "metadata": {},
   "outputs": [],
   "source": [
    "a = [1,3,False]\n",
    "b = 0\n",
    "print (any(a))\n",
    "\n",
    "# True since 1,3 and 4 (at least one) is true\n",
    "l = [1, 3, 4, 0]\n",
    "print(any(l))\n",
    "\n",
    "# False since both are False\n",
    "l = [0, False]\n",
    "print(any(l))\n",
    "\n",
    "# True since 5 is true\n",
    "l = [0, False, 5]\n",
    "print(any(l))\n",
    "\n",
    "# False since iterable is empty\n",
    "l = []\n",
    "print(any(l))"
   ]
  },
  {
   "cell_type": "code",
   "execution_count": null,
   "metadata": {},
   "outputs": [],
   "source": [
    "fruits = ['a','b','c']\n",
    "fruits.clear(1)\n",
    "print (fruits)"
   ]
  },
  {
   "cell_type": "code",
   "execution_count": null,
   "metadata": {},
   "outputs": [],
   "source": [
    "def f1():\n",
    "    x = 100\n",
    "    return x\n",
    "x = f1() +1\n",
    "print (x)"
   ]
  },
  {
   "cell_type": "code",
   "execution_count": null,
   "metadata": {},
   "outputs": [],
   "source": [
    "a = 'python'\n",
    "b = 'pythoN'\n",
    "print (a>b)"
   ]
  },
  {
   "cell_type": "code",
   "execution_count": null,
   "metadata": {},
   "outputs": [],
   "source": [
    "x = {2,3,4}\n",
    "x.add(8)\n",
    "print(sorted(x))"
   ]
  },
  {
   "cell_type": "code",
   "execution_count": null,
   "metadata": {},
   "outputs": [],
   "source": [
    "def x(values):\n",
    "    b = [1]\n",
    "    print (b)\n",
    "    values[0] = 1\n",
    "v = [2,3,4]\n",
    "x(v)\n",
    "b = [0]\n",
    "print(v, b)"
   ]
  },
  {
   "cell_type": "code",
   "execution_count": null,
   "metadata": {},
   "outputs": [],
   "source": [
    "l = list('1234')\n",
    "l[0] = l[1] = 5\n",
    "print(l)"
   ]
  },
  {
   "cell_type": "code",
   "execution_count": null,
   "metadata": {},
   "outputs": [],
   "source": [
    "a = 100\n",
    "b = 5 \n",
    "print (a//b*a/b)"
   ]
  },
  {
   "cell_type": "code",
   "execution_count": null,
   "metadata": {},
   "outputs": [],
   "source": [
    "x,y = 67,80\n",
    "x,y,z, = 1,2,3\n",
    "print(x,y,z)"
   ]
  },
  {
   "cell_type": "code",
   "execution_count": null,
   "metadata": {},
   "outputs": [],
   "source": [
    "def fun():\n",
    "    return 55 + int(55.55)\n",
    "print (fun())"
   ]
  },
  {
   "cell_type": "code",
   "execution_count": null,
   "metadata": {},
   "outputs": [],
   "source": [
    "i = 0 \n",
    "str1 = 'Python'\n",
    "while i < len(str1):\n",
    "    #print (i,end=' ')\n",
    "    if str1[i] == 'i':\n",
    "        i = i + 1\n",
    "        break\n",
    "    print ('Current letter:', str1[i])\n",
    "    i = i + 1\n"
   ]
  },
  {
   "cell_type": "code",
   "execution_count": null,
   "metadata": {},
   "outputs": [],
   "source": [
    "b = 30\n",
    "def fun(a,b=b):\n",
    "    return a + b\n",
    "print (fun(1))"
   ]
  },
  {
   "cell_type": "code",
   "execution_count": null,
   "metadata": {},
   "outputs": [],
   "source": [
    "a = [1,2]\n",
    "b = a\n",
    "b += [3,4]\n",
    "print (a)"
   ]
  },
  {
   "cell_type": "code",
   "execution_count": null,
   "metadata": {},
   "outputs": [],
   "source": [
    "a = 'python'\n",
    "b = [1,2,3]\n",
    "aTup = (a,b)\n",
    "print(aTup[1][1:])"
   ]
  },
  {
   "cell_type": "code",
   "execution_count": null,
   "metadata": {},
   "outputs": [],
   "source": [
    "aList = [5,10,15,25,30]\n",
    "print (aList[::-2])"
   ]
  },
  {
   "cell_type": "code",
   "execution_count": null,
   "metadata": {},
   "outputs": [],
   "source": [
    "a = 65\n",
    "print ('[%c]'%a)"
   ]
  },
  {
   "cell_type": "code",
   "execution_count": null,
   "metadata": {},
   "outputs": [],
   "source": [
    "def x(values):\n",
    "    values[0]=1\n",
    "v=[2,3,4]\n",
    "x(v)\n",
    "print (v)"
   ]
  },
  {
   "cell_type": "code",
   "execution_count": null,
   "metadata": {},
   "outputs": [],
   "source": [
    "x={2,3,4}\n",
    "x.add(5)\n",
    "print(x)"
   ]
  },
  {
   "cell_type": "code",
   "execution_count": null,
   "metadata": {},
   "outputs": [],
   "source": [
    "a = True\n",
    "b = False\n",
    "print (a or a and b and a)\n",
    "print (a and b and a or a)"
   ]
  },
  {
   "cell_type": "code",
   "execution_count": null,
   "metadata": {},
   "outputs": [],
   "source": [
    "l = list(\"1234\")\n",
    "l[0]=l[1]=5\n",
    "print(l)"
   ]
  },
  {
   "cell_type": "code",
   "execution_count": null,
   "metadata": {},
   "outputs": [],
   "source": [
    "my = ['python', 'hub']\n",
    "for i in my:\n",
    "    my.append(i.upper())\n",
    "    if len(my)>10:\n",
    "        break\n",
    "print(my)"
   ]
  },
  {
   "cell_type": "code",
   "execution_count": null,
   "metadata": {},
   "outputs": [],
   "source": [
    "f = lambda x:bool(x%2)\n",
    "print(f(20), f(21))"
   ]
  },
  {
   "cell_type": "code",
   "execution_count": null,
   "metadata": {},
   "outputs": [],
   "source": [
    "a = ~4\n",
    "b = a + 4\n",
    "print (b)"
   ]
  },
  {
   "cell_type": "code",
   "execution_count": null,
   "metadata": {},
   "outputs": [],
   "source": [
    "def fun():\n",
    "    return [i for i in range(0,7,3)]\n",
    "print (fun())"
   ]
  },
  {
   "cell_type": "code",
   "execution_count": null,
   "metadata": {},
   "outputs": [],
   "source": [
    "def fun():\n",
    "    return \"str \" + 'Char'\n",
    "print (fun())"
   ]
  },
  {
   "cell_type": "code",
   "execution_count": null,
   "metadata": {},
   "outputs": [],
   "source": [
    "l = [1,2,3,4]\n",
    "for i in l[::1]:\n",
    "    print(i, end='')"
   ]
  },
  {
   "cell_type": "code",
   "execution_count": null,
   "metadata": {},
   "outputs": [],
   "source": [
    "def fun():\n",
    "    return pass\n",
    "print (fun())"
   ]
  },
  {
   "cell_type": "code",
   "execution_count": null,
   "metadata": {},
   "outputs": [],
   "source": [
    "a = [10,20]\n",
    "b=a\n",
    "b += [30,40]\n",
    "print (a)"
   ]
  },
  {
   "cell_type": "code",
   "execution_count": null,
   "metadata": {},
   "outputs": [],
   "source": [
    "a = 'python'\n",
    "b = [1,2,3]\n",
    "aTup = (a,b)\n",
    "print (aTup[1][:])"
   ]
  },
  {
   "cell_type": "code",
   "execution_count": null,
   "metadata": {},
   "outputs": [],
   "source": [
    "set1 = {1,2,3,int('4')}\n",
    "set2 = {str(4),(3)}\n",
    "print (set1.union(set2))"
   ]
  },
  {
   "cell_type": "code",
   "execution_count": null,
   "metadata": {},
   "outputs": [],
   "source": [
    "a = ~4\n",
    "b = a + 4\n",
    "print (b)"
   ]
  },
  {
   "cell_type": "code",
   "execution_count": null,
   "metadata": {},
   "outputs": [],
   "source": [
    "a = [1,2,3]\n",
    "b = a \n",
    "print (a , b, a is b, a == b)"
   ]
  },
  {
   "cell_type": "code",
   "execution_count": null,
   "metadata": {},
   "outputs": [],
   "source": [
    "x = 0 \n",
    "while x < 20:\n",
    "    x = x + 3\n",
    "print (x)"
   ]
  },
  {
   "cell_type": "code",
   "execution_count": null,
   "metadata": {},
   "outputs": [],
   "source": [
    "l = list(\"1234\")\n",
    "l[0] = l[1] = 5\n",
    "print (l)"
   ]
  },
  {
   "cell_type": "code",
   "execution_count": null,
   "metadata": {},
   "outputs": [],
   "source": [
    "x = 2\n",
    "def cg():\n",
    "    global x\n",
    "    x=x+1\n",
    "    return x\n",
    "print (cg(), x)"
   ]
  },
  {
   "cell_type": "code",
   "execution_count": null,
   "metadata": {},
   "outputs": [],
   "source": [
    "print ((\"abc. DEF\").capitalize())"
   ]
  },
  {
   "cell_type": "code",
   "execution_count": null,
   "metadata": {},
   "outputs": [],
   "source": [
    "a = 'python'\n",
    "b = 'pythoN'\n",
    "print (a>b)"
   ]
  },
  {
   "cell_type": "code",
   "execution_count": null,
   "metadata": {},
   "outputs": [],
   "source": [
    "a = True\n",
    "b = False\n",
    "print (a or a and b and a)"
   ]
  },
  {
   "cell_type": "code",
   "execution_count": null,
   "metadata": {},
   "outputs": [],
   "source": [
    "s1 = str('python')\n",
    "s2 = 'python'\n",
    "s2 = 'pyt'\n",
    "print (s1 == s2, s1 is s2, s1, s2)"
   ]
  },
  {
   "cell_type": "code",
   "execution_count": null,
   "metadata": {},
   "outputs": [],
   "source": [
    "s1 = [1,2,3,4,5]\n",
    "s2 = s1\n",
    "#s2 = [1,2,3,4,5]\n",
    "#s2 = 'pyt'\n",
    "print (s1 == s2, s1 is s2, s1, s2)\n",
    "s2[4] = 7\n",
    "print (s1 == s2, s1 is s2, s1, s2)"
   ]
  },
  {
   "cell_type": "code",
   "execution_count": null,
   "metadata": {},
   "outputs": [],
   "source": [
    "def add(a,b):\n",
    "    return a+5, b+5\n",
    "result = add(3,2)\n",
    "print (result)"
   ]
  },
  {
   "cell_type": "code",
   "execution_count": null,
   "metadata": {},
   "outputs": [],
   "source": [
    "a = 100\n",
    "b = 5\n",
    "print (a//b*a/b)"
   ]
  },
  {
   "cell_type": "code",
   "execution_count": null,
   "metadata": {},
   "outputs": [],
   "source": [
    "a = 100/5\n",
    "b = 20//3\n",
    "print (a*b)"
   ]
  },
  {
   "cell_type": "code",
   "execution_count": null,
   "metadata": {},
   "outputs": [],
   "source": [
    "def fun():\n",
    "    for x in range(22,23,24):\n",
    "        print (x)\n",
    "fun()"
   ]
  },
  {
   "cell_type": "code",
   "execution_count": null,
   "metadata": {},
   "outputs": [],
   "source": [
    "def fun():\n",
    "    print ('fun')\n",
    "print (fun())"
   ]
  },
  {
   "cell_type": "code",
   "execution_count": null,
   "metadata": {},
   "outputs": [],
   "source": [
    "def x(values):\n",
    "    #print(values)\n",
    "    values[0] = 1\n",
    "v = [2,3,4]\n",
    "x(v)\n",
    "print((v))"
   ]
  },
  {
   "cell_type": "code",
   "execution_count": null,
   "metadata": {},
   "outputs": [],
   "source": [
    "a = [0,1,2,3]\n",
    "#print (a[-1])\n",
    "for a[-1] in a:\n",
    "    print(a[-1])"
   ]
  },
  {
   "cell_type": "code",
   "execution_count": null,
   "metadata": {},
   "outputs": [],
   "source": [
    "f=lambda x:bool(x%2)\n",
    "print(f(20),f(21))"
   ]
  },
  {
   "cell_type": "code",
   "execution_count": null,
   "metadata": {},
   "outputs": [],
   "source": [
    "a = 4/5\n",
    "b = 5//4\n",
    "print(a*b)"
   ]
  },
  {
   "cell_type": "code",
   "execution_count": null,
   "metadata": {},
   "outputs": [],
   "source": [
    "a = 2//2*2\n",
    "b = 3//2*3\n",
    "print (a,b)"
   ]
  },
  {
   "cell_type": "code",
   "execution_count": null,
   "metadata": {},
   "outputs": [],
   "source": [
    "a = 65\n",
    "print ('[%c]'%a)"
   ]
  },
  {
   "cell_type": "code",
   "execution_count": null,
   "metadata": {},
   "outputs": [],
   "source": [
    "x = [[0],[1]]\n",
    "s = ((''.join(list(map(str,x)))))\n",
    "print (s, type(s))"
   ]
  },
  {
   "cell_type": "code",
   "execution_count": null,
   "metadata": {},
   "outputs": [],
   "source": [
    "a = max(False, -3,-4)\n",
    "b = min(a,2,3)\n",
    "print (b)"
   ]
  },
  {
   "cell_type": "code",
   "execution_count": null,
   "metadata": {},
   "outputs": [],
   "source": [
    "max(False, True, -1, 2)"
   ]
  },
  {
   "cell_type": "code",
   "execution_count": null,
   "metadata": {},
   "outputs": [],
   "source": [
    "l = [1,2,3,4,5]\n",
    "value = [x&1 for x in l]\n",
    "print (value)"
   ]
  },
  {
   "cell_type": "code",
   "execution_count": null,
   "metadata": {},
   "outputs": [],
   "source": [
    "print ('abc. DEF'.capitalize())"
   ]
  },
  {
   "cell_type": "code",
   "execution_count": null,
   "metadata": {},
   "outputs": [],
   "source": [
    "aList = [5,10,15,25]\n",
    "print (aList[::-2])"
   ]
  },
  {
   "cell_type": "code",
   "execution_count": null,
   "metadata": {},
   "outputs": [],
   "source": [
    "def python():\n",
    "    print ('Hi')\n",
    "    return python() + 1 \n",
    "print (python)"
   ]
  },
  {
   "cell_type": "code",
   "execution_count": null,
   "metadata": {},
   "outputs": [],
   "source": [
    "L = ['a','b','c','d']\n",
    "M = str(L)\n",
    "result = ','.join(L)\n",
    "print (result)\n",
    "print (M,M[1:5])\n",
    "N = result.split(\",\")\n",
    "print (N)"
   ]
  },
  {
   "cell_type": "code",
   "execution_count": null,
   "metadata": {},
   "outputs": [],
   "source": [
    "def f():\n",
    "    print('hello')\n",
    "    #pass\n",
    "    #return True\n",
    "    return 1\n",
    "print(type(f()), f())\n",
    "print(f) # prints type and location"
   ]
  },
  {
   "cell_type": "code",
   "execution_count": null,
   "metadata": {},
   "outputs": [],
   "source": [
    "try: print(1)\n",
    "except: print(2)\n",
    "finally: print(3)"
   ]
  },
  {
   "cell_type": "code",
   "execution_count": null,
   "metadata": {},
   "outputs": [],
   "source": [
    "set1 = {1,2,3,int('4')}\n",
    "set2 = {3,str(4)}\n",
    "print (set1.union(set2))"
   ]
  },
  {
   "cell_type": "code",
   "execution_count": null,
   "metadata": {},
   "outputs": [],
   "source": [
    "def fun(a=12, b=12):\n",
    "    print(a//9)\n",
    "    return (a*b)\n",
    "fun(a=9,b=2)"
   ]
  },
  {
   "cell_type": "code",
   "execution_count": null,
   "metadata": {},
   "outputs": [],
   "source": [
    "a = 'python'\n",
    "b = [1,2,3]\n",
    "aTup = (a,b)\n",
    "print (aTup[1][1:])"
   ]
  },
  {
   "cell_type": "code",
   "execution_count": null,
   "metadata": {},
   "outputs": [],
   "source": [
    "a = [10,20]\n",
    "b = a \n",
    "b +=[30,40]\n",
    "print (a)"
   ]
  },
  {
   "cell_type": "code",
   "execution_count": null,
   "metadata": {},
   "outputs": [],
   "source": [
    "a = 4 \n",
    "mylist = [.5*x for x in range(0,a)]\n",
    "print (mylist)"
   ]
  },
  {
   "cell_type": "code",
   "execution_count": null,
   "metadata": {},
   "outputs": [],
   "source": [
    "def fun():\n",
    "    return [i for i in range(0,3,3)]\n",
    "print (fun())"
   ]
  },
  {
   "cell_type": "code",
   "execution_count": null,
   "metadata": {},
   "outputs": [],
   "source": [
    "z=set('abc')\n",
    "q=[5,3,6,8,9]\n",
    "z.add('san')\n",
    "z.update('san')\n",
    "z.update(set(['p','q']))\n",
    "print(z)"
   ]
  },
  {
   "cell_type": "code",
   "execution_count": null,
   "metadata": {},
   "outputs": [],
   "source": [
    "e = 'butter'\n",
    "def f(a):\n",
    "    print (a+e)\n",
    "f('bitter')"
   ]
  },
  {
   "cell_type": "code",
   "execution_count": null,
   "metadata": {},
   "outputs": [],
   "source": [
    "a = 1/3\n",
    "b = 3/1\n",
    "print(a*b)"
   ]
  },
  {
   "cell_type": "code",
   "execution_count": null,
   "metadata": {},
   "outputs": [],
   "source": [
    "a=[0,1,2,3]\n",
    "for a[-1] in a:\n",
    "    print(a[-1])\n"
   ]
  },
  {
   "cell_type": "code",
   "execution_count": null,
   "metadata": {},
   "outputs": [],
   "source": [
    "x,y = 67,80\n",
    "x,y,z = 1,2,3\n",
    "print (x,y,z)"
   ]
  },
  {
   "cell_type": "code",
   "execution_count": null,
   "metadata": {},
   "outputs": [],
   "source": [
    "l = ['a', 'b', 'c', 'd']\n",
    "result = ''.join(l)\n",
    "print (result)"
   ]
  },
  {
   "cell_type": "code",
   "execution_count": null,
   "metadata": {},
   "outputs": [],
   "source": [
    "##### Convert PDF to DOCX #####\n",
    "pip install pdf2docx\n",
    "\n",
    "from pdf2docx import Converter\n",
    "pdf_file = 'name of pdf file'\n",
    "docx_file = 'name of output docx file'\n",
    "cv = Converter(pdf_file)\n",
    "cv.convert(docx_file)\n",
    "cv.close\n"
   ]
  },
  {
   "cell_type": "code",
   "execution_count": null,
   "metadata": {},
   "outputs": [],
   "source": [
    "l = list('1234')\n",
    "l[0] = l[1] = 5\n",
    "l"
   ]
  },
  {
   "cell_type": "code",
   "execution_count": null,
   "metadata": {},
   "outputs": [],
   "source": [
    "import pandas as pd\n",
    "df = pd.DataFrame({\n",
    "    \"col1\": [-5, -2, 1, 4],\n",
    "    \"col2\": [2, 3, -1, 4]\n",
    "})\n",
    "def hightlight_number(row):\n",
    "    return [\n",
    "        'background-color: red; color: white'\n",
    "        if cell <= 0\n",
    "        else 'background-color: green; color: white'\n",
    "        for cell in row\n",
    "    ]\n",
    "df.style.apply(hightlight_number)"
   ]
  },
  {
   "cell_type": "code",
   "execution_count": 40,
   "metadata": {},
   "outputs": [
    {
     "name": "stdout",
     "output_type": "stream",
     "text": [
      "Python is amazing! primeiro segundo\n"
     ]
    }
   ],
   "source": [
    "a = 'primeiro'\n",
    "b = 'segundo'\n",
    "c = ' '\n",
    "print('Python'+c+'is'+c+'amazing!'+c+a+c+b )"
   ]
  },
  {
   "cell_type": "code",
   "execution_count": 41,
   "metadata": {},
   "outputs": [
    {
     "data": {
      "text/plain": [
       "'ac'"
      ]
     },
     "execution_count": 41,
     "metadata": {},
     "output_type": "execute_result"
    }
   ],
   "source": [
    "'a''c'"
   ]
  },
  {
   "cell_type": "code",
   "execution_count": 39,
   "metadata": {},
   "outputs": [
    {
     "ename": "SyntaxError",
     "evalue": "invalid syntax (<ipython-input-39-efbc710bf8e6>, line 2)",
     "output_type": "error",
     "traceback": [
      "\u001b[1;36m  File \u001b[1;32m\"<ipython-input-39-efbc710bf8e6>\"\u001b[1;36m, line \u001b[1;32m2\u001b[0m\n\u001b[1;33m    lots_of_numbers = [number for x in range(5,100,2) if (number := x)]\u001b[0m\n\u001b[1;37m                                                                 ^\u001b[0m\n\u001b[1;31mSyntaxError\u001b[0m\u001b[1;31m:\u001b[0m invalid syntax\n"
     ]
    }
   ],
   "source": [
    "number = 10\n",
    "lots_of_numbers = [number for x in range(5,100,2) if (number := x)]\n",
    "print (number)"
   ]
  },
  {
   "cell_type": "code",
   "execution_count": null,
   "metadata": {},
   "outputs": [],
   "source": [
    "l = [[True],[False],[5]]\n",
    "for idx, item in enumerate(l):\n",
    "    print (idx, item)\n",
    "    item +=[10]\n",
    "    print (idx, item)\n",
    "    del item[0]\n",
    "    print (idx, item)\n",
    "print (l)"
   ]
  },
  {
   "cell_type": "code",
   "execution_count": null,
   "metadata": {},
   "outputs": [],
   "source": [
    "import numpy as np\n",
    "import matplotlib.pyplot as plt\n",
    "# Random seed for reproducibility\n",
    "np.random.seed(19680801)\n",
    "\n",
    "# Compute pie slices\n",
    "N = 20\n",
    "theta = np.linspace(0.0,2 *np.pi, N, endpoint=False)\n",
    "\n",
    "#radius of each sector\n",
    "radii= 10 * np.random.rand(N)\n",
    "\n",
    "#angular width of each sector\n",
    "width = np.pi / 4 * np.random.rand(N)\n",
    "colors = plt.cm.viridis(radii / 10.)\n",
    "\n",
    "ax = plt.subplot(projection='polar')\n",
    "ax.bar(theta, radii, width=width, bottom=0.0, color = colors, alpha=0.5)\n",
    "\n",
    "plt.show"
   ]
  },
  {
   "cell_type": "code",
   "execution_count": 4,
   "metadata": {},
   "outputs": [
    {
     "name": "stderr",
     "output_type": "stream",
     "text": [
      "100%|████████████████████████████████████████████████████████████████████████████████| 100/100 [00:01<00:00, 62.87it/s]\n"
     ]
    },
    {
     "name": "stdout",
     "output_type": "stream",
     "text": [
      "{count = }\n"
     ]
    }
   ],
   "source": [
    "# Barra de progresso\n",
    "\n",
    "import time\n",
    "import tqdm\n",
    "\n",
    "count = 0 \n",
    "for i in tqdm.tqdm(range(100)):\n",
    "    count += i\n",
    "    time.sleep(.01) #only for test\n",
    "\n",
    "#print (f'{count = }')\n",
    "print ('{count = }')\n"
   ]
  },
  {
   "cell_type": "code",
   "execution_count": 3,
   "metadata": {},
   "outputs": [
    {
     "data": {
      "text/plain": [
       "<module 'tqdm' from 'C:\\\\ProgramData\\\\Anaconda3\\\\lib\\\\site-packages\\\\tqdm\\\\__init__.py'>"
      ]
     },
     "execution_count": 3,
     "metadata": {},
     "output_type": "execute_result"
    }
   ],
   "source": [
    "(tqdm)"
   ]
  },
  {
   "cell_type": "code",
   "execution_count": 18,
   "metadata": {},
   "outputs": [
    {
     "name": "stdout",
     "output_type": "stream",
     "text": [
      "[30, 120, 150, 180] [9.0, 36.0, 45.0, 54.0]\n"
     ]
    }
   ],
   "source": [
    "precos = [30,120,150,180]\n",
    "\n",
    "impostos = list(map(lambda x: x*0.3, precos))\n",
    "print (precos,impostos)"
   ]
  },
  {
   "cell_type": "code",
   "execution_count": 21,
   "metadata": {},
   "outputs": [
    {
     "data": {
      "text/plain": [
       "[30, 120, 150, 180, 9.0, 36.0, 45.0, 54.0]"
      ]
     },
     "execution_count": 21,
     "metadata": {},
     "output_type": "execute_result"
    }
   ],
   "source": [
    "precos+impostos"
   ]
  },
  {
   "cell_type": "code",
   "execution_count": 40,
   "metadata": {},
   "outputs": [
    {
     "name": "stdout",
     "output_type": "stream",
     "text": [
      "Saudavel: 22\n",
      "Saudavel: 22\n",
      "Saudavel: 23\n",
      "Saudavel: 23\n",
      "Saudavel: 23\n",
      "Saudavel: 24\n",
      "Saudavel: 24\n",
      "Saudavel: 24\n",
      "Precisa emagrecer: 25\n",
      "Precisa emagrecer: 25\n"
     ]
    }
   ],
   "source": [
    "peso = list(range(75,85,1))\n",
    "altura = 1.82\n",
    "imc = list(map(lambda x: x/(altura**2), peso))\n",
    "\n",
    "for i in imc:\n",
    "    if i >= 18.5 and i <= 25:\n",
    "        print ('Saudavel:', int(i))\n",
    "    elif i < 18.5:\n",
    "        print ('Precisa engordar:', int(i))\n",
    "    elif i > 25:\n",
    "        print ('Precisa emagrecer:', int(i))\n"
   ]
  },
  {
   "cell_type": "markdown",
   "metadata": {},
   "source": [
    "Triangulo equilatero inicio"
   ]
  },
  {
   "cell_type": "code",
   "execution_count": 39,
   "metadata": {},
   "outputs": [
    {
     "data": {
      "image/png": "[encoded data removed]",
      "text/plain": [
       "<Figure size 432x288 with 1 Axes>"
      ]
     },
     "metadata": {
      "needs_background": "light"
     },
     "output_type": "display_data"
    }
   ],
   "source": [
    "import matplotlib.pyplot as plt\n",
    "import pandas as pd\n",
    "import numpy as np\n",
    "import random \n",
    "\n",
    "# make the data\n",
    "np.random.seed(1)\n",
    "a = []\n",
    "b = []\n",
    "for i in range(0,1000,1):\n",
    "    v = random.uniform(0, 10)\n",
    "    if v <= 5:\n",
    "        max = float(2 * v)\n",
    "        w = random.uniform(0, max)\n",
    "    else:\n",
    "        max = float(-2 * v + 20)\n",
    "        w = random.uniform(0, max)\n",
    "    a.append(v)\n",
    "    b.append(w)\n",
    "#print (a,b) \n",
    "x = pd.DataFrame(a)\n",
    "y = pd.DataFrame(b)\n",
    "\n",
    "# plot\n",
    "fig, ax = plt.subplots()\n",
    "ax.scatter(x, y)\n",
    "#ax.set(xlim=(0, 8), xticks=np.arange(1, 8),\n",
    "#       ylim=(0, 8), yticks=np.arange(1, 8))\n",
    "plt.show()"
   ]
  },
  {
   "cell_type": "code",
   "execution_count": 90,
   "metadata": {},
   "outputs": [
    {
     "data": {
      "text/plain": [
       "[<matplotlib.lines.Line2D at 0x24e3a7ad748>]"
      ]
     },
     "execution_count": 90,
     "metadata": {},
     "output_type": "execute_result"
    },
    {
     "data": {
      "image/png": "[encoded data removed]",
      "text/plain": [
       "<Figure size 432x288 with 1 Axes>"
      ]
     },
     "metadata": {
      "needs_background": "light"
     },
     "output_type": "display_data"
    }
   ],
   "source": [
    "x = np.linspace(1, 10, 2)\n",
    "y = np.linspace(5, 1, 2)\n",
    "#y = 2\n",
    "plt.plot(x, y + 0, linestyle='solid')\n",
    "# For short, you can use the following codes:\n",
    "plt.plot(x, y + 3, linestyle='-.')  # solid"
   ]
  },
  {
   "cell_type": "code",
   "execution_count": 82,
   "metadata": {},
   "outputs": [
    {
     "data": {
      "text/plain": [
       "array([ 1., 10.])"
      ]
     },
     "execution_count": 82,
     "metadata": {},
     "output_type": "execute_result"
    }
   ],
   "source": [
    "x"
   ]
  },
  {
   "cell_type": "code",
   "execution_count": 108,
   "metadata": {},
   "outputs": [
    {
     "name": "stdout",
     "output_type": "stream",
     "text": [
      "3231302928272625242322212019181716151413121110987654321 não primo, divisivel por: 3 1.077100976090875e+54\n",
      "3231302928272625242322212019181716151413121110987654321 não primo, divisivel por: 17 1.900766428395662e+53\n",
      "3231302928272625242322212019181716151413121110987654321 não primo, divisivel por: 51 6.335888094652206e+52\n",
      "3231302928272625242322212019181716151413121110987654321 não primo, divisivel por: 1231 2.624941452699127e+51\n",
      "Fim\n"
     ]
    }
   ],
   "source": [
    "# Encontrando numero primo\n",
    "a = ''\n",
    "for i in range(32,0,-1):  #(82,1,-1)\n",
    "    a = a + str(i)\n",
    "b = int(a)\n",
    "n = 0\n",
    "#b = 7\n",
    "for i in range(2,2031,1):\n",
    "    if b%i == 0:\n",
    "        print (b,'não primo, divisivel por:',i,b/i)\n",
    "        n = 1\n",
    "if n == 0:\n",
    "    print(b,'é primo')\n",
    "print('Fim')\n",
    "    "
   ]
  },
  {
   "cell_type": "markdown",
   "metadata": {},
   "source": [
    "Triangulo equilatero fim"
   ]
  },
  {
   "cell_type": "code",
   "execution_count": 89,
   "metadata": {},
   "outputs": [
    {
     "name": "stdout",
     "output_type": "stream",
     "text": [
      "0\n"
     ]
    },
    {
     "data": {
      "text/plain": [
       "'82818079787776757473727170696867666564636261605958575655545352515049484746454443424140393837363534333231302928272625242322212019181716151413121110987654321'"
      ]
     },
     "execution_count": 89,
     "metadata": {},
     "output_type": "execute_result"
    }
   ],
   "source": [
    "print(123132%2)\n",
    "type(b%2)  \n",
    "a"
   ]
  },
  {
   "cell_type": "code",
   "execution_count": 13,
   "metadata": {},
   "outputs": [
    {
     "name": "stdout",
     "output_type": "stream",
     "text": [
      "['a', 'b', 'c']\n",
      "['a', 'c', 'b']\n",
      "['b', 'a', 'c']\n",
      "['b', 'c', 'a']\n",
      "['c', 'a', 'b']\n",
      "['c', 'b', 'a']\n"
     ]
    }
   ],
   "source": [
    "# permutação de n elementos \n",
    "# o numero de possibilidades em uma permutação é de n!\n",
    "def permutation(lst):     \n",
    "    if len(lst) == 0: \n",
    "        return [] \n",
    "    if len(lst) == 1: \n",
    "        return [lst] \n",
    "    l = []  \n",
    "    for i in range(len(lst)): \n",
    "       m = lst[i]   \n",
    "       remLst = lst[:i] + lst[i+1:]  \n",
    "       for p in permutation(remLst): \n",
    "           l.append([m] + p) \n",
    "    return l \n",
    "\n",
    "data = list('abc') \n",
    "for p in permutation(data): \n",
    "    print (p)"
   ]
  },
  {
   "cell_type": "code",
   "execution_count": 1,
   "metadata": {},
   "outputs": [
    {
     "data": {
      "text/plain": [
       "[['1', '0'], ['1', '0'], ['1', '0']]"
      ]
     },
     "execution_count": 1,
     "metadata": {},
     "output_type": "execute_result"
    }
   ],
   "source": [
    "lista = [[True], [False], [5]]\n",
    "for idx, item in enumerate(lista):\n",
    "    item += str(10)\n",
    "    del item[0]\n",
    "lista"
   ]
  },
  {
   "cell_type": "code",
   "execution_count": 13,
   "metadata": {},
   "outputs": [
    {
     "name": "stdout",
     "output_type": "stream",
     "text": [
      "1 * 8 + 1 = 9\n",
      "12 * 8 + 2 = 98\n",
      "123 * 8 + 3 = 987\n",
      "1234 * 8 + 4 = 9876\n",
      "12345 * 8 + 5 = 98765\n",
      "123456 * 8 + 6 = 987654\n",
      "1234567 * 8 + 7 = 9876543\n",
      "12345678 * 8 + 8 = 98765432\n",
      "123456789 * 8 + 9 = 987654321\n"
     ]
    }
   ],
   "source": [
    "# Curiosidade da matemática\n",
    "n = ''\n",
    "m = 8\n",
    "for i in range(1,10,1):\n",
    "    n = n+str(i)\n",
    "    r = int(n) * m + i\n",
    "    print (n, '* 8 +',i,'=',r)"
   ]
  },
  {
   "cell_type": "code",
   "execution_count": 12,
   "metadata": {},
   "outputs": [
    {
     "name": "stdout",
     "output_type": "stream",
     "text": [
      "diveloper\n"
     ]
    }
   ],
   "source": [
    "s = 'developer'\n",
    "s = s.replace('e','i',1)\n",
    "print (s)"
   ]
  },
  {
   "cell_type": "code",
   "execution_count": 11,
   "metadata": {},
   "outputs": [
    {
     "name": "stdout",
     "output_type": "stream",
     "text": [
      "11\n"
     ]
    }
   ],
   "source": [
    "sum = lambda x,y: x+y\n",
    "print(sum(3,8))"
   ]
  },
  {
   "cell_type": "code",
   "execution_count": 9,
   "metadata": {},
   "outputs": [
    {
     "name": "stdout",
     "output_type": "stream",
     "text": [
      "[2, 4, 6, 8, 10]\n"
     ]
    }
   ],
   "source": [
    "numbers = [1,2,3,4,5,6,7,8,9,10]\n",
    "even_numbers = filter(lambda x: x%2==0, numbers)\n",
    "print (list(even_numbers))"
   ]
  },
  {
   "cell_type": "code",
   "execution_count": 8,
   "metadata": {},
   "outputs": [
    {
     "name": "stdout",
     "output_type": "stream",
     "text": [
      "[1, 4, 9, 16, 25]\n"
     ]
    }
   ],
   "source": [
    "numbers = [1,2,3,4,5]\n",
    "squared_numbers = map(lambda x: x**2,numbers)\n",
    "print(list(squared_numbers))"
   ]
  },
  {
   "cell_type": "code",
   "execution_count": 6,
   "metadata": {},
   "outputs": [
    {
     "name": "stdout",
     "output_type": "stream",
     "text": [
      "120\n"
     ]
    }
   ],
   "source": [
    "from functools import reduce\n",
    "numbers = [1,2,3,4,5]\n",
    "product = reduce (lambda x, y: x*y,numbers)\n",
    "print (product)"
   ]
  },
  {
   "cell_type": "code",
   "execution_count": 16,
   "metadata": {},
   "outputs": [
    {
     "data": {
      "text/plain": [
       "400.0"
      ]
     },
     "execution_count": 16,
     "metadata": {},
     "output_type": "execute_result"
    }
   ],
   "source": [
    "a = 100\n",
    "b = 5\n",
    "a//b*a/b"
   ]
  },
  {
   "cell_type": "code",
   "execution_count": 5,
   "metadata": {},
   "outputs": [
    {
     "name": "stdout",
     "output_type": "stream",
     "text": [
      "['7', '8']\n",
      "9\n"
     ]
    }
   ],
   "source": [
    "a = list('123456789')\n",
    "print (a[-3:-1])\n",
    "print (a[-1])"
   ]
  },
  {
   "cell_type": "code",
   "execution_count": 4,
   "metadata": {},
   "outputs": [
    {
     "name": "stdout",
     "output_type": "stream",
     "text": [
      "{'4', 1, 2, 3, 4}\n",
      "{3}\n"
     ]
    }
   ],
   "source": [
    "set1 = {1,2,3,int(4)}\n",
    "set2 = {3,str(4)}\n",
    "print (set1.union(set2))\n",
    "print (set1.intersection(set2))"
   ]
  },
  {
   "cell_type": "code",
   "execution_count": 130,
   "metadata": {},
   "outputs": [
    {
     "name": "stdout",
     "output_type": "stream",
     "text": [
      "11\n",
      "21\n",
      "1211\n",
      "111221\n",
      "312211\n",
      "13112221\n",
      "1113213211\n",
      "31131211131221\n"
     ]
    }
   ],
   "source": [
    "# Lógica - código para escrever a sequencia\n",
    "def proxima_seq(a):\n",
    "    cont = 1\n",
    "    num = ''\n",
    "    for i in range(0,len(a),1):\n",
    "        try:\n",
    "            if a[i] == a[i+1]:\n",
    "                cont += 1\n",
    "            else:\n",
    "                num = num + str(cont) + a[i]\n",
    "                cont=1\n",
    "        except:\n",
    "            num = num + str(cont) + a[i]\n",
    "            cont=1\n",
    "    return num\n",
    "inicio = '1'\n",
    "result = proxima_seq(inicio)   \n",
    "print (result)\n",
    "for n in range(0,7):\n",
    "    result = proxima_seq(result)      \n",
    "    print (result)"
   ]
  },
  {
   "cell_type": "markdown",
   "metadata": {},
   "source": [
    "## Ler PDF usando Tabula"
   ]
  },
  {
   "cell_type": "code",
   "execution_count": 2,
   "metadata": {},
   "outputs": [
    {
     "name": "stderr",
     "output_type": "stream",
     "text": [
      "C:\\Users\\GUSTAVORosa\\AppData\\Roaming\\Python\\Python37\\site-packages\\pandas\\compat\\_optional.py:138: UserWarning: Pandas requires version '2.7.0' or newer of 'numexpr' (version '2.6.9' currently installed).\n",
      "  warnings.warn(msg, UserWarning)\n"
     ]
    }
   ],
   "source": [
    "import tabula"
   ]
  },
  {
   "cell_type": "code",
   "execution_count": 3,
   "metadata": {},
   "outputs": [
    {
     "name": "stderr",
     "output_type": "stream",
     "text": [
      "Got stderr: jan 20, 2023 12:00:50 PM org.apache.pdfbox.rendering.PDFRenderer suggestKCMS\n",
      "INFO: Your current java version is: 1.8.0_161\n",
      "jan 20, 2023 12:00:50 PM org.apache.pdfbox.rendering.PDFRenderer suggestKCMS\n",
      "INFO: To get higher rendering speed on old java 1.8 or 9 versions,\n",
      "jan 20, 2023 12:00:50 PM org.apache.pdfbox.rendering.PDFRenderer suggestKCMS\n",
      "INFO:   update to the latest 1.8 or 9 version (>= 1.8.0_191 or >= 9.0.4),\n",
      "jan 20, 2023 12:00:50 PM org.apache.pdfbox.rendering.PDFRenderer suggestKCMS\n",
      "INFO:   or\n",
      "jan 20, 2023 12:00:50 PM org.apache.pdfbox.rendering.PDFRenderer suggestKCMS\n",
      "INFO:   use the option -Dsun.java2d.cmm=sun.java2d.cmm.kcms.KcmsServiceProvider\n",
      "jan 20, 2023 12:00:50 PM org.apache.pdfbox.rendering.PDFRenderer suggestKCMS\n",
      "INFO:   or call System.setProperty(\"sun.java2d.cmm\", \"sun.java2d.cmm.kcms.KcmsServiceProvider\")\n",
      "\n"
     ]
    },
    {
     "name": "stdout",
     "output_type": "stream",
     "text": [
      "3\n"
     ]
    }
   ],
   "source": [
    "lista_tabelas = tabula.read_pdf(r\"C:\\Users\\GUSTAVORosa\\Downloads\\boleto_13.pdf\", pages=\"all\")\n",
    "print (len(lista_tabelas))"
   ]
  },
  {
   "cell_type": "code",
   "execution_count": 16,
   "metadata": {},
   "outputs": [
    {
     "data": {
      "text/html": [
       "<div>\n",
       "<style scoped>\n",
       "    .dataframe tbody tr th:only-of-type {\n",
       "        vertical-align: middle;\n",
       "    }\n",
       "\n",
       "    .dataframe tbody tr th {\n",
       "        vertical-align: top;\n",
       "    }\n",
       "\n",
       "    .dataframe thead th {\n",
       "        text-align: right;\n",
       "    }\n",
       "</style>\n",
       "<table border=\"1\" class=\"dataframe\">\n",
       "  <thead>\n",
       "    <tr style=\"text-align: right;\">\n",
       "      <th></th>\n",
       "      <th>2023 JAN</th>\n",
       "      <th>lllllllllllllllllllllllllllllllllllllllllllllll 73</th>\n",
       "      <th>28</th>\n",
       "      <th>Consumo</th>\n",
       "      <th>TUSD</th>\n",
       "      <th>TE</th>\n",
       "      <th>No</th>\n",
       "      <th>Energia</th>\n",
       "      <th>Leitura</th>\n",
       "      <th>Leitura.1</th>\n",
       "      <th>Fator</th>\n",
       "      <th>ConsumoTaxa de Perda</th>\n",
       "      <th>Leitura.2</th>\n",
       "    </tr>\n",
       "  </thead>\n",
       "  <tbody>\n",
       "    <tr>\n",
       "      <th>1</th>\n",
       "      <td>NOV</td>\n",
       "      <td>llllllllllllllllllllllllllllllllllllllllllllll...</td>\n",
       "      <td>31.0</td>\n",
       "      <td>NaN</td>\n",
       "      <td>NaN</td>\n",
       "      <td>NaN</td>\n",
       "      <td>24044688.0</td>\n",
       "      <td>Ativa</td>\n",
       "      <td>1352</td>\n",
       "      <td>1279</td>\n",
       "      <td>1,00</td>\n",
       "      <td>73</td>\n",
       "      <td>15/02/2023</td>\n",
       "    </tr>\n",
       "    <tr>\n",
       "      <th>2</th>\n",
       "      <td>OUT</td>\n",
       "      <td>llllllllllllllllllllllllllllllllllllllllllllll...</td>\n",
       "      <td>32.0</td>\n",
       "      <td>NaN</td>\n",
       "      <td>NaN</td>\n",
       "      <td>NaN</td>\n",
       "      <td>24044688.0</td>\n",
       "      <td>Injetada</td>\n",
       "      <td>2419</td>\n",
       "      <td>2262</td>\n",
       "      <td>1,00</td>\n",
       "      <td>157</td>\n",
       "      <td>NaN</td>\n",
       "    </tr>\n",
       "  </tbody>\n",
       "</table>\n",
       "</div>"
      ],
      "text/plain": [
       "  2023 JAN lllllllllllllllllllllllllllllllllllllllllllllll 73    28 Consumo  \\\n",
       "1      NOV  llllllllllllllllllllllllllllllllllllllllllllll...  31.0     NaN   \n",
       "2      OUT  llllllllllllllllllllllllllllllllllllllllllllll...  32.0     NaN   \n",
       "\n",
       "  TUSD   TE          No   Energia Leitura Leitura.1 Fator  \\\n",
       "1  NaN  NaN  24044688.0     Ativa    1352      1279  1,00   \n",
       "2  NaN  NaN  24044688.0  Injetada    2419      2262  1,00   \n",
       "\n",
       "  ConsumoTaxa de Perda   Leitura.2  \n",
       "1                   73  15/02/2023  \n",
       "2                  157         NaN  "
      ]
     },
     "metadata": {},
     "output_type": "display_data"
    }
   ],
   "source": [
    "display(lista_tabelas[2][1:3])"
   ]
  },
  {
   "cell_type": "code",
   "execution_count": 10,
   "metadata": {},
   "outputs": [
    {
     "data": {
      "text/html": [
       "<div>\n",
       "<style scoped>\n",
       "    .dataframe tbody tr th:only-of-type {\n",
       "        vertical-align: middle;\n",
       "    }\n",
       "\n",
       "    .dataframe tbody tr th {\n",
       "        vertical-align: top;\n",
       "    }\n",
       "\n",
       "    .dataframe thead th {\n",
       "        text-align: right;\n",
       "    }\n",
       "</style>\n",
       "<table border=\"1\" class=\"dataframe\">\n",
       "  <thead>\n",
       "    <tr style=\"text-align: right;\">\n",
       "      <th></th>\n",
       "      <th>Total Consolidado</th>\n",
       "      <th>90,43</th>\n",
       "      <th>34,60</th>\n",
       "      <th>0,27</th>\n",
       "      <th>1,25</th>\n",
       "    </tr>\n",
       "  </thead>\n",
       "  <tbody>\n",
       "  </tbody>\n",
       "</table>\n",
       "</div>"
      ],
      "text/plain": [
       "Empty DataFrame\n",
       "Columns: [Total Consolidado, 90,43, 34,60, 0,27, 1,25]\n",
       "Index: []"
      ]
     },
     "metadata": {},
     "output_type": "display_data"
    },
    {
     "data": {
      "text/html": [
       "<div>\n",
       "<style scoped>\n",
       "    .dataframe tbody tr th:only-of-type {\n",
       "        vertical-align: middle;\n",
       "    }\n",
       "\n",
       "    .dataframe tbody tr th {\n",
       "        vertical-align: top;\n",
       "    }\n",
       "\n",
       "    .dataframe thead th {\n",
       "        text-align: right;\n",
       "    }\n",
       "</style>\n",
       "<table border=\"1\" class=\"dataframe\">\n",
       "  <thead>\n",
       "    <tr style=\"text-align: right;\">\n",
       "      <th></th>\n",
       "      <th>Cod.</th>\n",
       "      <th>Descrição da Operação</th>\n",
       "      <th>Mês</th>\n",
       "      <th>Quant.</th>\n",
       "      <th>Unid.</th>\n",
       "      <th>Tarifa com</th>\n",
       "      <th>Valor Total</th>\n",
       "      <th>Base Cálculo</th>\n",
       "      <th>Aliq.</th>\n",
       "      <th>ICMS</th>\n",
       "      <th>Base Cálculo.1</th>\n",
       "      <th>PIS</th>\n",
       "      <th>COFINS</th>\n",
       "      <th>Bandeiras</th>\n",
       "    </tr>\n",
       "  </thead>\n",
       "  <tbody>\n",
       "    <tr>\n",
       "      <th>0</th>\n",
       "      <td>115.0</td>\n",
       "      <td>N° 902803991048</td>\n",
       "      <td>Ref.</td>\n",
       "      <td>Faturada</td>\n",
       "      <td>Med.</td>\n",
       "      <td>Tributos R$</td>\n",
       "      <td>da Operação</td>\n",
       "      <td>ICMS R$</td>\n",
       "      <td>ICMS</td>\n",
       "      <td>NaN</td>\n",
       "      <td>PIS/COFINS</td>\n",
       "      <td>0,80%</td>\n",
       "      <td>3,62%</td>\n",
       "      <td>Tarifárias</td>\n",
       "    </tr>\n",
       "    <tr>\n",
       "      <th>1</th>\n",
       "      <td>NaN</td>\n",
       "      <td>NaN</td>\n",
       "      <td>NaN</td>\n",
       "      <td>NaN</td>\n",
       "      <td>NaN</td>\n",
       "      <td>NaN</td>\n",
       "      <td>R$</td>\n",
       "      <td>NaN</td>\n",
       "      <td>NaN</td>\n",
       "      <td>NaN</td>\n",
       "      <td>NaN</td>\n",
       "      <td>NaN</td>\n",
       "      <td>NaN</td>\n",
       "      <td>(Dias)</td>\n",
       "    </tr>\n",
       "    <tr>\n",
       "      <th>2</th>\n",
       "      <td>605.0</td>\n",
       "      <td>Energia Ativa Fornecida - TUSD</td>\n",
       "      <td>JAN/23</td>\n",
       "      <td>73,000</td>\n",
       "      <td>kWh</td>\n",
       "      <td>0,38273973</td>\n",
       "      <td>27,94</td>\n",
       "      <td>NaN</td>\n",
       "      <td>NaN</td>\n",
       "      <td>NaN</td>\n",
       "      <td>27,94</td>\n",
       "      <td>0,22</td>\n",
       "      <td>1,01</td>\n",
       "      <td>Verde</td>\n",
       "    </tr>\n",
       "    <tr>\n",
       "      <th>3</th>\n",
       "      <td>601.0</td>\n",
       "      <td>Energia Ativa Fornecida - TE</td>\n",
       "      <td>JAN/23</td>\n",
       "      <td>73,000</td>\n",
       "      <td>kWh</td>\n",
       "      <td>0,30958905</td>\n",
       "      <td>22,60</td>\n",
       "      <td>NaN</td>\n",
       "      <td>NaN</td>\n",
       "      <td>NaN</td>\n",
       "      <td>22,60</td>\n",
       "      <td>0,18</td>\n",
       "      <td>0,82</td>\n",
       "      <td>11 Dias</td>\n",
       "    </tr>\n",
       "    <tr>\n",
       "      <th>4</th>\n",
       "      <td>605.0</td>\n",
       "      <td>Energia Ativa Injetada TUSD</td>\n",
       "      <td>JAN/23</td>\n",
       "      <td>73,000</td>\n",
       "      <td>kWh</td>\n",
       "      <td>0,38273973</td>\n",
       "      <td>27,94-</td>\n",
       "      <td>NaN</td>\n",
       "      <td>NaN</td>\n",
       "      <td>NaN</td>\n",
       "      <td>27,94-</td>\n",
       "      <td>0,22-</td>\n",
       "      <td>1,01-</td>\n",
       "      <td>Verde</td>\n",
       "    </tr>\n",
       "    <tr>\n",
       "      <th>5</th>\n",
       "      <td>NaN</td>\n",
       "      <td>NaN</td>\n",
       "      <td>NaN</td>\n",
       "      <td>NaN</td>\n",
       "      <td>NaN</td>\n",
       "      <td>NaN</td>\n",
       "      <td>NaN</td>\n",
       "      <td>NaN</td>\n",
       "      <td>NaN</td>\n",
       "      <td>NaN</td>\n",
       "      <td>NaN</td>\n",
       "      <td>NaN</td>\n",
       "      <td>NaN</td>\n",
       "      <td>17 Dias</td>\n",
       "    </tr>\n",
       "    <tr>\n",
       "      <th>6</th>\n",
       "      <td>601.0</td>\n",
       "      <td>Energia Ativa Injetada TE</td>\n",
       "      <td>JAN/23</td>\n",
       "      <td>73,000</td>\n",
       "      <td>kWh</td>\n",
       "      <td>0,30958905</td>\n",
       "      <td>22,60-</td>\n",
       "      <td>NaN</td>\n",
       "      <td>NaN</td>\n",
       "      <td>NaN</td>\n",
       "      <td>22,60-</td>\n",
       "      <td>0,18-</td>\n",
       "      <td>0,82-</td>\n",
       "      <td>NaN</td>\n",
       "    </tr>\n",
       "    <tr>\n",
       "      <th>7</th>\n",
       "      <td>NaN</td>\n",
       "      <td>NaN</td>\n",
       "      <td>NaN</td>\n",
       "      <td>NaN</td>\n",
       "      <td>NaN</td>\n",
       "      <td>NaN</td>\n",
       "      <td>NaN</td>\n",
       "      <td>NaN</td>\n",
       "      <td>NaN</td>\n",
       "      <td>NaN</td>\n",
       "      <td>NaN</td>\n",
       "      <td>NaN</td>\n",
       "      <td>NaN</td>\n",
       "      <td>NaN</td>\n",
       "    </tr>\n",
       "    <tr>\n",
       "      <th>8</th>\n",
       "      <td>605.0</td>\n",
       "      <td>Custo de Disp. Energia TUSD</td>\n",
       "      <td>JAN/23</td>\n",
       "      <td>50,000</td>\n",
       "      <td>kWh</td>\n",
       "      <td>0,38260000</td>\n",
       "      <td>19,13</td>\n",
       "      <td>NaN</td>\n",
       "      <td>NaN</td>\n",
       "      <td>NaN</td>\n",
       "      <td>19,13</td>\n",
       "      <td>0,15</td>\n",
       "      <td>0,69</td>\n",
       "      <td>NaN</td>\n",
       "    </tr>\n",
       "    <tr>\n",
       "      <th>9</th>\n",
       "      <td>601.0</td>\n",
       "      <td>Custo de Disp. Energia - TE</td>\n",
       "      <td>JAN/23</td>\n",
       "      <td>50,000</td>\n",
       "      <td>kWh</td>\n",
       "      <td>0,30940000</td>\n",
       "      <td>15,47</td>\n",
       "      <td>NaN</td>\n",
       "      <td>NaN</td>\n",
       "      <td>NaN</td>\n",
       "      <td>15,47</td>\n",
       "      <td>0,12</td>\n",
       "      <td>0,56</td>\n",
       "      <td>NaN</td>\n",
       "    </tr>\n",
       "    <tr>\n",
       "      <th>10</th>\n",
       "      <td>699.0</td>\n",
       "      <td>Conta do mês</td>\n",
       "      <td>DEZ/22</td>\n",
       "      <td>NaN</td>\n",
       "      <td>NaN</td>\n",
       "      <td>NaN</td>\n",
       "      <td>37,77</td>\n",
       "      <td>NaN</td>\n",
       "      <td>NaN</td>\n",
       "      <td>NaN</td>\n",
       "      <td>NaN</td>\n",
       "      <td>NaN</td>\n",
       "      <td>NaN</td>\n",
       "      <td>NaN</td>\n",
       "    </tr>\n",
       "    <tr>\n",
       "      <th>11</th>\n",
       "      <td>807.0</td>\n",
       "      <td>Conta do mês</td>\n",
       "      <td>DEZ/22</td>\n",
       "      <td>NaN</td>\n",
       "      <td>NaN</td>\n",
       "      <td>NaN</td>\n",
       "      <td>18,06</td>\n",
       "      <td>NaN</td>\n",
       "      <td>NaN</td>\n",
       "      <td>NaN</td>\n",
       "      <td>NaN</td>\n",
       "      <td>NaN</td>\n",
       "      <td>NaN</td>\n",
       "      <td>NaN</td>\n",
       "    </tr>\n",
       "  </tbody>\n",
       "</table>\n",
       "</div>"
      ],
      "text/plain": [
       "     Cod.           Descrição da Operação     Mês    Quant. Unid.  \\\n",
       "0   115.0                 N° 902803991048    Ref.  Faturada  Med.   \n",
       "1     NaN                             NaN     NaN       NaN   NaN   \n",
       "2   605.0  Energia Ativa Fornecida - TUSD  JAN/23    73,000   kWh   \n",
       "3   601.0    Energia Ativa Fornecida - TE  JAN/23    73,000   kWh   \n",
       "4   605.0     Energia Ativa Injetada TUSD  JAN/23    73,000   kWh   \n",
       "5     NaN                             NaN     NaN       NaN   NaN   \n",
       "6   601.0       Energia Ativa Injetada TE  JAN/23    73,000   kWh   \n",
       "7     NaN                             NaN     NaN       NaN   NaN   \n",
       "8   605.0     Custo de Disp. Energia TUSD  JAN/23    50,000   kWh   \n",
       "9   601.0     Custo de Disp. Energia - TE  JAN/23    50,000   kWh   \n",
       "10  699.0                    Conta do mês  DEZ/22       NaN   NaN   \n",
       "11  807.0                    Conta do mês  DEZ/22       NaN   NaN   \n",
       "\n",
       "     Tarifa com  Valor Total Base Cálculo Aliq.  ICMS Base Cálculo.1    PIS  \\\n",
       "0   Tributos R$  da Operação      ICMS R$  ICMS   NaN     PIS/COFINS  0,80%   \n",
       "1           NaN           R$          NaN   NaN   NaN            NaN    NaN   \n",
       "2    0,38273973        27,94          NaN   NaN   NaN          27,94   0,22   \n",
       "3    0,30958905        22,60          NaN   NaN   NaN          22,60   0,18   \n",
       "4    0,38273973       27,94-          NaN   NaN   NaN         27,94-  0,22-   \n",
       "5           NaN          NaN          NaN   NaN   NaN            NaN    NaN   \n",
       "6    0,30958905       22,60-          NaN   NaN   NaN         22,60-  0,18-   \n",
       "7           NaN          NaN          NaN   NaN   NaN            NaN    NaN   \n",
       "8    0,38260000        19,13          NaN   NaN   NaN          19,13   0,15   \n",
       "9    0,30940000        15,47          NaN   NaN   NaN          15,47   0,12   \n",
       "10          NaN        37,77          NaN   NaN   NaN            NaN    NaN   \n",
       "11          NaN        18,06          NaN   NaN   NaN            NaN    NaN   \n",
       "\n",
       "   COFINS   Bandeiras  \n",
       "0   3,62%  Tarifárias  \n",
       "1     NaN      (Dias)  \n",
       "2    1,01       Verde  \n",
       "3    0,82     11 Dias  \n",
       "4   1,01-       Verde  \n",
       "5     NaN     17 Dias  \n",
       "6   0,82-         NaN  \n",
       "7     NaN         NaN  \n",
       "8    0,69         NaN  \n",
       "9    0,56         NaN  \n",
       "10    NaN         NaN  \n",
       "11    NaN         NaN  "
      ]
     },
     "metadata": {},
     "output_type": "display_data"
    },
    {
     "data": {
      "text/html": [
       "<div>\n",
       "<style scoped>\n",
       "    .dataframe tbody tr th:only-of-type {\n",
       "        vertical-align: middle;\n",
       "    }\n",
       "\n",
       "    .dataframe tbody tr th {\n",
       "        vertical-align: top;\n",
       "    }\n",
       "\n",
       "    .dataframe thead th {\n",
       "        text-align: right;\n",
       "    }\n",
       "</style>\n",
       "<table border=\"1\" class=\"dataframe\">\n",
       "  <thead>\n",
       "    <tr style=\"text-align: right;\">\n",
       "      <th></th>\n",
       "      <th>2023 JAN</th>\n",
       "      <th>lllllllllllllllllllllllllllllllllllllllllllllll 73</th>\n",
       "      <th>28</th>\n",
       "      <th>Consumo</th>\n",
       "      <th>TUSD</th>\n",
       "      <th>TE</th>\n",
       "      <th>No</th>\n",
       "      <th>Energia</th>\n",
       "      <th>Leitura</th>\n",
       "      <th>Leitura.1</th>\n",
       "      <th>Fator</th>\n",
       "      <th>ConsumoTaxa de Perda</th>\n",
       "      <th>Leitura.2</th>\n",
       "    </tr>\n",
       "  </thead>\n",
       "  <tbody>\n",
       "    <tr>\n",
       "      <th>0</th>\n",
       "      <td>2022 DEZ</td>\n",
       "      <td>llllllllllllllllllllllllllllllllllllllllllllll...</td>\n",
       "      <td>32.0</td>\n",
       "      <td>Consumo kWh</td>\n",
       "      <td>0,36599000</td>\n",
       "      <td>0,29592000</td>\n",
       "      <td>NaN</td>\n",
       "      <td>NaN</td>\n",
       "      <td>17/01/2023</td>\n",
       "      <td>20/12/2022</td>\n",
       "      <td>Multipl.</td>\n",
       "      <td>[kWh] [%]</td>\n",
       "      <td>Próximo Mês</td>\n",
       "    </tr>\n",
       "    <tr>\n",
       "      <th>1</th>\n",
       "      <td>NOV</td>\n",
       "      <td>llllllllllllllllllllllllllllllllllllllllllllll...</td>\n",
       "      <td>31.0</td>\n",
       "      <td>NaN</td>\n",
       "      <td>NaN</td>\n",
       "      <td>NaN</td>\n",
       "      <td>24044688.0</td>\n",
       "      <td>Ativa</td>\n",
       "      <td>1352</td>\n",
       "      <td>1279</td>\n",
       "      <td>1,00</td>\n",
       "      <td>73</td>\n",
       "      <td>15/02/2023</td>\n",
       "    </tr>\n",
       "    <tr>\n",
       "      <th>2</th>\n",
       "      <td>OUT</td>\n",
       "      <td>llllllllllllllllllllllllllllllllllllllllllllll...</td>\n",
       "      <td>32.0</td>\n",
       "      <td>NaN</td>\n",
       "      <td>NaN</td>\n",
       "      <td>NaN</td>\n",
       "      <td>24044688.0</td>\n",
       "      <td>Injetada</td>\n",
       "      <td>2419</td>\n",
       "      <td>2262</td>\n",
       "      <td>1,00</td>\n",
       "      <td>157</td>\n",
       "      <td>NaN</td>\n",
       "    </tr>\n",
       "    <tr>\n",
       "      <th>3</th>\n",
       "      <td>SET</td>\n",
       "      <td>llllllllllllllllllllllllllllllllllllllllllllll...</td>\n",
       "      <td>30.0</td>\n",
       "      <td>NaN</td>\n",
       "      <td>NaN</td>\n",
       "      <td>NaN</td>\n",
       "      <td>NaN</td>\n",
       "      <td>NaN</td>\n",
       "      <td>NaN</td>\n",
       "      <td>NaN</td>\n",
       "      <td>NaN</td>\n",
       "      <td>NaN</td>\n",
       "      <td>NaN</td>\n",
       "    </tr>\n",
       "    <tr>\n",
       "      <th>4</th>\n",
       "      <td>AGO</td>\n",
       "      <td>llllllllllllllllllllllllllllllllllllllllllllll...</td>\n",
       "      <td>30.0</td>\n",
       "      <td>NaN</td>\n",
       "      <td>NaN</td>\n",
       "      <td>NaN</td>\n",
       "      <td>NaN</td>\n",
       "      <td>NaN</td>\n",
       "      <td>NaN</td>\n",
       "      <td>NaN</td>\n",
       "      <td>NaN</td>\n",
       "      <td>NaN</td>\n",
       "      <td>NaN</td>\n",
       "    </tr>\n",
       "    <tr>\n",
       "      <th>5</th>\n",
       "      <td>JUL</td>\n",
       "      <td>llllllllllllllllllllllllllllllllllllllllllllll...</td>\n",
       "      <td>33.0</td>\n",
       "      <td>NaN</td>\n",
       "      <td>NaN</td>\n",
       "      <td>NaN</td>\n",
       "      <td>NaN</td>\n",
       "      <td>NaN</td>\n",
       "      <td>NaN</td>\n",
       "      <td>NaN</td>\n",
       "      <td>NaN</td>\n",
       "      <td>NaN</td>\n",
       "      <td>NaN</td>\n",
       "    </tr>\n",
       "    <tr>\n",
       "      <th>6</th>\n",
       "      <td>NaN</td>\n",
       "      <td>NaN</td>\n",
       "      <td>NaN</td>\n",
       "      <td>NaN</td>\n",
       "      <td>NaN</td>\n",
       "      <td>NaN</td>\n",
       "      <td>NaN</td>\n",
       "      <td>NaN</td>\n",
       "      <td>NaN</td>\n",
       "      <td>NaN</td>\n",
       "      <td>NaN</td>\n",
       "      <td>NaN</td>\n",
       "      <td>NaN</td>\n",
       "    </tr>\n",
       "    <tr>\n",
       "      <th>7</th>\n",
       "      <td>JUN</td>\n",
       "      <td>llllllllllllllllllllllllllllllllllllllllllllll...</td>\n",
       "      <td>28.0</td>\n",
       "      <td>NaN</td>\n",
       "      <td>NaN</td>\n",
       "      <td>NaN</td>\n",
       "      <td>NaN</td>\n",
       "      <td>NaN</td>\n",
       "      <td>NaN</td>\n",
       "      <td>NaN</td>\n",
       "      <td>NaN</td>\n",
       "      <td>NaN</td>\n",
       "      <td>NaN</td>\n",
       "    </tr>\n",
       "    <tr>\n",
       "      <th>8</th>\n",
       "      <td>NaN</td>\n",
       "      <td>NaN</td>\n",
       "      <td>NaN</td>\n",
       "      <td>NaN</td>\n",
       "      <td>NaN</td>\n",
       "      <td>NaN</td>\n",
       "      <td>NaN</td>\n",
       "      <td>NaN</td>\n",
       "      <td>NaN</td>\n",
       "      <td>NaN</td>\n",
       "      <td>NaN</td>\n",
       "      <td>NaN</td>\n",
       "      <td>NaN</td>\n",
       "    </tr>\n",
       "    <tr>\n",
       "      <th>9</th>\n",
       "      <td>MAI</td>\n",
       "      <td>llllllllllllllllllllllllllllllllllllllllllllll...</td>\n",
       "      <td>29.0</td>\n",
       "      <td>NaN</td>\n",
       "      <td>NaN</td>\n",
       "      <td>NaN</td>\n",
       "      <td>NaN</td>\n",
       "      <td>NaN</td>\n",
       "      <td>NaN</td>\n",
       "      <td>NaN</td>\n",
       "      <td>NaN</td>\n",
       "      <td>NaN</td>\n",
       "      <td>NaN</td>\n",
       "    </tr>\n",
       "    <tr>\n",
       "      <th>10</th>\n",
       "      <td>NaN</td>\n",
       "      <td>NaN</td>\n",
       "      <td>NaN</td>\n",
       "      <td>NaN</td>\n",
       "      <td>NaN</td>\n",
       "      <td>NaN</td>\n",
       "      <td>NaN</td>\n",
       "      <td>NaN</td>\n",
       "      <td>NaN</td>\n",
       "      <td>NaN</td>\n",
       "      <td>NaN</td>\n",
       "      <td>NaN</td>\n",
       "      <td>NaN</td>\n",
       "    </tr>\n",
       "    <tr>\n",
       "      <th>11</th>\n",
       "      <td>ABR</td>\n",
       "      <td>llllllllllllllllllllllllllllllllllllllllllllll...</td>\n",
       "      <td>33.0</td>\n",
       "      <td>NaN</td>\n",
       "      <td>NaN</td>\n",
       "      <td>NaN</td>\n",
       "      <td>NaN</td>\n",
       "      <td>NaN</td>\n",
       "      <td>NaN</td>\n",
       "      <td>NaN</td>\n",
       "      <td>NaN</td>\n",
       "      <td>NaN</td>\n",
       "      <td>NaN</td>\n",
       "    </tr>\n",
       "    <tr>\n",
       "      <th>12</th>\n",
       "      <td>MAR</td>\n",
       "      <td>llllllllllllllllllllllllllllllllllllllllllllll...</td>\n",
       "      <td>29.0</td>\n",
       "      <td>NaN</td>\n",
       "      <td>NaN</td>\n",
       "      <td>NaN</td>\n",
       "      <td>NaN</td>\n",
       "      <td>NaN</td>\n",
       "      <td>NaN</td>\n",
       "      <td>NaN</td>\n",
       "      <td>NaN</td>\n",
       "      <td>NaN</td>\n",
       "      <td>NaN</td>\n",
       "    </tr>\n",
       "    <tr>\n",
       "      <th>13</th>\n",
       "      <td>FEV</td>\n",
       "      <td>Para consulta dos indicadores acesse nosso sit...</td>\n",
       "      <td>29.0</td>\n",
       "      <td>NaN</td>\n",
       "      <td>NaN</td>\n",
       "      <td>NaN</td>\n",
       "      <td>NaN</td>\n",
       "      <td>NaN</td>\n",
       "      <td>NaN</td>\n",
       "      <td>NaN</td>\n",
       "      <td>NaN</td>\n",
       "      <td>NaN</td>\n",
       "      <td>NaN</td>\n",
       "    </tr>\n",
       "    <tr>\n",
       "      <th>14</th>\n",
       "      <td>NaN</td>\n",
       "      <td>lllllllllllllllllllllllllllllllll</td>\n",
       "      <td>NaN</td>\n",
       "      <td>NaN</td>\n",
       "      <td>NaN</td>\n",
       "      <td>NaN</td>\n",
       "      <td>NaN</td>\n",
       "      <td>NaN</td>\n",
       "      <td>NaN</td>\n",
       "      <td>NaN</td>\n",
       "      <td>NaN</td>\n",
       "      <td>NaN</td>\n",
       "      <td>NaN</td>\n",
       "    </tr>\n",
       "  </tbody>\n",
       "</table>\n",
       "</div>"
      ],
      "text/plain": [
       "    2023 JAN lllllllllllllllllllllllllllllllllllllllllllllll 73    28  \\\n",
       "0   2022 DEZ  llllllllllllllllllllllllllllllllllllllllllllll...  32.0   \n",
       "1        NOV  llllllllllllllllllllllllllllllllllllllllllllll...  31.0   \n",
       "2        OUT  llllllllllllllllllllllllllllllllllllllllllllll...  32.0   \n",
       "3        SET  llllllllllllllllllllllllllllllllllllllllllllll...  30.0   \n",
       "4        AGO  llllllllllllllllllllllllllllllllllllllllllllll...  30.0   \n",
       "5        JUL  llllllllllllllllllllllllllllllllllllllllllllll...  33.0   \n",
       "6        NaN                                                NaN   NaN   \n",
       "7        JUN  llllllllllllllllllllllllllllllllllllllllllllll...  28.0   \n",
       "8        NaN                                                NaN   NaN   \n",
       "9        MAI  llllllllllllllllllllllllllllllllllllllllllllll...  29.0   \n",
       "10       NaN                                                NaN   NaN   \n",
       "11       ABR  llllllllllllllllllllllllllllllllllllllllllllll...  33.0   \n",
       "12       MAR  llllllllllllllllllllllllllllllllllllllllllllll...  29.0   \n",
       "13       FEV  Para consulta dos indicadores acesse nosso sit...  29.0   \n",
       "14       NaN                  lllllllllllllllllllllllllllllllll   NaN   \n",
       "\n",
       "        Consumo        TUSD          TE          No   Energia     Leitura  \\\n",
       "0   Consumo kWh  0,36599000  0,29592000         NaN       NaN  17/01/2023   \n",
       "1           NaN         NaN         NaN  24044688.0     Ativa        1352   \n",
       "2           NaN         NaN         NaN  24044688.0  Injetada        2419   \n",
       "3           NaN         NaN         NaN         NaN       NaN         NaN   \n",
       "4           NaN         NaN         NaN         NaN       NaN         NaN   \n",
       "5           NaN         NaN         NaN         NaN       NaN         NaN   \n",
       "6           NaN         NaN         NaN         NaN       NaN         NaN   \n",
       "7           NaN         NaN         NaN         NaN       NaN         NaN   \n",
       "8           NaN         NaN         NaN         NaN       NaN         NaN   \n",
       "9           NaN         NaN         NaN         NaN       NaN         NaN   \n",
       "10          NaN         NaN         NaN         NaN       NaN         NaN   \n",
       "11          NaN         NaN         NaN         NaN       NaN         NaN   \n",
       "12          NaN         NaN         NaN         NaN       NaN         NaN   \n",
       "13          NaN         NaN         NaN         NaN       NaN         NaN   \n",
       "14          NaN         NaN         NaN         NaN       NaN         NaN   \n",
       "\n",
       "     Leitura.1     Fator ConsumoTaxa de Perda    Leitura.2  \n",
       "0   20/12/2022  Multipl.            [kWh] [%]  Próximo Mês  \n",
       "1         1279      1,00                   73   15/02/2023  \n",
       "2         2262      1,00                  157          NaN  \n",
       "3          NaN       NaN                  NaN          NaN  \n",
       "4          NaN       NaN                  NaN          NaN  \n",
       "5          NaN       NaN                  NaN          NaN  \n",
       "6          NaN       NaN                  NaN          NaN  \n",
       "7          NaN       NaN                  NaN          NaN  \n",
       "8          NaN       NaN                  NaN          NaN  \n",
       "9          NaN       NaN                  NaN          NaN  \n",
       "10         NaN       NaN                  NaN          NaN  \n",
       "11         NaN       NaN                  NaN          NaN  \n",
       "12         NaN       NaN                  NaN          NaN  \n",
       "13         NaN       NaN                  NaN          NaN  \n",
       "14         NaN       NaN                  NaN          NaN  "
      ]
     },
     "metadata": {},
     "output_type": "display_data"
    }
   ],
   "source": [
    "for tabela in lista_tabelas[0:]:\n",
    "    display(tabela)"
   ]
  },
  {
   "cell_type": "markdown",
   "metadata": {},
   "source": [
    "## Ler PDF usando Tabula - FIM"
   ]
  },
  {
   "attachments": {},
   "cell_type": "markdown",
   "metadata": {},
   "source": [
    "# Jogo da Velha\n",
    "https://www.youtube.com/watch?v=LUICgtok8QE"
   ]
  },
  {
   "cell_type": "code",
   "execution_count": 13,
   "metadata": {},
   "outputs": [],
   "source": [
    "import cv2\n",
    "import numpy as np\n",
    "import random\n",
    "\n",
    "BLACK = (0,0,0)\n",
    "\n",
    "def showImage(img):\n",
    "    from matplotlib import pyplot as plt\n",
    "    plt.imshow(img)\n",
    "    plt.show()"
   ]
  },
  {
   "cell_type": "code",
   "execution_count": 3,
   "metadata": {},
   "outputs": [],
   "source": [
    "def drawLine(image, startPoint, endPoint, color= BLACK, thickness=5):\n",
    "    cv2.line(image,\n",
    "        startPoint,\n",
    "        endPoint,\n",
    "        color,\n",
    "        thickness)"
   ]
  },
  {
   "cell_type": "code",
   "execution_count": 5,
   "metadata": {},
   "outputs": [
    {
     "data": {
      "image/png": "[encoded data removed]",
      "text/plain": [
       "<Figure size 432x288 with 1 Axes>"
      ]
     },
     "metadata": {
      "needs_background": "light"
     },
     "output_type": "display_data"
    }
   ],
   "source": [
    "ticTacToeBoard = np.empty([400,300,3], dtype = np.uint8)\n",
    "ticTacToeBoard.fill(255)\n",
    "\n",
    "drawLine(ticTacToeBoard, (100,100), (100,300), BLACK, 5)\n",
    "drawLine(ticTacToeBoard, (200,100), (200,300))\n",
    "drawLine(ticTacToeBoard, (50,150), (250,150))\n",
    "drawLine(ticTacToeBoard, (50,250), (250,250))\n",
    "\n",
    "showImage(ticTacToeBoard)"
   ]
  },
  {
   "cell_type": "code",
   "execution_count": 6,
   "metadata": {},
   "outputs": [],
   "source": [
    "def drawRectangleInBoard(image, posXboard, posYboard, color):\n",
    "    startPosX, startPosY = 25 + posXboard * 100, 75 + posYboard * 100\n",
    "    endPosX , endPosY = 75 + posXboard * 100, 125 + posYboard * 100 \n",
    "    cv2.rectangle(image,\n",
    "                    (startPosX,startPosY),\n",
    "                    (endPosX,endPosY),\n",
    "                    color,\n",
    "                    -1)"
   ]
  },
  {
   "cell_type": "code",
   "execution_count": 7,
   "metadata": {},
   "outputs": [],
   "source": [
    "def drawTriangleInBoard(image, posXboard, posYboard, color):\n",
    "    startPosX, startPosY = 25 + posXboard * 100, 75 + posYboard * 100\n",
    "    endPosX , endPosY = 75 + posXboard * 100, 125 + posYboard * 100 \n",
    "    \n",
    "    vertices = np.array([[(startPosX, startPosY), (startPosX,endPosY), (endPosX,endPosY)]], np.int32)\n",
    "    #vertices = np.array([[startPosX, startPosX], [startPosX,endPosY], [endPosX,endPosY]], np.int32)\n",
    "    cv2.fillPoly(image,\n",
    "                vertices,\n",
    "                color)"
   ]
  },
  {
   "cell_type": "code",
   "execution_count": 123,
   "metadata": {},
   "outputs": [],
   "source": [
    "def checkGameOver(board):\n",
    "    \n",
    "    for i in range(0,3,1):\n",
    "        # checando linhas\n",
    "        if board[0][i] == board[1][i] == board[2][i] and board[0][i] != 0:\n",
    "            print('Vencedor',board[0][i])\n",
    "            return board[0][i]\n",
    "        # checando colunas\n",
    "        elif board[i][0] == board[i][1] == board[i][2] and board[i][0] != 0:\n",
    "            print('Vencedor',board[i][0])\n",
    "            return board[i][i]\n",
    "        # checando diagonais\n",
    "        if board[0][0] == board[1][1] == board[2][2] and board[1][1] != 0:\n",
    "            print('Vencedor',board[0][0])\n",
    "            return board[0][0]\n",
    "        elif board[0][2] == board[1][1] == board[2][0] and board[1][1] != 0:\n",
    "            print('Vencedor',board[0][2])\n",
    "            return board[0][2]\n",
    "        elif '0' not in str(board):\n",
    "            return -1\n",
    "        else:\n",
    "            return print('fedeu')\n",
    "    "
   ]
  },
  {
   "cell_type": "code",
   "execution_count": 126,
   "metadata": {},
   "outputs": [
    {
     "name": "stdout",
     "output_type": "stream",
     "text": [
      "0 0 0\n",
      "fedeu\n"
     ]
    }
   ],
   "source": [
    "teste = [[1, 1, 0], [1, 1, 0], [0, 1, 0]]\n",
    "print (teste[0][2] , teste[1][2] , teste[2][2])\n",
    "checkGameOver(teste)"
   ]
  },
  {
   "cell_type": "code",
   "execution_count": 8,
   "metadata": {},
   "outputs": [
    {
     "data": {
      "image/png": "[encoded data removed]",
      "text/plain": [
       "<Figure size 432x288 with 1 Axes>"
      ]
     },
     "metadata": {
      "needs_background": "light"
     },
     "output_type": "display_data"
    }
   ],
   "source": [
    "currentMatch = ticTacToeBoard.copy()\n",
    "for i in range(0,3,1):\n",
    "    for j in range(0,3,1):\n",
    "        if i==j:\n",
    "            drawRectangleInBoard(currentMatch,i,j,(255,0,0))\n",
    "        else:\n",
    "            drawTriangleInBoard(currentMatch,i,j,(0,0,255))\n",
    "        \n",
    "#drawRectangleInBoard(currentMatch,1,1,(255,0,0))\n",
    "showImage(currentMatch)"
   ]
  },
  {
   "cell_type": "code",
   "execution_count": 83,
   "metadata": {},
   "outputs": [
    {
     "name": "stdout",
     "output_type": "stream",
     "text": [
      "Turno do jogador Humano.\n"
     ]
    },
    {
     "data": {
      "image/png": "[encoded data removed]",
      "text/plain": [
       "<Figure size 432x288 with 1 Axes>"
      ]
     },
     "metadata": {
      "needs_background": "light"
     },
     "output_type": "display_data"
    },
    {
     "name": "stdout",
     "output_type": "stream",
     "text": [
      "0 Jogada: 2\n",
      "Turno do jogador CPU.\n"
     ]
    },
    {
     "data": {
      "image/png": "[encoded data removed]",
      "text/plain": [
       "<Figure size 432x288 with 1 Axes>"
      ]
     },
     "metadata": {
      "needs_background": "light"
     },
     "output_type": "display_data"
    },
    {
     "name": "stdout",
     "output_type": "stream",
     "text": [
      "0 Jogada: 3\n",
      "Turno do jogador Humano.\n",
      "Posição ocupada.\n"
     ]
    },
    {
     "data": {
      "image/png": "[encoded data removed]",
      "text/plain": [
       "<Figure size 432x288 with 1 Axes>"
      ]
     },
     "metadata": {
      "needs_background": "light"
     },
     "output_type": "display_data"
    },
    {
     "name": "stdout",
     "output_type": "stream",
     "text": [
      "0 Jogada: 4\n",
      "Turno do jogador CPU.\n"
     ]
    },
    {
     "data": {
      "image/png": "[encoded data removed]",
      "text/plain": [
       "<Figure size 432x288 with 1 Axes>"
      ]
     },
     "metadata": {
      "needs_background": "light"
     },
     "output_type": "display_data"
    },
    {
     "name": "stdout",
     "output_type": "stream",
     "text": [
      "0 Jogada: 5\n",
      "Turno do jogador Humano.\n"
     ]
    },
    {
     "data": {
      "image/png": "[encoded data removed]",
      "text/plain": [
       "<Figure size 432x288 with 1 Axes>"
      ]
     },
     "metadata": {
      "needs_background": "light"
     },
     "output_type": "display_data"
    },
    {
     "name": "stdout",
     "output_type": "stream",
     "text": [
      "0 Jogada: 6\n",
      "Turno do jogador CPU.\n"
     ]
    },
    {
     "data": {
      "image/png": "[encoded data removed]",
      "text/plain": [
       "<Figure size 432x288 with 1 Axes>"
      ]
     },
     "metadata": {
      "needs_background": "light"
     },
     "output_type": "display_data"
    },
    {
     "name": "stdout",
     "output_type": "stream",
     "text": [
      "0 Jogada: 7\n",
      "Turno do jogador Humano.\n"
     ]
    },
    {
     "data": {
      "image/png": "[encoded data removed]",
      "text/plain": [
       "<Figure size 432x288 with 1 Axes>"
      ]
     },
     "metadata": {
      "needs_background": "light"
     },
     "output_type": "display_data"
    },
    {
     "name": "stdout",
     "output_type": "stream",
     "text": [
      "0 Jogada: 8\n",
      "Turno do jogador CPU.\n"
     ]
    },
    {
     "data": {
      "image/png": "[encoded data removed]",
      "text/plain": [
       "<Figure size 432x288 with 1 Axes>"
      ]
     },
     "metadata": {
      "needs_background": "light"
     },
     "output_type": "display_data"
    },
    {
     "name": "stdout",
     "output_type": "stream",
     "text": [
      "0 Jogada: 9\n",
      "Turno do jogador Humano.\n"
     ]
    },
    {
     "data": {
      "image/png": "[encoded data removed]",
      "text/plain": [
       "<Figure size 432x288 with 1 Axes>"
      ]
     },
     "metadata": {
      "needs_background": "light"
     },
     "output_type": "display_data"
    },
    {
     "name": "stdout",
     "output_type": "stream",
     "text": [
      "Vencedor 1\n",
      "1 Jogada: 10\n",
      "Você venceu!\n"
     ]
    }
   ],
   "source": [
    "# O jogo\n",
    "currentMatch = ticTacToeBoard.copy()\n",
    "empate = -1\n",
    "vazio = 0\n",
    "humano = 1\n",
    "cpu = 2\n",
    "\n",
    "occupiedPositions = [[vazio,vazio,vazio],\n",
    "                    [vazio,vazio,vazio],\n",
    "                    [vazio,vazio,vazio]]\n",
    "\n",
    "turno = humano\n",
    "jogadas = 1\n",
    "result = 0\n",
    "while result == 0:\n",
    "    if turno == humano:\n",
    "        print('Turno do jogador Humano.')\n",
    "        posX = int(input('Informe a posição X da sua jogada:')) %3\n",
    "        posY = int(input('Informe a posição Y da sua jogada:')) %3\n",
    "\n",
    "        while occupiedPositions[posX][posY] != vazio:\n",
    "            print('Posição ocupada.')\n",
    "            posX = int(input('Informe a posição X da sua jogada:')) %3\n",
    "            posY = int(input('Informe a posição Y da sua jogada:')) %3\n",
    "        occupiedPositions[posX][posY] = humano\n",
    "        drawTriangleInBoard(currentMatch,posX,posY,(0,0,255))\n",
    "        turno = cpu\n",
    "\n",
    "    else:\n",
    "        print('Turno do jogador CPU.')\n",
    "        posX, posY = random.randint(0,2), random.randint(0,2)\n",
    "        while occupiedPositions[posX][posY] != vazio:\n",
    "            posX, posY = random.randint(0,2), random.randint(0,2)\n",
    "        occupiedPositions[posX][posY] = cpu\n",
    "        drawRectangleInBoard(currentMatch,posX,posY,(255,0,0))\n",
    "        turno = humano\n",
    "    \n",
    "    showImage(currentMatch)\n",
    "    jogadas += 1\n",
    "\n",
    "    result = checkGameOver(occupiedPositions)\n",
    "    print(result, 'Jogada:',jogadas)\n",
    "    if result == empate:\n",
    "        print('Empate!')\n",
    "        break\n",
    "    elif result == humano:\n",
    "        print('Você venceu!')\n",
    "        break\n",
    "    elif result == cpu:\n",
    "        print('CPU venceu!')\n",
    "        break"
   ]
  },
  {
   "cell_type": "code",
   "execution_count": 18,
   "metadata": {},
   "outputs": [
    {
     "data": {
      "text/plain": [
       "[[1, 1, 1], [2, 1, 2], [2, 2, 0]]"
      ]
     },
     "execution_count": 18,
     "metadata": {},
     "output_type": "execute_result"
    }
   ],
   "source": [
    "occupiedPositions"
   ]
  },
  {
   "cell_type": "code",
   "execution_count": null,
   "metadata": {},
   "outputs": [],
   "source": []
  },
  {
   "cell_type": "markdown",
   "metadata": {},
   "source": [
    "# Jogo da Velha - FIM"
   ]
  },
  {
   "cell_type": "code",
   "execution_count": null,
   "metadata": {},
   "outputs": [],
   "source": []
  },
  {
   "cell_type": "code",
   "execution_count": null,
   "metadata": {},
   "outputs": [],
   "source": []
  },
  {
   "cell_type": "code",
   "execution_count": null,
   "metadata": {},
   "outputs": [],
   "source": []
  },
  {
   "cell_type": "code",
   "execution_count": null,
   "metadata": {},
   "outputs": [],
   "source": []
  },
  {
   "cell_type": "markdown",
   "metadata": {},
   "source": [
    "# Usando o Latexify"
   ]
  },
  {
   "cell_type": "code",
   "execution_count": null,
   "metadata": {},
   "outputs": [],
   "source": [
    "!pip install latexify-py"
   ]
  },
  {
   "cell_type": "code",
   "execution_count": 1,
   "metadata": {},
   "outputs": [],
   "source": [
    "import math\n",
    "import latexify"
   ]
  },
  {
   "cell_type": "code",
   "execution_count": 2,
   "metadata": {},
   "outputs": [
    {
     "name": "stdout",
     "output_type": "stream",
     "text": [
      "-0.6457513110645907\n",
      "\\mathrm{solve}(a, b, c)\\triangleq \\frac{-b + \\sqrt{b^{2} - 4ac}}{2a}\n",
      "\n"
     ]
    },
    {
     "data": {
      "text/latex": [
       "$$ \\displaystyle \\mathrm{solve}(a, b, c)\\triangleq \\frac{-b + \\sqrt{b^{2} - 4ac}}{2a} $$"
      ],
      "text/plain": [
       "<latexify.core.with_latex.<locals>._LatexifiedFunction at 0x24c1f2f7240>"
      ]
     },
     "execution_count": 2,
     "metadata": {},
     "output_type": "execute_result"
    }
   ],
   "source": [
    "@latexify.with_latex\n",
    "def solve(a, b, c):\n",
    "  return (-b + math.sqrt(b**2 - 4*a*c)) / (2*a)\n",
    "\n",
    "print(solve(-1, 4, 3))\n",
    "print(solve)\n",
    "print()\n",
    "solve"
   ]
  },
  {
   "cell_type": "code",
   "execution_count": 8,
   "metadata": {},
   "outputs": [
    {
     "data": {
      "text/latex": [
       "$$ \\displaystyle \\mathrm{sinc}(x)\\triangleq \\left\\{ \\begin{array}{ll} 1, & \\mathrm{if} \\ x=0 \\\\ \\frac{\\sin{\\left({x}\\right)}}{x}, & \\mathrm{otherwise} \\end{array} \\right. $$"
      ],
      "text/plain": [
       "<latexify.core.with_latex.<locals>._LatexifiedFunction at 0x24c1f50c550>"
      ]
     },
     "execution_count": 8,
     "metadata": {},
     "output_type": "execute_result"
    }
   ],
   "source": [
    "@latexify.with_latex\n",
    "def sinc(x):\n",
    "  if x == 0:\n",
    "    return 1\n",
    "  else:\n",
    "    return math.sin(x) / x\n",
    "\n",
    "sinc"
   ]
  },
  {
   "cell_type": "code",
   "execution_count": 4,
   "metadata": {},
   "outputs": [
    {
     "data": {
      "text/latex": [
       "$$ \\displaystyle \\mathrm{fib}(x)\\triangleq \\left\\{ \\begin{array}{ll} 1, & \\mathrm{if} \\ x=0 \\\\ 1, & \\mathrm{if} \\ x=1 \\\\ \\mathrm{fib}\\left(x - 1\\right) + \\mathrm{fib}\\left(x - 2\\right), & \\mathrm{otherwise} \\end{array} \\right. $$"
      ],
      "text/plain": [
       "<latexify.core.with_latex.<locals>._LatexifiedFunction at 0x24c1f3a79e8>"
      ]
     },
     "execution_count": 4,
     "metadata": {},
     "output_type": "execute_result"
    }
   ],
   "source": [
    "# Elif or nested else-if are unrolled.\n",
    "@latexify.with_latex\n",
    "def fib(x):\n",
    "  if x == 0:\n",
    "    return 1\n",
    "  elif x == 1:\n",
    "    return 1\n",
    "  else:\n",
    "    return fib(x-1) + fib(x-2)\n",
    "\n",
    "fib"
   ]
  },
  {
   "cell_type": "code",
   "execution_count": 5,
   "metadata": {},
   "outputs": [
    {
     "data": {
      "text/latex": [
       "$$ \\displaystyle \\mathrm{greek}({\\alpha}, {\\beta}, {\\gamma}, {\\Omega})\\triangleq {\\alpha}{\\beta} + \\Gamma\\left({{\\gamma}}\\right) + {\\Omega} $$"
      ],
      "text/plain": [
       "<latexify.core.with_latex.<locals>._LatexifiedFunction at 0x24c1f3a7cf8>"
      ]
     },
     "execution_count": 5,
     "metadata": {},
     "output_type": "execute_result"
    }
   ],
   "source": [
    "# Some math symbols are converted automatically.\n",
    "@latexify.with_latex\n",
    "def greek(alpha, beta, gamma, Omega):\n",
    "  return alpha * beta + math.gamma(gamma) + Omega\n",
    "\n",
    "greek"
   ]
  },
  {
   "cell_type": "markdown",
   "metadata": {},
   "source": [
    "# FIM Usando o Latexify"
   ]
  },
  {
   "cell_type": "code",
   "execution_count": null,
   "metadata": {},
   "outputs": [],
   "source": []
  },
  {
   "cell_type": "code",
   "execution_count": null,
   "metadata": {},
   "outputs": [],
   "source": []
  },
  {
   "cell_type": "code",
   "execution_count": null,
   "metadata": {},
   "outputs": [],
   "source": []
  },
  {
   "cell_type": "code",
   "execution_count": null,
   "metadata": {},
   "outputs": [],
   "source": []
  },
  {
   "cell_type": "markdown",
   "metadata": {},
   "source": [
    "Uso de graficos"
   ]
  },
  {
   "cell_type": "code",
   "execution_count": null,
   "metadata": {},
   "outputs": [],
   "source": [
    "import matplotlib.pyplot as plt\n",
    "import numpy as np"
   ]
  },
  {
   "cell_type": "code",
   "execution_count": null,
   "metadata": {},
   "outputs": [],
   "source": [
    "# Let's define quantities to be plotted\n",
    "x = np.linspace(0,10)\n",
    "y = np.sin(x)\n",
    "z = np.cos(x)\n",
    "tg = (.3*x**2-3*x-2)"
   ]
  },
  {
   "cell_type": "code",
   "execution_count": null,
   "metadata": {},
   "outputs": [],
   "source": [
    "fig, ax_main = plt.subplots()\n",
    "\n",
    "# add_axis take a parameter rect: [left, bottom, width, height], dims of the new Axes\n",
    "# All quantities are in fraction of figure height and width\n",
    "ax_inset = fig.add_axes(rect=[0.18,0.18,0.2,0.2])\n",
    "ax_inset2 = fig.add_axes(rect=[0.63,0.18,0.2,0.2])\n",
    "\n",
    "ax_main.plot(x, y, color='red')\n",
    "ax_main.set_title('sin(x)')\n",
    "\n",
    "ax_inset.plot(x, z, color='green')\n",
    "ax_inset.set_title('cos(x)')\n",
    "\n",
    "ax_inset2.plot(x, tg, color='blue')\n",
    "ax_inset2.set_title('tag(x)')\n",
    "\n",
    "plt.show()"
   ]
  },
  {
   "cell_type": "code",
   "execution_count": null,
   "metadata": {},
   "outputs": [],
   "source": [
    "#import matplotlib as plt\n",
    "import matplotlib.pyplot as plt\n",
    "import numpy as np"
   ]
  },
  {
   "cell_type": "code",
   "execution_count": null,
   "metadata": {},
   "outputs": [],
   "source": [
    "# Let's define quantities to be ploted\n",
    "x = np.linspace(0,10)\n",
    "functions_of_x = [x, np.sin(x), np.cos(x), np.tan(x)]\n",
    "\n",
    "# Plot titles and colours\n",
    "colors = ['red', 'green', 'blue', 'magenta']\n",
    "titles = ['x', 'sin(x)', 'cos(x)', 'tan(x)']"
   ]
  },
  {
   "cell_type": "code",
   "execution_count": null,
   "metadata": {},
   "outputs": [],
   "source": [
    "# Define a figure and specify size\n",
    "plt.figure(figsize=(5, 5))\n",
    "\n",
    "# Numbers of row and columns in plot; num_subplots = nrows*ncols\n",
    "nrows, ncols = 2, 2\n",
    "\n",
    "for i in range(4):\n",
    "    # plt.subplot return an Axes object over which we draw each subplot\n",
    "    # plt.subplot(nrows, ncols, index); index: starts at I in the upper left corner\n",
    "    # of the nrows*ncols grid and increases to the right\n",
    "\n",
    "    axes_i = plt.subplot(nrows, ncols, i+1)\n",
    "    axes_i.plot(x, functions_of_x[i], color=colors[i])\n",
    "    axes_i.set_title(titles[i])"
   ]
  },
  {
   "cell_type": "code",
   "execution_count": null,
   "metadata": {},
   "outputs": [],
   "source": []
  },
  {
   "cell_type": "code",
   "execution_count": null,
   "metadata": {},
   "outputs": [],
   "source": []
  },
  {
   "cell_type": "markdown",
   "metadata": {},
   "source": [
    "Fim do uso de graficos"
   ]
  },
  {
   "cell_type": "markdown",
   "metadata": {},
   "source": []
  },
  {
   "cell_type": "code",
   "execution_count": null,
   "metadata": {},
   "outputs": [],
   "source": [
    "import math\n",
    "a = math.pi/3\n",
    "math.cos(a)"
   ]
  },
  {
   "cell_type": "code",
   "execution_count": null,
   "metadata": {},
   "outputs": [],
   "source": []
  },
  {
   "cell_type": "code",
   "execution_count": null,
   "metadata": {},
   "outputs": [],
   "source": []
  },
  {
   "cell_type": "code",
   "execution_count": null,
   "metadata": {},
   "outputs": [],
   "source": []
  },
  {
   "cell_type": "markdown",
   "metadata": {},
   "source": [
    "# Levenshtein\n",
    "Calculando similaridade entre strings usando código python simples"
   ]
  },
  {
   "cell_type": "code",
   "execution_count": null,
   "metadata": {},
   "outputs": [],
   "source": [
    "from difflib import ndiff\n",
    "\n",
    "def calculate_levenshtein_distance(str_1, str_2):\n",
    "    str_1=str_1.lower()\n",
    "    str_2=str_2.lower()\n",
    "    \"\"\"\n",
    "        The Levenshtein distance is a string metric for measuring the difference between two sequences.\n",
    "        It is calculated as the minimum number of single-character edits necessary to transform one string into another\n",
    "    \"\"\"\n",
    "    distance = 0\n",
    "    buffer_removed = buffer_added = 0\n",
    "    for x in ndiff(str_1, str_2):\n",
    "        code = x[0]\n",
    "        # Code ? is ignored as it does not translate to any modification\n",
    "        if code == ' ':\n",
    "            distance += max(buffer_removed, buffer_added)\n",
    "            buffer_removed = buffer_added = 0\n",
    "        elif code == '-':\n",
    "            buffer_removed += 1\n",
    "        elif code == '+':\n",
    "            buffer_added += 1\n",
    "    distance += max(buffer_removed, buffer_added)\n",
    "    return distance"
   ]
  },
  {
   "cell_type": "code",
   "execution_count": null,
   "metadata": {},
   "outputs": [],
   "source": [
    "calculate_levenshtein_distance('trato para gato', 'trato para rato')"
   ]
  },
  {
   "cell_type": "markdown",
   "metadata": {},
   "source": [
    "# Levenshtein\n",
    "Calculando similaridade entre strings usando a biblioteca própria"
   ]
  },
  {
   "cell_type": "code",
   "execution_count": null,
   "metadata": {},
   "outputs": [],
   "source": [
    "from Levenshtein import distance as lev\n",
    "#calculate Levenshtein distance\n",
    "lev('grato pelo prato'.lower(), 'farto pelo prato'.lower())"
   ]
  },
  {
   "cell_type": "code",
   "execution_count": null,
   "metadata": {},
   "outputs": [],
   "source": [
    "#define arrays\n",
    "a = ['Mavs Rockets', 'Spurs', 'Lakers', 'Cavs', 'extra','trato para gato']\n",
    "b = ['Mavs', 'Pacers', 'Warriors', 'Celtics', 'extra', 'trato para rato']\n",
    "\n",
    "#calculate Levenshtein distance between two arrays\n",
    "for i,k in zip(a, b):\n",
    "  print ('i=',i ,'      k=',k, end= '   ')\n",
    "  print('{0:<30}'.format(lev(i, k)))"
   ]
  },
  {
   "cell_type": "code",
   "execution_count": null,
   "metadata": {},
   "outputs": [],
   "source": [
    "us_txt = [\"I'd like to perform a test about the different translation of same source text.\", \"So I'm testing the Levenshtein library.\", \"And these are my first attempts.\"]\n",
    "br1_txt = [\"Gostaria de testar as diferentes traduções do mesmo texto de origem.\", \"Então estou testando a biblioteca Levenshtein.\", \"E estas são minhas primeiras tentativas.\"]\n",
    "br2_txt = [\"Eu gostaria de testar as diferentes traduções do mesmo texto de origem.\", \"Então eu estou testando a biblioteca Levenshtein.\", \"Aqui estão as minhas primeiras tentativas.\"]\n",
    "#calculate Levenshtein distance between two arrays\n",
    "for s,t1,t2 in zip(us_txt, br1_txt, br2_txt):\n",
    "  print (s)\n",
    "  print (t1)\n",
    "  print (t2)\n",
    "  print('Levenshtein distance:', lev(t1, t2))\n",
    "  print ('-------------------------')"
   ]
  },
  {
   "cell_type": "code",
   "execution_count": null,
   "metadata": {},
   "outputs": [],
   "source": [
    "source_txt = [\"Oh, yeah, I’ll tell you something\",\"I think you’ll understand\",\"When I say that something\",\"I wanna hold your hand\"]\n",
    "br1_txt = [\"Oh, sim, eu direi algo a você\",\"Eu acho que você entenderá\",\"Quando eu digo aquela coisa\",\"Eu quero segurar a sua mão\"]\n",
    "br2_txt = [\"Ah, sim, vou lhe dizer uma coisa\",\"Acho que você já sabe\",\"Que quando eu digo esta coisa\",\"Eu quero segurar a sua mão\",]\n",
    "\n",
    "total_source = 0\n",
    "total_lev = 0 \n",
    "for s,t1,t2 in zip(source_txt[:4], br1_txt, br2_txt):\n",
    "  Levenshtein = lev(t1, t2)\n",
    "  print (s)\n",
    "  print (t1)\n",
    "  print (t2)\n",
    "  print('Total de caracteres:', len(s),'  Levenshtein distance:', Levenshtein)\n",
    "  print ('-------------------------')\n",
    "  total_source = total_source + len(s)\n",
    "  total_lev = total_lev + Levenshtein\n",
    "print ('total_source:',total_source, '  total_lev:',total_lev)\n"
   ]
  }
 ],
 "metadata": {
  "kernelspec": {
   "display_name": "Python 3",
   "language": "python",
   "name": "python3"
  },
  "language_info": {
   "codemirror_mode": {
    "name": "ipython",
    "version": 3
   },
   "file_extension": ".py",
   "mimetype": "text/x-python",
   "name": "python",
   "nbconvert_exporter": "python",
   "pygments_lexer": "ipython3",
   "version": "3.7.3 (default, Mar 27 2019, 17:13:21) [MSC v.1915 64 bit (AMD64)]"
  },
  "vscode": {
   "interpreter": {
    "hash": "ad2bdc8ecc057115af97d19610ffacc2b4e99fae6737bb82f5d7fb13d2f2c186"
   }
  }
 },
 "nbformat": 4,
 "nbformat_minor": 2
}
